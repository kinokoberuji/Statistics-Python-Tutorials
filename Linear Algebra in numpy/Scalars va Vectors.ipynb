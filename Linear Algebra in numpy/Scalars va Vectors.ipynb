{
 "cells": [
  {
   "cell_type": "markdown",
   "id": "disturbed-institution",
   "metadata": {},
   "source": [
    "# Đại số tuyến tính với numpy\n",
    "\n",
    "## Bài 2: Scalar và Vector\n",
    "\n",
    "**BS Lê Ngọc Khả Nhi**"
   ]
  },
  {
   "cell_type": "code",
   "execution_count": 1,
   "id": "hawaiian-pottery",
   "metadata": {},
   "outputs": [],
   "source": [
    "import numpy as np\n",
    "import matplotlib.pyplot as plt"
   ]
  },
  {
   "cell_type": "markdown",
   "id": "large-stability",
   "metadata": {},
   "source": [
    "### Scalar\n",
    "\n",
    "Scalar (tạm dịch: đại lượng, con số/giá trị vô hướng) là nhân tố nhỏ nhất trong vùng đất đại số tuyến tính mà ta sẽ khám phá. \n",
    "\n",
    "Scalar là một đơn vị thông tin chỉ có thuộc tính duy nhất là độ lớn. Hiểu một cách đơn giản, scalar chỉ là 1 con số đơn lẻ. "
   ]
  },
  {
   "cell_type": "code",
   "execution_count": 2,
   "id": "olive-brighton",
   "metadata": {},
   "outputs": [
    {
     "data": {
      "text/plain": [
       "0.1549398"
      ]
     },
     "execution_count": 2,
     "metadata": {},
     "output_type": "execute_result"
    }
   ],
   "source": [
    "# đây là scalar\n",
    "\n",
    "0.1549398"
   ]
  },
  {
   "cell_type": "code",
   "execution_count": 3,
   "id": "executive-going",
   "metadata": {},
   "outputs": [
    {
     "data": {
      "text/plain": [
       "99999"
      ]
     },
     "execution_count": 3,
     "metadata": {},
     "output_type": "execute_result"
    }
   ],
   "source": [
    "# đây cũng là 1 scalar\n",
    "\n",
    "99999"
   ]
  },
  {
   "cell_type": "markdown",
   "id": "antique-labor",
   "metadata": {},
   "source": [
    "Tuy chỉ là 1 con số, nhưng scalar không phải là vô nghĩa. Để hình dung về ý nghĩa của scalar, ta có thể liên hệ với thế giới nghiên cứu/y học lâm sàng mà ta vẫn sống, trong đó ta thường có nhu cầu đo lường một đại lượng, thí dụ đơn giản nhất là đếm tần suất, đo chiều cao, cân nặng hay định lượng nồng độ 1 chất, vv. Kết quả của phép đo này là 1 số tự nhiên (phép đếm) hoặc số thực (phép đo chính xác). Mỗi kết quả đo/đếm như vậy chính là 1 scalar.\n",
    "\n",
    "### Vector\n",
    "\n",
    "**Giới thiệu** \n",
    "\n",
    "Một cách tự nhiên, ta sẽ nhận ra là những con số rời rạc như scalar không giúp ích gì cả trong việc phân tích dữ liệu. Trong thực tế, ta thường muốn kết hợp nhiều thông tin khi mô tả về 1 cá thể, thí dụ bệnh nhân A đặc trưng bởi BMI = 35, Huyết áp = 130/90 và đường huyết = 127 mg/dL; hoặc khảo sát 1 đại lượng trên hàng loạt cá thể, thí dụ đo cân nặng của một nhóm 5-6 con chuột... \n",
    "\n",
    "Lúc này, ta có 1 danh sách gồm nhiều con số (scalar), theo thứ tự xác định. Cấu trúc này được gọi là vector. \n",
    "\n",
    "**Kí hiệu**\n",
    "\n",
    "Trong văn bản toán học, vector thường kí hiệu bằng 1 chữ thường, thí dụ vector **$v$** , nội dung của nó được trình bày chi tiết bằng 2 dấu ngoặc đơn hay ngoặc vuông (nếu xem vector là 1 trường hợp đặc biệt của matrix - ta sẽ tìm hiểu sau), theo chiều ngang hay dọc\n",
    "\n",
    "Vector v\n",
    "\n",
    "$v = \\left (v_{1},  v_{2}, v_{3},\\cdots,v_{n}\\right)$\n",
    "\n",
    "$$v = [v_{1},  v_{2}, v_{3},\\cdots,v_{n}]$$\n",
    "\n",
    "$v = \\begin{pmatrix}\n",
    "v_{1}\\\\v_{2}\\\\v_{3}\\\\\\vdots\\\\v_{n}\n",
    "\\end{pmatrix}$\n",
    "\n",
    "$ v = \\begin{bmatrix}v_{1}\\\\v_{2}\\\\v_{3}\\\\\\vdots\\\\v_{n}\\end{bmatrix}$\n",
    "\n",
    "Mỗi phần tử bên trong vector chính là 1 scalar\n",
    "\n",
    "Một vector có kích thước $n$ = số phần tử trong tập hợp, và viết là: $n$ -vector\n",
    "\n",
    "Hai vector được xem là bằng nhau, kí hiệu : $a = b$ nếu chúng có kích thước như nhau (đều có $n$ phần tử), và các phần tử bằng nhau từng đôi một: $a_{1}= b_{1}, ... a_{n}= b_{n}$\n",
    "\n",
    "**Liên hệ với numpy**\n",
    "\n",
    "Vector tương ứng với numpy array 1 chiều, thông thường dùng float number (float32 hoặc float64, tùy mức độ chính xác mà bạn mong muốn)"
   ]
  },
  {
   "cell_type": "code",
   "execution_count": 4,
   "id": "informative-legislature",
   "metadata": {},
   "outputs": [
    {
     "data": {
      "text/plain": [
       "array([1., 2., 3., 4.])"
      ]
     },
     "execution_count": 4,
     "metadata": {},
     "output_type": "execute_result"
    }
   ],
   "source": [
    "# Tạo vector từ lst\n",
    "v = np.array([1.,2.,3.,4.])\n",
    "\n",
    "v"
   ]
  },
  {
   "cell_type": "code",
   "execution_count": 5,
   "id": "special-friend",
   "metadata": {},
   "outputs": [
    {
     "data": {
      "text/plain": [
       "array([1., 2., 3., 4.])"
      ]
     },
     "execution_count": 5,
     "metadata": {},
     "output_type": "execute_result"
    }
   ],
   "source": [
    "# Tạo vector từ tuple\n",
    "\n",
    "v = np.array((1.,2.,3.,4,))\n",
    "\n",
    "v"
   ]
  },
  {
   "cell_type": "code",
   "execution_count": 6,
   "id": "forced-sherman",
   "metadata": {},
   "outputs": [
    {
     "data": {
      "text/plain": [
       "array([0., 1., 2., 3., 4.], dtype=float32)"
      ]
     },
     "execution_count": 6,
     "metadata": {},
     "output_type": "execute_result"
    }
   ],
   "source": [
    "# tạo vector từ iteratable object:\n",
    "\n",
    "v = np.array(range(5), dtype = 'float32')\n",
    "\n",
    "v"
   ]
  },
  {
   "cell_type": "code",
   "execution_count": 7,
   "id": "oriental-figure",
   "metadata": {},
   "outputs": [
    {
     "data": {
      "text/plain": [
       "array([0, 2, 4, 6, 8])"
      ]
     },
     "execution_count": 7,
     "metadata": {},
     "output_type": "execute_result"
    }
   ],
   "source": [
    "# Tạo vector từ comprehension:\n",
    "\n",
    "v = np.array([i for i in [0,1,2,3,4,5,6,7,8] if( i%2 == 0)])  # tất cả số chẵn\n",
    "\n",
    "v"
   ]
  },
  {
   "cell_type": "markdown",
   "id": "urban-assumption",
   "metadata": {},
   "source": [
    "Như ta biết, vector có trình tự nhất định, được đánh dấu bằng index, ta có thể truy nhập giá trị của 1 phần tử hay hàng loạt, sử dụng cơ chế indexing, slicing mà bài 1 đã giới thiệu\n",
    "\n",
    "**Liên hệ với lập trình thống kê**\n",
    "\n",
    "Như đã giải thích ở trên, vector phục vụ cho nhu cầu khảo sát hàng loạt giá trị theo một trình tự xác định, tương đương với khái niệm chiều thông tin (dimension) trong thống kê, vector có thể là 1 đơn vị quan sát cắt ngang của $n$ đại lượng khác nhau (1 hàng trong bảng dữ liệu n cột), hoặc toàn bộ quan sát của 1 đại lượng (biến) v duy nhất trên $n$ trường hợp (1 cột n hàng trong bảng dữ liệu).\n",
    "\n",
    "**vector trong không gian**\n",
    "\n",
    "Thú vị hơn, đó là vector có thể được biểu diễn thành hình ảnh trong không gian 2 chiều, 3 chiều (và một khi bạn hiểu về bản chất của nó, có thể hình dung về nó trong không gian đến $n$ chiều).\n",
    "\n",
    "Trong một không gian n chiều, vector có thể hình dung như 1 mũi tên nối 2 điểm OA, O là một điểm mốc, gốc của hệ tọa độ, A là một bộ số tọa độ có n giá trị. Định hướng hay chiều của mũi tên, cho biết nó sẽ dẫn ta đi từ O về phía A, độ lớn cho biết khoảng đường mà ta sẽ đi qua.\n",
    "\n",
    "Bắt đầu đơn giản nhất với không gian 2 chiều. Bạn còn nhớ môn Vật lý thời Phổ thông ?, trong phần Cơ học ta được giới thiệu về vector và dùng nó biểu diễn cho các yếu tố như lực, gia tốc..., theo đó, vector là 1 mũi tên có định hướng và có độ lớn. \n",
    "\n",
    "Hãy tưởng tượng về một không gian trống rỗng có 2 chiều (mặt phẳng tọa độ), chưa có bất kì phần tử nào. Trong không gian trống này, ta chấm một điểm gốc, gọi là gốc tọa độ O. Qua điểm gốc này, ta vẽ ra 2 trục vuông góc với nhau, lần lượt là OX, OY. Với mỗi trục ta lại chọn một hướng đi trên trục làm chiều dương.\n",
    "\n",
    "Hàm Python sau đây cho phép vẽ những mũi tên xuất phát từ gốc O và chỉ đến bất cứ điểm nào trong không gian 2 chiều (mặt phẳng) OXY này, thí dụ mũi tên a nối O và điểm A, mũi tên b đến đểm B; mỗi mũi tên như vậy thể hiện một bộ số có thứ tự là tọa độ của A (ax, ay), hoặc B (bx, by), đó là những vectors:"
   ]
  },
  {
   "cell_type": "code",
   "execution_count": 8,
   "id": "empirical-source",
   "metadata": {},
   "outputs": [],
   "source": [
    "def draw_vectors_2D(*args, cols = None):\n",
    "    \n",
    "    plt.figure(figsize=(6,6))\n",
    "    plt.grid()\n",
    "    plt.title('2D vectors')\n",
    "    for i,v in enumerate([*args]):\n",
    "    \n",
    "        plt.xlim(-10,10)\n",
    "        plt.ylim(-10,10)\n",
    "        plt.hlines(0,-10,10,color='k',lw=0.5)\n",
    "        plt.vlines(0,-10,10,color='k',lw=0.5)\n",
    "        plt.arrow(0,0,v[0],v[1],head_width=0.5, width=0.1, color = cols[i])\n",
    "        \n",
    "    plt.show"
   ]
  },
  {
   "cell_type": "markdown",
   "id": "computational-maria",
   "metadata": {},
   "source": [
    "Sử dụng hàm này, ta sẽ vẽ 3 vector a = [3,2.5], vector b = [3,-6] và c = [-7,5]"
   ]
  },
  {
   "cell_type": "code",
   "execution_count": 9,
   "id": "breathing-gasoline",
   "metadata": {},
   "outputs": [
    {
     "data": {
      "image/png": "[encoded data removed]",
      "text/plain": [
       "<Figure size 432x432 with 1 Axes>"
      ]
     },
     "metadata": {
      "needs_background": "light"
     },
     "output_type": "display_data"
    }
   ],
   "source": [
    "draw_vectors_2D(np.array([3,2.5]),\n",
    "                np.array([3,-6]),\n",
    "                np.array([-7,5]),\n",
    "                cols = ['r','g','b'])"
   ]
  },
  {
   "cell_type": "markdown",
   "id": "vulnerable-london",
   "metadata": {},
   "source": [
    "Bây giờ ta làm tương tự cho một không gian 3 chiều OXYZ, với 1 hàm tương tự cho phép vẽ bất cứ mũi tên nào xuất phát từ gốc O đến 1 điểm A có tọa độ [ax, ay, az), thế là ta có 1 vector a\n",
    "\n",
    "Như vậy, vector cũng có thể được hình dung như bộ số tọa độ của một điểm trong không gian n chiều, hoặc như 1 mũi tên có phương hướng từ tọa độ gốc của không gian vector đến điểm này."
   ]
  },
  {
   "cell_type": "code",
   "execution_count": 10,
   "id": "moral-stephen",
   "metadata": {},
   "outputs": [],
   "source": [
    "from matplotlib.patches import FancyArrowPatch\n",
    "from mpl_toolkits.mplot3d.proj3d import proj_transform\n",
    "from mpl_toolkits.mplot3d.axes3d import Axes3D"
   ]
  },
  {
   "cell_type": "code",
   "execution_count": 11,
   "id": "comic-range",
   "metadata": {},
   "outputs": [],
   "source": [
    "class Arrow3D(FancyArrowPatch):\n",
    "\n",
    "    def __init__(self, x, y, z, dx, dy, dz, *args, **kwargs):\n",
    "        super().__init__((0, 0), (0, 0), *args, **kwargs)\n",
    "        self._xyz = (x, y, z)\n",
    "        self._dxdydz = (dx, dy, dz)\n",
    "\n",
    "    def draw(self, renderer):\n",
    "        x1, y1, z1 = self._xyz\n",
    "        dx, dy, dz = self._dxdydz\n",
    "        x2, y2, z2 = (x1 + dx, y1 + dy, z1 + dz)\n",
    "\n",
    "        xs, ys, zs = proj_transform((x1, x2), (y1, y2), (z1, z2), self.axes.M)\n",
    "        self.set_positions((xs[0], ys[0]), (xs[1], ys[1]))\n",
    "        super().draw(renderer)\n",
    "    \n",
    "    def _arrow3D(ax, x, y, z, dx, dy, dz, *args, **kwargs):\n",
    "        arrow = Arrow3D(x, y, z, dx, dy, dz, *args, **kwargs)\n",
    "        ax.add_artist(arrow)\n",
    "    \n",
    "    setattr(Axes3D, 'arrow3D', _arrow3D)"
   ]
  },
  {
   "cell_type": "code",
   "execution_count": 12,
   "id": "radio-empty",
   "metadata": {},
   "outputs": [],
   "source": [
    "def draw_vectors_3D(*args, cols = None):\n",
    "            \n",
    "    fig = plt.figure(figsize=(6,6))\n",
    "    ax = fig.add_subplot(111, projection='3d')\n",
    "    ax.set_title('3D vectors')\n",
    "    \n",
    "    ax.set_zlim3d(-10, 10)\n",
    "    ax.set_ylim3d(-10, 10)\n",
    "    ax.set_xlim3d(-10, 10)  \n",
    "    ax.plot([0,0],[-10,10],[0,0], 'k', lw = 0.5,)\n",
    "    ax.plot([-10,10],[0,0],[0,0], 'k', lw = 0.5,)\n",
    "    ax.plot([0,0],[0,0],[-10,10], 'k', lw = 0.5,)\n",
    "\n",
    "    for i,v in enumerate([*args]):\n",
    "        \n",
    "        ax.arrow3D(0,0,0,\n",
    "                   v[0],v[1],v[2],\n",
    "                   mutation_scale=6,\n",
    "                   color = cols[i])\n",
    "        \n",
    "    ax.set_xlabel('x')\n",
    "    ax.set_ylabel('y')\n",
    "    ax.set_zlabel('z')\n",
    "    fig.tight_layout()"
   ]
  },
  {
   "cell_type": "code",
   "execution_count": 13,
   "id": "adult-flush",
   "metadata": {},
   "outputs": [
    {
     "data": {
      "image/png": "[encoded data removed]",
      "text/plain": [
       "<Figure size 432x432 with 1 Axes>"
      ]
     },
     "metadata": {
      "needs_background": "light"
     },
     "output_type": "display_data"
    }
   ],
   "source": [
    "draw_vectors_3D(np.array([1,5,3]),\n",
    "                np.array([2,-6,-5]),\n",
    "                np.array([-7,5,3]),\n",
    "                cols = ['r','g','b'])"
   ]
  },
  {
   "cell_type": "markdown",
   "id": "wanted-dialogue",
   "metadata": {},
   "source": [
    "### Một số vector đặc biệt\n",
    "\n",
    "**vector không**\n",
    "\n",
    "zero vector là 1 vector mà toàn bộ phần tử = 0, vector không kích thước $n$ được viết là $0{_n}$\n",
    "\n",
    "vector 0 tương ứng với np.zeros với size 1 chiều n:"
   ]
  },
  {
   "cell_type": "code",
   "execution_count": 59,
   "id": "scenic-hollywood",
   "metadata": {},
   "outputs": [
    {
     "data": {
      "text/plain": [
       "array([0., 0., 0., 0., 0., 0., 0., 0., 0., 0.])"
      ]
     },
     "execution_count": 59,
     "metadata": {},
     "output_type": "execute_result"
    }
   ],
   "source": [
    "a = np.zeros(10)\n",
    "\n",
    "a"
   ]
  },
  {
   "cell_type": "markdown",
   "id": "hired-metallic",
   "metadata": {},
   "source": [
    "**vector đơn vị**\n",
    "\n",
    "Vector đơn vị (unit vector) mà 1 vector mà toàn bộ phần tử đều = 0, ngoại trừ 1 phần tử ở vị trí i có giá trị = 1:"
   ]
  },
  {
   "cell_type": "code",
   "execution_count": 62,
   "id": "brown-carter",
   "metadata": {},
   "outputs": [],
   "source": [
    "u1 = np.array([1,0,1])\n",
    "u2 = np.array([[0],[1],[0]])\n",
    "u3 = np.array([[0],[0],[1]])\n",
    "\n",
    "# 3 vector đơn vị"
   ]
  },
  {
   "cell_type": "code",
   "execution_count": 64,
   "id": "intended-eugene",
   "metadata": {},
   "outputs": [
    {
     "data": {
      "text/plain": [
       "(array([1, 0, 1]),\n",
       " array([[0],\n",
       "        [1],\n",
       "        [0]]),\n",
       " array([[0],\n",
       "        [0],\n",
       "        [1]]))"
      ]
     },
     "execution_count": 64,
     "metadata": {},
     "output_type": "execute_result"
    }
   ],
   "source": [
    "u1,u2,u3"
   ]
  },
  {
   "cell_type": "markdown",
   "id": "institutional-tenant",
   "metadata": {},
   "source": [
    "### Một số phép tính đại số trên vector\n",
    "\n",
    "**Phép cộng vector**\n",
    "\n",
    "Ta có thể hình ảnh hóa phép cộng vector theo cơ chế như sau: như đã nói ở trên, vector có thể hình dung như 1 hành trình từ điểm này đến điểm khác trong không gian, nếu như ta muốn đi từ O đến B ta có thể đi theo 2 cách: hoặc đi thẳng từ O đến B, hoặc chia thành 2 chặng: O đến A, tiếp theo A đến B: \n",
    "\n",
    "![vector_add](http://media5.datahacker.rs/2020/03/Picture40-768x543.jpg)\n",
    "\n",
    "Tổng của 2 vector a,b cùng kích thước là một vector c cùng kích thước, mỗi phần tử trong c = tổng của 2 phần tử ai + bi\n",
    "\n",
    "$a = \\left (a_{1},  a_{2}, a_{3}, ... a_{i}\\right )$\n",
    "\n",
    "$b = \\left (b_{1},  b_{2}, b_{3}, ... b_{i}\\right )$\n",
    "\n",
    "$c = a + b = \\left (b_{1} + a_{1},  b_{2} + a_{2}, b_{3} + a_{3}, ... b_{i} + a_{i}\\right )$"
   ]
  },
  {
   "cell_type": "code",
   "execution_count": 14,
   "id": "suspended-disney",
   "metadata": {},
   "outputs": [
    {
     "data": {
      "text/plain": [
       "array([0.69646919, 0.28613933, 0.22685145, 0.55131477, 0.71946897,\n",
       "       0.42310646, 0.9807642 , 0.68482974, 0.4809319 , 0.39211752])"
      ]
     },
     "execution_count": 14,
     "metadata": {},
     "output_type": "execute_result"
    }
   ],
   "source": [
    "np.random.seed(123)\n",
    "\n",
    "a = np.random.random(10)\n",
    "\n",
    "a"
   ]
  },
  {
   "cell_type": "code",
   "execution_count": 15,
   "id": "formal-future",
   "metadata": {},
   "outputs": [
    {
     "data": {
      "text/plain": [
       "array([ 1,  2,  3,  4,  5,  6,  7,  8,  9, 10])"
      ]
     },
     "execution_count": 15,
     "metadata": {},
     "output_type": "execute_result"
    }
   ],
   "source": [
    "b = np.arange(1,11)\n",
    "\n",
    "b"
   ]
  },
  {
   "cell_type": "code",
   "execution_count": 16,
   "id": "attractive-undergraduate",
   "metadata": {},
   "outputs": [
    {
     "data": {
      "text/plain": [
       "array([ 1.69646919,  2.28613933,  3.22685145,  4.55131477,  5.71946897,\n",
       "        6.42310646,  7.9807642 ,  8.68482974,  9.4809319 , 10.39211752])"
      ]
     },
     "execution_count": 16,
     "metadata": {},
     "output_type": "execute_result"
    }
   ],
   "source": [
    "a + b  # Chú ý: khi cộng 2 vector khác datatype (float + int), kết quả sẽ là float"
   ]
  },
  {
   "cell_type": "code",
   "execution_count": 17,
   "id": "structured-palmer",
   "metadata": {},
   "outputs": [
    {
     "data": {
      "text/plain": [
       "array([ True,  True,  True,  True,  True,  True,  True,  True,  True,\n",
       "        True])"
      ]
     },
     "execution_count": 17,
     "metadata": {},
     "output_type": "execute_result"
    }
   ],
   "source": [
    "c = np.array([True for i in range(10)]) \n",
    "\n",
    "c"
   ]
  },
  {
   "cell_type": "code",
   "execution_count": 18,
   "id": "statewide-oakland",
   "metadata": {},
   "outputs": [
    {
     "data": {
      "text/plain": [
       "array([1.69646919, 1.28613933, 1.22685145, 1.55131477, 1.71946897,\n",
       "       1.42310646, 1.9807642 , 1.68482974, 1.4809319 , 1.39211752])"
      ]
     },
     "execution_count": 18,
     "metadata": {},
     "output_type": "execute_result"
    }
   ],
   "source": [
    "a + c # Khi cộng float và boolean value, giá trị True xem như 1, False xem như = 0"
   ]
  },
  {
   "cell_type": "markdown",
   "id": "electronic-desperate",
   "metadata": {},
   "source": [
    "Phép cộng vector có tính giao hoán:\n",
    "\n",
    "a + b = b + a"
   ]
  },
  {
   "cell_type": "code",
   "execution_count": 19,
   "id": "partial-acoustic",
   "metadata": {},
   "outputs": [
    {
     "data": {
      "text/plain": [
       "array([ True,  True,  True,  True,  True,  True,  True,  True,  True,\n",
       "        True])"
      ]
     },
     "execution_count": 19,
     "metadata": {},
     "output_type": "execute_result"
    }
   ],
   "source": [
    "x = a + b\n",
    "\n",
    "y = b + a\n",
    "\n",
    "x == y"
   ]
  },
  {
   "cell_type": "markdown",
   "id": "domestic-round",
   "metadata": {},
   "source": [
    "Và tính kết hợp:\n",
    "\n",
    "(a + b) + c = a + (b + c)"
   ]
  },
  {
   "cell_type": "code",
   "execution_count": 20,
   "id": "yellow-arena",
   "metadata": {},
   "outputs": [
    {
     "data": {
      "text/plain": [
       "array([ True,  True,  True,  True,  True,  True,  True,  True,  True,\n",
       "        True])"
      ]
     },
     "execution_count": 20,
     "metadata": {},
     "output_type": "execute_result"
    }
   ],
   "source": [
    "x = (a + b) + c\n",
    "\n",
    "y = a + (b + c)\n",
    "\n",
    "x == y"
   ]
  },
  {
   "cell_type": "code",
   "execution_count": 21,
   "id": "reserved-briefs",
   "metadata": {},
   "outputs": [
    {
     "data": {
      "text/plain": [
       "array([ 2.69646919,  3.28613933,  4.22685145,  5.55131477,  6.71946897,\n",
       "        7.42310646,  8.9807642 ,  9.68482974, 10.4809319 , 11.39211752])"
      ]
     },
     "execution_count": 21,
     "metadata": {},
     "output_type": "execute_result"
    }
   ],
   "source": [
    "a + b + c"
   ]
  },
  {
   "cell_type": "markdown",
   "id": "future-stewart",
   "metadata": {},
   "source": [
    "**Trừ vector**\n",
    "\n",
    "Tương tự, ta có thể trừ 2 vector có cùng kích thước:\n",
    "\n",
    "$a = \\left (a_{1},  a_{2}, a_{3}, ... a_{i}\\right )$\n",
    "\n",
    "$b = \\left (b_{1},  b_{2}, b_{3}, ... b_{i}\\right )$\n",
    "\n",
    "$c = b - a  = \\left (b_{1} - a_{1},  b_{2} - a_{2}, b_{3} - a_{3}, ... b_{i} - a_{i}\\right )$"
   ]
  },
  {
   "cell_type": "code",
   "execution_count": 22,
   "id": "essential-taste",
   "metadata": {},
   "outputs": [
    {
     "data": {
      "text/plain": [
       "array([-0.30353081, -1.71386067, -2.77314855, -3.44868523, -4.28053103,\n",
       "       -5.57689354, -6.0192358 , -7.31517026, -8.5190681 , -9.60788248])"
      ]
     },
     "execution_count": 22,
     "metadata": {},
     "output_type": "execute_result"
    }
   ],
   "source": [
    "a - b"
   ]
  },
  {
   "cell_type": "markdown",
   "id": "athletic-faculty",
   "metadata": {},
   "source": [
    "**Nhân vector**\n",
    "\n",
    "Tương tự, ta có phép nhân 2 vector cùng kích thước:\n",
    "\n",
    "$a = \\left (a_{1},  a_{2}, a_{3}, ... a_{i}\\right )$\n",
    "\n",
    "$b = \\left (b_{1},  b_{2}, b_{3}, ... b_{i}\\right )$\n",
    "\n",
    "$c = a \\times b  = \\left (b_{1} \\times a_{1},  b_{2} \\times a_{2}, b_{3} \\times a_{3}, ... b_{i} \\times a_{i}\\right )$"
   ]
  },
  {
   "cell_type": "code",
   "execution_count": 23,
   "id": "forward-packaging",
   "metadata": {},
   "outputs": [
    {
     "data": {
      "text/plain": [
       "array([-2,  0,  2,  0, -2,  0,  2,  0, -2,  0])"
      ]
     },
     "execution_count": 23,
     "metadata": {},
     "output_type": "execute_result"
    }
   ],
   "source": [
    "c = np.array([-2,0,2,0,-2,0,2,0,-2,0])\n",
    "\n",
    "c"
   ]
  },
  {
   "cell_type": "code",
   "execution_count": 24,
   "id": "retained-sculpture",
   "metadata": {},
   "outputs": [
    {
     "data": {
      "text/plain": [
       "array([-1.39293837,  0.        ,  0.45370291,  0.        , -1.43893794,\n",
       "        0.        ,  1.9615284 ,  0.        , -0.9618638 ,  0.        ])"
      ]
     },
     "execution_count": 24,
     "metadata": {},
     "output_type": "execute_result"
    }
   ],
   "source": [
    "a * c"
   ]
  },
  {
   "cell_type": "markdown",
   "id": "double-neighbor",
   "metadata": {},
   "source": [
    "**Chia vector**\n",
    "\n",
    "$a = \\left (a_{1},  a_{2}, a_{3}, ... a_{i}\\right )$\n",
    "\n",
    "$b = \\left (b_{1},  b_{2}, b_{3}, ... b_{i}\\right )$\n",
    "\n",
    "$c = a/b  = \\left (a_{1} /b_{1}, a_{2}/b_{2}, a_{3}/b_{3}, ... a_{i}/b_{i}\\right )$"
   ]
  },
  {
   "cell_type": "code",
   "execution_count": 25,
   "id": "charged-tucson",
   "metadata": {},
   "outputs": [
    {
     "data": {
      "text/plain": [
       "array([0.69646919, 0.14306967, 0.07561715, 0.13782869, 0.14389379,\n",
       "       0.07051774, 0.14010917, 0.08560372, 0.05343688, 0.03921175])"
      ]
     },
     "execution_count": 25,
     "metadata": {},
     "output_type": "execute_result"
    }
   ],
   "source": [
    "a/b"
   ]
  },
  {
   "cell_type": "markdown",
   "id": "killing-embassy",
   "metadata": {},
   "source": [
    "**Vector broadcasting**\n",
    "\n",
    "Trong numpy, ta có thể thực hiện các phép toán trên vector (array 1 chiều) giống như 1 con số, thí dụ hàm mũ, khai căn, hoán chuyển logarit, ... vì numpy sử dụng cơ chế array broadcasting:"
   ]
  },
  {
   "cell_type": "code",
   "execution_count": 26,
   "id": "rising-graduation",
   "metadata": {},
   "outputs": [
    {
     "data": {
      "text/plain": [
       "array([0.34317802, 0.72904971, 0.43857224, 0.0596779 , 0.39804426,\n",
       "       0.73799541, 0.18249173, 0.17545176, 0.53155137, 0.53182759])"
      ]
     },
     "execution_count": 26,
     "metadata": {},
     "output_type": "execute_result"
    }
   ],
   "source": [
    "a = np.random.rand(10)\n",
    "\n",
    "a"
   ]
  },
  {
   "cell_type": "code",
   "execution_count": 27,
   "id": "yellow-extreme",
   "metadata": {},
   "outputs": [
    {
     "data": {
      "text/plain": [
       "array([1.40941964, 2.07310961, 1.55049191, 1.06149458, 1.48890992,\n",
       "       2.09173822, 1.20020423, 1.19178449, 1.70157003, 1.70204009])"
      ]
     },
     "execution_count": 27,
     "metadata": {},
     "output_type": "execute_result"
    }
   ],
   "source": [
    "np.exp(a) # hàm mũ"
   ]
  },
  {
   "cell_type": "code",
   "execution_count": 28,
   "id": "closing-algorithm",
   "metadata": {},
   "outputs": [
    {
     "data": {
      "text/plain": [
       "array([-1.06950597, -0.31601336, -0.82423073, -2.81879357, -0.92119209,\n",
       "       -0.30381768, -1.70105042, -1.74039117, -0.63195543, -0.63143593])"
      ]
     },
     "execution_count": 28,
     "metadata": {},
     "output_type": "execute_result"
    }
   ],
   "source": [
    "np.log(a) # hàm log"
   ]
  },
  {
   "cell_type": "code",
   "execution_count": 29,
   "id": "acceptable-macedonia",
   "metadata": {},
   "outputs": [
    {
     "data": {
      "text/plain": [
       "array([0.11777115, 0.53151348, 0.19234561, 0.00356145, 0.15843923,\n",
       "       0.54463722, 0.03330323, 0.03078332, 0.28254686, 0.28284058])"
      ]
     },
     "execution_count": 29,
     "metadata": {},
     "output_type": "execute_result"
    }
   ],
   "source": [
    "a**2 #bình phương"
   ]
  },
  {
   "cell_type": "code",
   "execution_count": 30,
   "id": "unauthorized-danger",
   "metadata": {},
   "outputs": [
    {
     "data": {
      "text/plain": [
       "array([0.58581398, 0.85384408, 0.66224787, 0.2442906 , 0.63090749,\n",
       "       0.85906659, 0.42719051, 0.41886962, 0.7290757 , 0.7292651 ])"
      ]
     },
     "execution_count": 30,
     "metadata": {},
     "output_type": "execute_result"
    }
   ],
   "source": [
    "a**0.5 #căn bậc 2"
   ]
  },
  {
   "cell_type": "code",
   "execution_count": 32,
   "id": "tutorial-cassette",
   "metadata": {},
   "outputs": [
    {
     "data": {
      "text/plain": [
       "array([0.58581398, 0.85384408, 0.66224787, 0.2442906 , 0.63090749,\n",
       "       0.85906659, 0.42719051, 0.41886962, 0.7290757 , 0.7292651 ])"
      ]
     },
     "execution_count": 32,
     "metadata": {},
     "output_type": "execute_result"
    }
   ],
   "source": [
    "np.sqrt(a) # căn bậc 2"
   ]
  },
  {
   "cell_type": "markdown",
   "id": "piano-preference",
   "metadata": {},
   "source": [
    "**Tích vô hướng (dot product  scalar product)**\n",
    "\n",
    "Đây là một phép toán đại số trên hai vector có độ dài bằng nhau và cho kết quả là một con số (scalar: vô hướng), \n",
    "\n",
    "Cho 2 vector a và b có i phần tử,\n",
    "\n",
    "$a = \\left (a_{1},  a_{2}, a_{3}, ... a_{i}\\right )$\n",
    "\n",
    "$b = \\left (b_{1},  b_{2}, b_{3}, ... b_{i}\\right )$\n",
    "\n",
    "Tích vô hướng của a và b là:\n",
    "\n",
    "$a @ b  = \\left (a_{1} \\times b_{1} +  a_{2} \\times b_{2} + a_{3} \\times b_{3}, ... + a_{i} \\times b_{i}\\right )$"
   ]
  },
  {
   "cell_type": "code",
   "execution_count": 33,
   "id": "insured-pressing",
   "metadata": {},
   "outputs": [
    {
     "data": {
      "text/plain": [
       "array([1, 2, 3, 4, 5, 6])"
      ]
     },
     "execution_count": 33,
     "metadata": {},
     "output_type": "execute_result"
    }
   ],
   "source": [
    "a = np.array([1,2,3,4,5,6])\n",
    "\n",
    "b = np.array([0.1,0.2,0.3,0.4,0.5,0.6])\n",
    "\n",
    "a"
   ]
  },
  {
   "cell_type": "code",
   "execution_count": 34,
   "id": "indoor-church",
   "metadata": {},
   "outputs": [
    {
     "data": {
      "text/plain": [
       "array([0.1, 0.2, 0.3, 0.4, 0.5, 0.6])"
      ]
     },
     "execution_count": 34,
     "metadata": {},
     "output_type": "execute_result"
    }
   ],
   "source": [
    "b"
   ]
  },
  {
   "cell_type": "code",
   "execution_count": 35,
   "id": "national-speaker",
   "metadata": {},
   "outputs": [
    {
     "data": {
      "text/plain": [
       "9.1"
      ]
     },
     "execution_count": 35,
     "metadata": {},
     "output_type": "execute_result"
    }
   ],
   "source": [
    "a.dot(b)"
   ]
  },
  {
   "cell_type": "code",
   "execution_count": 36,
   "id": "announced-partnership",
   "metadata": {},
   "outputs": [
    {
     "data": {
      "text/plain": [
       "9.1"
      ]
     },
     "execution_count": 36,
     "metadata": {},
     "output_type": "execute_result"
    }
   ],
   "source": [
    "a @ b"
   ]
  },
  {
   "cell_type": "markdown",
   "id": "rotary-broad",
   "metadata": {},
   "source": [
    "Tích vô hướng cũng có tính giao hoán:\n",
    "\n",
    "a @ b = b @ a"
   ]
  },
  {
   "cell_type": "code",
   "execution_count": 37,
   "id": "coupled-desperate",
   "metadata": {},
   "outputs": [
    {
     "data": {
      "text/plain": [
       "9.1"
      ]
     },
     "execution_count": 37,
     "metadata": {},
     "output_type": "execute_result"
    }
   ],
   "source": [
    "b @ a"
   ]
  },
  {
   "cell_type": "markdown",
   "id": "faced-fraud",
   "metadata": {},
   "source": [
    "**Phép toán giữa vector và scalar**\n",
    "\n",
    "Khi thực hiện các phép tính số học như cộng, trừ, nhân chia 1 vector và 1 scalar, ta đang thay đổi thang đo (scale, amplitude) của vector này. Cơ chế của quy trình này là broadcasting, như đã nói ở trên\n",
    "\n",
    "$a = \\left (a_{1},  a_{2}, a_{3}, ... a_{i}\\right )$\n",
    "\n",
    "Tích của a và scalar s là:\n",
    "\n",
    "$a \\times s = (a_{1} \\times s, a_{2} \\times s, a_{3} \\times s, ... a_{i} \\times s)$\n",
    "\n",
    "![scal_vec](http://media5.datahacker.rs/2020/03/Picture41-1-768x317.jpg)\n",
    "\n",
    "Thí dụ trên thực tế:\n",
    "\n",
    "cho a là vector ghi dữ liệu câng nặng của bệnh nhân, ta có thể cộng và trừ a cho 1 hằng số, thí dụ sai số của thiết bị đo để hiệu chỉnh cho sai số này, hoặc nhân chia a cho 1 hệ số quy đổi để hoán đổi giữa các hệ đo lường cân nặng khác nhau, như kg, g, pounds..."
   ]
  },
  {
   "cell_type": "code",
   "execution_count": 38,
   "id": "advisory-filename",
   "metadata": {},
   "outputs": [
    {
     "data": {
      "text/plain": [
       "array([0.63440096, 0.84943179, 0.72445532, 0.61102351, 0.72244338,\n",
       "       0.32295891, 0.36178866, 0.22826323, 0.29371405, 0.63097612])"
      ]
     },
     "execution_count": 38,
     "metadata": {},
     "output_type": "execute_result"
    }
   ],
   "source": [
    "a = np.random.random(10)\n",
    "\n",
    "a"
   ]
  },
  {
   "cell_type": "code",
   "execution_count": 39,
   "id": "emotional-browse",
   "metadata": {},
   "outputs": [
    {
     "data": {
      "text/plain": [
       "array([0.09516014, 0.12741477, 0.1086683 , 0.09165353, 0.10836651,\n",
       "       0.04844384, 0.0542683 , 0.03423948, 0.04405711, 0.09464642])"
      ]
     },
     "execution_count": 39,
     "metadata": {},
     "output_type": "execute_result"
    }
   ],
   "source": [
    "a * 0.15"
   ]
  },
  {
   "cell_type": "code",
   "execution_count": 40,
   "id": "caring-lover",
   "metadata": {},
   "outputs": [
    {
     "data": {
      "text/plain": [
       "array([0.01, 0.02, 0.03, 0.04, 0.05, 0.06])"
      ]
     },
     "execution_count": 40,
     "metadata": {},
     "output_type": "execute_result"
    }
   ],
   "source": [
    "a = np.array([1,2,3,4,5,6])\n",
    "\n",
    "a/100"
   ]
  },
  {
   "cell_type": "code",
   "execution_count": 41,
   "id": "naval-spring",
   "metadata": {},
   "outputs": [
    {
     "data": {
      "text/plain": [
       "array([1.5, 2.5, 3.5, 4.5, 5.5, 6.5])"
      ]
     },
     "execution_count": 41,
     "metadata": {},
     "output_type": "execute_result"
    }
   ],
   "source": [
    "a + 0.5"
   ]
  },
  {
   "cell_type": "code",
   "execution_count": 42,
   "id": "nasty-joyce",
   "metadata": {},
   "outputs": [
    {
     "data": {
      "text/plain": [
       "array([0.95, 1.95, 2.95, 3.95, 4.95, 5.95])"
      ]
     },
     "execution_count": 42,
     "metadata": {},
     "output_type": "execute_result"
    }
   ],
   "source": [
    "a - 0.05"
   ]
  },
  {
   "cell_type": "markdown",
   "id": "virtual-journey",
   "metadata": {},
   "source": [
    "Tính chất kết hợp của phép nhân scalar s1, s2 và vector v:\n",
    "\n",
    "s1 * (s2 * v) = (s1*s2)*v"
   ]
  },
  {
   "cell_type": "code",
   "execution_count": 43,
   "id": "excellent-bloom",
   "metadata": {},
   "outputs": [
    {
     "data": {
      "text/plain": [
       "array([0.2, 0.4, 0.6, 0.8, 1. , 1.2])"
      ]
     },
     "execution_count": 43,
     "metadata": {},
     "output_type": "execute_result"
    }
   ],
   "source": [
    "(2. * 0.1) * a"
   ]
  },
  {
   "cell_type": "code",
   "execution_count": 44,
   "id": "placed-cursor",
   "metadata": {},
   "outputs": [
    {
     "data": {
      "text/plain": [
       "array([0.2, 0.4, 0.6, 0.8, 1. , 1.2])"
      ]
     },
     "execution_count": 44,
     "metadata": {},
     "output_type": "execute_result"
    }
   ],
   "source": [
    "a * 2. * 0.1"
   ]
  },
  {
   "cell_type": "markdown",
   "id": "experienced-sixth",
   "metadata": {},
   "source": [
    "Tính phân phối khi nhân s1 và phép cộng 2 vector a, b\n",
    "\n",
    "s*(a+b) = s*a + s*b\n",
    "\n",
    "s1*a + s2*a = (s1 + s2)*a"
   ]
  },
  {
   "cell_type": "code",
   "execution_count": 45,
   "id": "distributed-female",
   "metadata": {},
   "outputs": [
    {
     "data": {
      "text/plain": [
       "(array([0.1, 0.2, 0.3, 0.4, 0.5, 0.6]), array([1, 2, 3, 4, 5, 6]))"
      ]
     },
     "execution_count": 45,
     "metadata": {},
     "output_type": "execute_result"
    }
   ],
   "source": [
    "b, a"
   ]
  },
  {
   "cell_type": "code",
   "execution_count": 46,
   "id": "residential-mouse",
   "metadata": {},
   "outputs": [
    {
     "data": {
      "text/plain": [
       "array([0.55, 1.1 , 1.65, 2.2 , 2.75, 3.3 ])"
      ]
     },
     "execution_count": 46,
     "metadata": {},
     "output_type": "execute_result"
    }
   ],
   "source": [
    "(0.5 * a) + (0.5 * b)"
   ]
  },
  {
   "cell_type": "code",
   "execution_count": 47,
   "id": "insured-measurement",
   "metadata": {},
   "outputs": [
    {
     "data": {
      "text/plain": [
       "array([0.55, 1.1 , 1.65, 2.2 , 2.75, 3.3 ])"
      ]
     },
     "execution_count": 47,
     "metadata": {},
     "output_type": "execute_result"
    }
   ],
   "source": [
    "0.5 * (a + b) # trung bình của a và b"
   ]
  },
  {
   "cell_type": "code",
   "execution_count": 48,
   "id": "beginning-prophet",
   "metadata": {},
   "outputs": [
    {
     "data": {
      "text/plain": [
       "array([ 2.2,  4.4,  6.6,  8.8, 11. , 13.2])"
      ]
     },
     "execution_count": 48,
     "metadata": {},
     "output_type": "execute_result"
    }
   ],
   "source": [
    "(0.7 + 1.5) * a"
   ]
  },
  {
   "cell_type": "markdown",
   "id": "extended-sister",
   "metadata": {},
   "source": [
    "**Liên hệ giữa tích vô hướng và scalar:**\n",
    "\n",
    "\n",
    "Tính kết hợp với phép nhân giữa scalar và vector:\n",
    "\n",
    "s1* a @ b = s1 * (a @ b)"
   ]
  },
  {
   "cell_type": "code",
   "execution_count": 49,
   "id": "continent-socket",
   "metadata": {},
   "outputs": [
    {
     "data": {
      "text/plain": [
       "4.55"
      ]
     },
     "execution_count": 49,
     "metadata": {},
     "output_type": "execute_result"
    }
   ],
   "source": [
    "(0.5 * a) @ b"
   ]
  },
  {
   "cell_type": "code",
   "execution_count": 50,
   "id": "original-bridges",
   "metadata": {},
   "outputs": [
    {
     "data": {
      "text/plain": [
       "4.55"
      ]
     },
     "execution_count": 50,
     "metadata": {},
     "output_type": "execute_result"
    }
   ],
   "source": [
    "0.5 * (a @ b)"
   ]
  },
  {
   "cell_type": "markdown",
   "id": "caring-spring",
   "metadata": {},
   "source": [
    "Tính phân phối với phép cộng 2 vector\n",
    "\n",
    "a @ (b + c) = a @ c + b @ c"
   ]
  },
  {
   "cell_type": "code",
   "execution_count": 51,
   "id": "french-amazon",
   "metadata": {},
   "outputs": [
    {
     "data": {
      "text/plain": [
       "array([0, 1, 2, 3, 4, 5])"
      ]
     },
     "execution_count": 51,
     "metadata": {},
     "output_type": "execute_result"
    }
   ],
   "source": [
    "c = np.arange(0,6)\n",
    "\n",
    "c"
   ]
  },
  {
   "cell_type": "code",
   "execution_count": 52,
   "id": "sunrise-european",
   "metadata": {},
   "outputs": [
    {
     "data": {
      "text/plain": [
       "79.1"
      ]
     },
     "execution_count": 52,
     "metadata": {},
     "output_type": "execute_result"
    }
   ],
   "source": [
    "a@(b + c)"
   ]
  },
  {
   "cell_type": "code",
   "execution_count": 53,
   "id": "crazy-finnish",
   "metadata": {},
   "outputs": [
    {
     "data": {
      "text/plain": [
       "79.1"
      ]
     },
     "execution_count": 53,
     "metadata": {},
     "output_type": "execute_result"
    }
   ],
   "source": [
    "b@a + c@a"
   ]
  },
  {
   "cell_type": "markdown",
   "id": "interior-shoulder",
   "metadata": {},
   "source": [
    "### Độ lớn vector (Norm)\n",
    "\n",
    "**Giới thiệu**\n",
    "\n",
    "Độ lớn của một vector x (norm, magnitude), kí hiệu $\\left \\| x \\right \\|$ được tính theo một số công thức quy ước nào đó, nhằm tóm tắt thông tin về khoảng cách của vector so với tọa độ gốc (O) trong không gian vector.\n",
    "\n",
    "Thí dụ: tọa độ gốc của một vector 3 phần tử là (0,0,0), 2 phần tử là (0,0) \n",
    "\n",
    "Đặc điểm của công thức tính norm:\n",
    "\n",
    "Kết quả norm không bao giờ nhỏ hơn 0 (số dương), \n",
    "\n",
    "Cho 2 vector x,y và scalar s:\n",
    "\n",
    "$\\left \\| x \\right \\| = 0$ khi và chỉ khi x = 0\n",
    "\n",
    "$c*\\left \\| x \\right \\| = \\left \\| c*x \\right \\|$\n",
    "\n",
    "$\\left \\| x + y \\right \\| \\leq  \\left \\| x \\right \\| + \\left \\| y \\right \\|$\n",
    "\n",
    "**Công thức tính norm tổng quát bậc p**\n",
    "\n",
    "Cho vector $x = (x_{1},x_{2},...,x_{n})$ thuộc tập số thực $\\mathbb{R}$, ta có công thức tính norm tổng quát bậc p như sau:\n",
    "\n",
    "$$\\left \\| x\\right \\|_{p}: = \\left (\\sum_{i=1}^{n}\\mid x_{i} \\mid^{p}\\right )^{1/p}$$\n",
    "\n",
    "với $p \\geq 1$.\n",
    "\n",
    "**Norm bậc 1: $L^{1}$ hay khoảng cách Manhattan**\n",
    "\n",
    "Norm bậc 1 của một vector v, kí hiệu là $L^{1}(v)$ hoặc $\\left \\|  v\\right \\|_{1}$ được xác định bằng tổng của tất cả giá trị tuyệt đối của mỗi phần tử (scalar) chứa trong vector:\n",
    "\n",
    "$$\\left \\| v\\right \\|_{1}: = \\left (\\sum_{i=1}^{n}\\mid v_{i} \\mid \\right )$$\n",
    "\n",
    "$$ \\left \\|  v\\right \\|_{1} = |v_{1}| +  |v_{2}| + ... +  |v_{n}|$$\n",
    "\n",
    "norm L1 cho array 1 chiều v được tính bằng method norm() từ module numpy.linalg với argument (v,1)"
   ]
  },
  {
   "cell_type": "code",
   "execution_count": 54,
   "id": "cellular-bloom",
   "metadata": {},
   "outputs": [],
   "source": [
    "from numpy.linalg import norm"
   ]
  },
  {
   "cell_type": "code",
   "execution_count": 55,
   "id": "prime-simon",
   "metadata": {},
   "outputs": [
    {
     "data": {
      "text/plain": [
       "array([ 0.57979384, -1.58526469,  0.23314189, -7.39576732, -4.31459931,\n",
       "       -1.0996317 ,  3.7823873 ,  0.47909295,  1.00853775,  3.06466813])"
      ]
     },
     "execution_count": 55,
     "metadata": {},
     "output_type": "execute_result"
    }
   ],
   "source": [
    "v = np.random.normal(1,3,10)  # 10 giá trị ngẫu nhiên\n",
    "\n",
    "v"
   ]
  },
  {
   "cell_type": "code",
   "execution_count": 56,
   "id": "floral-siemens",
   "metadata": {},
   "outputs": [
    {
     "data": {
      "text/plain": [
       "23.542884877029124"
      ]
     },
     "execution_count": 56,
     "metadata": {},
     "output_type": "execute_result"
    }
   ],
   "source": [
    "l1 = norm(v, 1)\n",
    "\n",
    "l1"
   ]
  },
  {
   "cell_type": "markdown",
   "id": "turned-scholarship",
   "metadata": {},
   "source": [
    "Ứng dụng: norm bậc 1 được dùng trong phương pháp L1 regularization (còn gọi là hồi quy Lasso: Least Absolute Shrinkage and Selection Operator)\n",
    "\n",
    "**Norm bậc 2: $L^{2}$ hay khoảng cách Euclide**\n",
    "\n",
    "$$\\left \\| v \\right \\|_{2} = \\sqrt{v_{1}^{2} + v_{1}^{2} + ... + v_{n}^{2}}$$\n",
    "\n",
    "được xác định bằng căn bậc 2 của tổng tất cả bình phương các scalar trong vector v\n",
    "\n",
    "norm L2 được tính bằng method norm() từ module numpy.linalg với argument mặc định"
   ]
  },
  {
   "cell_type": "code",
   "execution_count": 57,
   "id": "political-draft",
   "metadata": {},
   "outputs": [
    {
     "data": {
      "text/plain": [
       "10.117867084915344"
      ]
     },
     "execution_count": 57,
     "metadata": {},
     "output_type": "execute_result"
    }
   ],
   "source": [
    "l2 = norm(v)\n",
    "\n",
    "l2"
   ]
  },
  {
   "cell_type": "markdown",
   "id": "forward-answer",
   "metadata": {},
   "source": [
    "Norm bậc 2 thường được dùng phổ biến hơn L1, thí dụ trong những thuật toán phân cụm và hồi quy Ridge (L2 regularization)\n",
    "\n",
    "**Norm cực đại : $L^{inf}$, Maximum norm**\n",
    "\n",
    "công thức tính Max norm tương ứng với giá trị p = vô cực, và có nội dung là cực đại của tất cả giá trị tuyệt đối của scalar trong vector \n",
    "\n",
    "$$ \\left \\|  v\\right \\|_{inf} = max |v_{1}|, |v_{2}|,..., |v_{n}|$$\n",
    "\n",
    "maxnorm được tính bằng method norm với argument np.inf"
   ]
  },
  {
   "cell_type": "code",
   "execution_count": 58,
   "id": "molecular-allen",
   "metadata": {},
   "outputs": [
    {
     "data": {
      "text/plain": [
       "7.395767316382173"
      ]
     },
     "execution_count": 58,
     "metadata": {},
     "output_type": "execute_result"
    }
   ],
   "source": [
    "maxnorm = norm(v, np.inf)\n",
    "\n",
    "maxnorm"
   ]
  },
  {
   "cell_type": "markdown",
   "id": "infectious-toyota",
   "metadata": {},
   "source": [
    "maxnorm ít phổ biến, nó được sử dụng cho kỹ thuật max norm regularizationtrong deep learning\n",
    "\n",
    "Chú ý rằng ngoài ý nghĩa độ lớn của vector, các giá trị L1, L2... còn giúp hình dung về khoảng cách, độ khác biệt hay tương đồng giữa 2 vector bất kì trong cùng không gian vector. Đây là cơ sở cho thuật toán phân cụm - khi mục tiêu là đo lường độ khác biệt giữa các điểm trong không gian dữ liệu.\n",
    "\n",
    "Bài thực hành tạm kết thúc ở đây, ta đã biết khá nhiều về vector, bài tiếp theo ta sẽ tìm hiểu về ma trận, cấu trúc dữ liệu 2 chiều."
   ]
  }
 ],
 "metadata": {
  "kernelspec": {
   "display_name": "Python 3",
   "language": "python",
   "name": "python3"
  },
  "language_info": {
   "codemirror_mode": {
    "name": "ipython",
    "version": 3
   },
   "file_extension": ".py",
   "mimetype": "text/x-python",
   "name": "python",
   "nbconvert_exporter": "python",
   "pygments_lexer": "ipython3",
   "version": "3.8.5"
  },
  "toc": {
   "base_numbering": 1,
   "nav_menu": {},
   "number_sections": true,
   "sideBar": true,
   "skip_h1_title": false,
   "title_cell": "Table of Contents",
   "title_sidebar": "Contents",
   "toc_cell": false,
   "toc_position": {},
   "toc_section_display": true,
   "toc_window_display": false
  },
  "varInspector": {
   "cols": {
    "lenName": 16,
    "lenType": 16,
    "lenVar": 40
   },
   "kernels_config": {
    "python": {
     "delete_cmd_postfix": "",
     "delete_cmd_prefix": "del ",
     "library": "var_list.py",
     "varRefreshCmd": "print(var_dic_list())"
    },
    "r": {
     "delete_cmd_postfix": ") ",
     "delete_cmd_prefix": "rm(",
     "library": "var_list.r",
     "varRefreshCmd": "cat(var_dic_list()) "
    }
   },
   "types_to_exclude": [
    "module",
    "function",
    "builtin_function_or_method",
    "instance",
    "_Feature"
   ],
   "window_display": false
  }
 },
 "nbformat": 4,
 "nbformat_minor": 5
}
