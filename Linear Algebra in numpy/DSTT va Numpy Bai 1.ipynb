{
 "cells": [
  {
   "cell_type": "markdown",
   "id": "stopped-elements",
   "metadata": {},
   "source": [
    "# Đại số tuyến tính với numpy\n",
    "\n",
    "## Bài 1: Làm quen với numpy\n",
    "\n",
    "**BS Lê Ngọc Khả Nhi**\n",
    "\n",
    "# Giới thiệu\n",
    "\n",
    "Chào các bạn, trước khi chạm đến Đại số tuyến tính (ĐSTT), chúng ta cùng chuẩn bị một số kỹ năng cho thư viện numpy, vì numpy sẽ là công cụ chính cho dự án này.\n",
    "\n",
    "**Về thư viện numpy**\n",
    "\n",
    "numpy là một thư viện tính toán trên cấu trúc dữ liệu array, nó được xây dựng bởi Travis Oliphant từ năm 2006 và là một bộ phận của hệ sinh thái Tính toán khoa học Scipy trong ngôn ngữ Python (gồm 3 thư viện numpy, scipy và matplotlib).\n",
    "\n",
    "**Tại sao cần phải học numpy ?**\n",
    "\n",
    "1) Bản thân ngôn ngữ Python không cho phép thực hiện tính toán một cách tối ưu trên vector hoặc matrix (nó chỉ có một số cấu trúc dữ liệu hạn chế như list, tuple, set..., tốc độ thi hành chậm, kích thước object nặng, không có sẵn đầy đủ các toán tử đại số và hàm thống kê...). \n",
    "\n",
    "numpy khắc phục những hạn chế này và tối ưu hóa các quy trình tính toán trên dữ liệu lớn và đa chiều (thông qua array), tốc độ thi hành rất nhanh (numpy được viết bằng ngôn ngữ C), hỗ trợ hoàn chỉnh thống kê và đại số tuyến tính.\n",
    "\n",
    "2) numpy là nền tảng phổ quát cho mọi thư viện thống kê, phân tích dữ liệu khác và chúng tương thích lẫn nhau. Bản thân scipy và matplotlib dựa trên numpy, các thư viện thống kê và machine learning như statsmodels, pingouin, pandas, scikit-learn, tensorflow,... đều dựa trên numpy.\n",
    "\n",
    "3) numpy là công cụ tiện lợi để học và thực hành đại số tuyến tính, bản thân đại số tuyến tính rất quan trọng và cần thiết cho thống kê và machine learning. Sử dụng thành thạo numpy cho phép code thủ công những thuật toán thống kê quy ước.\n",
    "\n",
    "4) Các thủ thuật trong numpy còn có nhiều ứng dụng trong việc thao tác trên dữ liệu hằng ngày (ngay cả khi bạn đã có pandas.\n",
    "\n",
    "### Gọi thư viện numpy\n",
    "\n",
    "Dùng **import** để gọi numpy, theo quy ước tên viết tắt là **np**"
   ]
  },
  {
   "cell_type": "code",
   "execution_count": 2,
   "id": "unknown-funds",
   "metadata": {},
   "outputs": [],
   "source": [
    "import numpy as np"
   ]
  },
  {
   "cell_type": "markdown",
   "id": "usual-thesaurus",
   "metadata": {},
   "source": [
    "**Xem phiên bản của thư viện**\n",
    "\n",
    "Hiện nay phiên bản mới nhất là 1.21; ta có thể cập nhật nếu muốn, bằng cách install từ conda terminal theo cú pháp:\n",
    "\n",
    "*pip3 install --upgrade numpy*"
   ]
  },
  {
   "cell_type": "code",
   "execution_count": 3,
   "id": "distant-interaction",
   "metadata": {},
   "outputs": [
    {
     "name": "stdout",
     "output_type": "stream",
     "text": [
      "1.21.0\n"
     ]
    }
   ],
   "source": [
    "print(np.__version__)"
   ]
  },
  {
   "cell_type": "markdown",
   "id": "frank-saint",
   "metadata": {},
   "source": [
    "### numpy array\n",
    "\n",
    "Cấu trúc dữ liệu chính của numpy là ndarray (mảng N chiều), ta thường gọi tắt là array. \n",
    "\n",
    "array là một cấu trúc bộ nhớ có kích thước cố định (do ta quy định khi tạo lập), và chỉ chứa duy nhất dữ liệu cùng kiểu (nếu chỉ dùng con số, tất cả cùng là float hoặc int; nếu dùng chữ: tất cả là object hay string). \n",
    "Cho ứng dụng thống kê, ta quan tâm đến 3 kiểu data type là integer, float và boolean\n",
    "\n",
    "array có thể tạo lập trực tiếp, hoặc hoán chuyển từ data structure của thư viện khác (pandas dataframes/series, tensor, arviz), từ data structure sơ cấp của Python như list, tuple.\n",
    "\n",
    "3 thuộc tính cơ bản của array là shape, dtype và size\n",
    "\n",
    "shape cho biết cấu trúc (chiều) của array, trong thống kê ta thường làm việc với scalar (vô hướng) = 1 con số, vector (array 1 chiều) và matrix (array 2 chiều), trong machine learning ta có thể cần đến array đa chiều để biểu diễn các tensors. Trong bài này Nhi chỉ giới hạn thí dụ đến array 2 chiều\n",
    "\n",
    "**array 1 chiều**\n",
    "\n",
    "Sau này, ta sẽ biết array 1 chiều tương đương với vector"
   ]
  },
  {
   "cell_type": "code",
   "execution_count": 4,
   "id": "looking-employer",
   "metadata": {},
   "outputs": [
    {
     "data": {
      "text/plain": [
       "array([1., 2., 3., 4., 5.])"
      ]
     },
     "execution_count": 4,
     "metadata": {},
     "output_type": "execute_result"
    }
   ],
   "source": [
    "a = np.array([1., 2., 3., 4., 5.])\n",
    "\n",
    "a"
   ]
  },
  {
   "cell_type": "code",
   "execution_count": 5,
   "id": "remarkable-international",
   "metadata": {},
   "outputs": [
    {
     "data": {
      "text/plain": [
       "(5,)"
      ]
     },
     "execution_count": 5,
     "metadata": {},
     "output_type": "execute_result"
    }
   ],
   "source": [
    "a.shape"
   ]
  },
  {
   "cell_type": "code",
   "execution_count": 6,
   "id": "nervous-visibility",
   "metadata": {},
   "outputs": [
    {
     "data": {
      "text/plain": [
       "5"
      ]
     },
     "execution_count": 6,
     "metadata": {},
     "output_type": "execute_result"
    }
   ],
   "source": [
    "a.size"
   ]
  },
  {
   "cell_type": "code",
   "execution_count": 7,
   "id": "hundred-plastic",
   "metadata": {},
   "outputs": [
    {
     "data": {
      "text/plain": [
       "dtype('float64')"
      ]
     },
     "execution_count": 7,
     "metadata": {},
     "output_type": "execute_result"
    }
   ],
   "source": [
    "a.dtype"
   ]
  },
  {
   "cell_type": "markdown",
   "id": "gentle-payroll",
   "metadata": {},
   "source": [
    "**Có thể tạo array 1 chiều từ Python list hoặc tuple**"
   ]
  },
  {
   "cell_type": "code",
   "execution_count": 10,
   "id": "clinical-nothing",
   "metadata": {},
   "outputs": [
    {
     "data": {
      "text/plain": [
       "array([ True,  True,  True,  True,  True])"
      ]
     },
     "execution_count": 10,
     "metadata": {},
     "output_type": "execute_result"
    }
   ],
   "source": [
    "tupl = (1,2,3,4,5)\n",
    "lst = [1,2,3,4,5]\n",
    "\n",
    "a = np.array(lst)\n",
    "b = np.array(tupl)\n",
    "\n",
    "a == b"
   ]
  },
  {
   "cell_type": "code",
   "execution_count": 11,
   "id": "coated-toddler",
   "metadata": {},
   "outputs": [
    {
     "data": {
      "text/plain": [
       "array([1, 2, 3, 4, 5])"
      ]
     },
     "execution_count": 11,
     "metadata": {},
     "output_type": "execute_result"
    }
   ],
   "source": [
    "a"
   ]
  },
  {
   "cell_type": "code",
   "execution_count": 12,
   "id": "forward-conversation",
   "metadata": {},
   "outputs": [
    {
     "data": {
      "text/plain": [
       "array([1, 2, 3, 4, 5])"
      ]
     },
     "execution_count": 12,
     "metadata": {},
     "output_type": "execute_result"
    }
   ],
   "source": [
    "b"
   ]
  },
  {
   "cell_type": "markdown",
   "id": "gothic-consultation",
   "metadata": {},
   "source": [
    "**array 2 chiều (ma trận)**\n",
    "\n",
    "Thí dụ sau về 1 array 2 chiều có kích thước 3x3, tương ứng với 1 matrix 3 hàng và 3 cột"
   ]
  },
  {
   "cell_type": "code",
   "execution_count": 13,
   "id": "romantic-swing",
   "metadata": {},
   "outputs": [
    {
     "data": {
      "text/plain": [
       "array([[1., 2., 3.],\n",
       "       [4., 5., 6.],\n",
       "       [7., 8., 9.]])"
      ]
     },
     "execution_count": 13,
     "metadata": {},
     "output_type": "execute_result"
    }
   ],
   "source": [
    "mat = np.array([[1.,2.,3.],\n",
    "                [4.,5.,6.],\n",
    "                [7.,8.,9.]])\n",
    "\n",
    "mat"
   ]
  },
  {
   "cell_type": "code",
   "execution_count": 14,
   "id": "indie-region",
   "metadata": {},
   "outputs": [
    {
     "data": {
      "text/plain": [
       "(3, 3)"
      ]
     },
     "execution_count": 14,
     "metadata": {},
     "output_type": "execute_result"
    }
   ],
   "source": [
    "mat.shape"
   ]
  },
  {
   "cell_type": "code",
   "execution_count": 17,
   "id": "divine-funds",
   "metadata": {},
   "outputs": [
    {
     "data": {
      "text/plain": [
       "2"
      ]
     },
     "execution_count": 17,
     "metadata": {},
     "output_type": "execute_result"
    }
   ],
   "source": [
    "mat.ndim"
   ]
  },
  {
   "cell_type": "code",
   "execution_count": 18,
   "id": "positive-brave",
   "metadata": {},
   "outputs": [
    {
     "data": {
      "text/plain": [
       "9"
      ]
     },
     "execution_count": 18,
     "metadata": {},
     "output_type": "execute_result"
    }
   ],
   "source": [
    "mat.size"
   ]
  },
  {
   "cell_type": "markdown",
   "id": "occupational-nashville",
   "metadata": {},
   "source": [
    "**Liên hệ giữa 2D array và dataframe**\n",
    "\n",
    "pandas dataframe là 1 cấu trúc dữ liệu phổ biến khi làm thống kê, nó cũng có cấu trúc bảng 2 chiều. Dù pandas tương thích hoàn toàn với numpy và có thể hoán chuyển qua lại giữa 2 cấu trúc: values của dataframe chính là numpy array, tuy nhiên có khác biệt: \n",
    "\n",
    "+ dataframe cho phép chứa nhiều kiểu dữ liệu khác nhau cho mỗi cột (biến): string, object, int, float; trái lại numpy array chỉ chứa dữ liệu đồng kiểu (float,int, hoặc object).\n",
    "\n",
    "+ đơn vị list trong pandas dataframe/series tương ứng với cột (biến), còn list con trong 1 nested list khi đưa vào numpy array lại tương ứng với hàng (instance)\n",
    "\n",
    "Để hình dung liên hệ giữa 1 matrix (array 2 chiều) và bảng dữ liệu (dataframe), ta sẽ hoán chuyển 1 dataframe 3 biến (cột) và 5 quan sát (hàng) thành array, chú ý vị trí và tương quan hàng/cột.\n",
    "\n",
    "Kết quả ta có 1 array 5x3; con số đầu chỉ hàng, con số sau chỉ cột"
   ]
  },
  {
   "cell_type": "code",
   "execution_count": 19,
   "id": "comprehensive-princeton",
   "metadata": {},
   "outputs": [
    {
     "data": {
      "text/html": [
       "<div>\n",
       "<style scoped>\n",
       "    .dataframe tbody tr th:only-of-type {\n",
       "        vertical-align: middle;\n",
       "    }\n",
       "\n",
       "    .dataframe tbody tr th {\n",
       "        vertical-align: top;\n",
       "    }\n",
       "\n",
       "    .dataframe thead th {\n",
       "        text-align: right;\n",
       "    }\n",
       "</style>\n",
       "<table border=\"1\" class=\"dataframe\">\n",
       "  <thead>\n",
       "    <tr style=\"text-align: right;\">\n",
       "      <th></th>\n",
       "      <th>A</th>\n",
       "      <th>B</th>\n",
       "      <th>C</th>\n",
       "    </tr>\n",
       "  </thead>\n",
       "  <tbody>\n",
       "    <tr>\n",
       "      <th>0</th>\n",
       "      <td>1</td>\n",
       "      <td>6</td>\n",
       "      <td>11</td>\n",
       "    </tr>\n",
       "    <tr>\n",
       "      <th>1</th>\n",
       "      <td>2</td>\n",
       "      <td>7</td>\n",
       "      <td>12</td>\n",
       "    </tr>\n",
       "    <tr>\n",
       "      <th>2</th>\n",
       "      <td>3</td>\n",
       "      <td>8</td>\n",
       "      <td>13</td>\n",
       "    </tr>\n",
       "    <tr>\n",
       "      <th>3</th>\n",
       "      <td>4</td>\n",
       "      <td>9</td>\n",
       "      <td>14</td>\n",
       "    </tr>\n",
       "    <tr>\n",
       "      <th>4</th>\n",
       "      <td>5</td>\n",
       "      <td>10</td>\n",
       "      <td>15</td>\n",
       "    </tr>\n",
       "  </tbody>\n",
       "</table>\n",
       "</div>"
      ],
      "text/plain": [
       "   A   B   C\n",
       "0  1   6  11\n",
       "1  2   7  12\n",
       "2  3   8  13\n",
       "3  4   9  14\n",
       "4  5  10  15"
      ]
     },
     "execution_count": 19,
     "metadata": {},
     "output_type": "execute_result"
    }
   ],
   "source": [
    "import pandas as pd\n",
    "\n",
    "df = pd.DataFrame({'A':[1,2,3,4,5],\n",
    "                  'B':[6,7,8,9,10],\n",
    "                  'C':[11,12,13,14,15]})\n",
    "\n",
    "df"
   ]
  },
  {
   "cell_type": "code",
   "execution_count": 20,
   "id": "tribal-competition",
   "metadata": {},
   "outputs": [
    {
     "data": {
      "text/plain": [
       "array([[ 1,  6, 11],\n",
       "       [ 2,  7, 12],\n",
       "       [ 3,  8, 13],\n",
       "       [ 4,  9, 14],\n",
       "       [ 5, 10, 15]], dtype=int64)"
      ]
     },
     "execution_count": 20,
     "metadata": {},
     "output_type": "execute_result"
    }
   ],
   "source": [
    "a = df.values\n",
    "\n",
    "a"
   ]
  },
  {
   "cell_type": "code",
   "execution_count": 21,
   "id": "military-howard",
   "metadata": {},
   "outputs": [
    {
     "data": {
      "text/plain": [
       "(5, 3)"
      ]
     },
     "execution_count": 21,
     "metadata": {},
     "output_type": "execute_result"
    }
   ],
   "source": [
    "a.shape"
   ]
  },
  {
   "cell_type": "markdown",
   "id": "refined-launch",
   "metadata": {},
   "source": [
    "Để khởi tạo ra array như trên một cách trực tiếp: ta sử dụng nested list, chú ý là mỗi list tương ứng với 1 hàng, và mỗi con số trong list tương ứng 1 cột, theo thứ tự (khác với cú pháp pandas - mỗi list là 1 cột/biến)."
   ]
  },
  {
   "cell_type": "code",
   "execution_count": 22,
   "id": "happy-longitude",
   "metadata": {},
   "outputs": [
    {
     "data": {
      "text/plain": [
       "array([[ 1,  6, 11],\n",
       "       [ 2,  7, 12],\n",
       "       [ 3,  8, 13],\n",
       "       [ 4,  9, 14],\n",
       "       [ 5, 10, 15]])"
      ]
     },
     "execution_count": 22,
     "metadata": {},
     "output_type": "execute_result"
    }
   ],
   "source": [
    "b = np.array([[1,6,11],\n",
    "             [2,7,12],\n",
    "             [3,8,13],\n",
    "             [4,9,14],\n",
    "             [5,10,15]])\n",
    "\n",
    "b"
   ]
  },
  {
   "cell_type": "code",
   "execution_count": 23,
   "id": "revolutionary-place",
   "metadata": {},
   "outputs": [
    {
     "data": {
      "text/plain": [
       "array([[ True,  True,  True],\n",
       "       [ True,  True,  True],\n",
       "       [ True,  True,  True],\n",
       "       [ True,  True,  True],\n",
       "       [ True,  True,  True]])"
      ]
     },
     "execution_count": 23,
     "metadata": {},
     "output_type": "execute_result"
    }
   ],
   "source": [
    "b == a"
   ]
  },
  {
   "cell_type": "markdown",
   "id": "facial-grammar",
   "metadata": {},
   "source": [
    "Khi chuyển 1 dataframe hỗn hợp chữ/số thành numpy, nó chỉ có thể nhận data type object, tất cả sẽ thành string và không dùng được để tính toán"
   ]
  },
  {
   "cell_type": "code",
   "execution_count": 24,
   "id": "eight-latin",
   "metadata": {},
   "outputs": [
    {
     "data": {
      "text/html": [
       "<div>\n",
       "<style scoped>\n",
       "    .dataframe tbody tr th:only-of-type {\n",
       "        vertical-align: middle;\n",
       "    }\n",
       "\n",
       "    .dataframe tbody tr th {\n",
       "        vertical-align: top;\n",
       "    }\n",
       "\n",
       "    .dataframe thead th {\n",
       "        text-align: right;\n",
       "    }\n",
       "</style>\n",
       "<table border=\"1\" class=\"dataframe\">\n",
       "  <thead>\n",
       "    <tr style=\"text-align: right;\">\n",
       "      <th></th>\n",
       "      <th>A</th>\n",
       "      <th>B</th>\n",
       "      <th>C</th>\n",
       "    </tr>\n",
       "  </thead>\n",
       "  <tbody>\n",
       "    <tr>\n",
       "      <th>0</th>\n",
       "      <td>1</td>\n",
       "      <td>Y</td>\n",
       "      <td>11</td>\n",
       "    </tr>\n",
       "    <tr>\n",
       "      <th>1</th>\n",
       "      <td>2</td>\n",
       "      <td>N</td>\n",
       "      <td>12</td>\n",
       "    </tr>\n",
       "    <tr>\n",
       "      <th>2</th>\n",
       "      <td>3</td>\n",
       "      <td>Y</td>\n",
       "      <td>13</td>\n",
       "    </tr>\n",
       "    <tr>\n",
       "      <th>3</th>\n",
       "      <td>4</td>\n",
       "      <td>N</td>\n",
       "      <td>14</td>\n",
       "    </tr>\n",
       "    <tr>\n",
       "      <th>4</th>\n",
       "      <td>5</td>\n",
       "      <td>N</td>\n",
       "      <td>15</td>\n",
       "    </tr>\n",
       "  </tbody>\n",
       "</table>\n",
       "</div>"
      ],
      "text/plain": [
       "   A  B   C\n",
       "0  1  Y  11\n",
       "1  2  N  12\n",
       "2  3  Y  13\n",
       "3  4  N  14\n",
       "4  5  N  15"
      ]
     },
     "execution_count": 24,
     "metadata": {},
     "output_type": "execute_result"
    }
   ],
   "source": [
    "df = pd.DataFrame({'A':[1,2,3,4,5],\n",
    "                  'B':['Y','N','Y','N','N'],\n",
    "                  'C':[11,12,13,14,15]})\n",
    "\n",
    "df"
   ]
  },
  {
   "cell_type": "code",
   "execution_count": 25,
   "id": "defensive-phase",
   "metadata": {},
   "outputs": [
    {
     "name": "stdout",
     "output_type": "stream",
     "text": [
      "<class 'pandas.core.frame.DataFrame'>\n",
      "RangeIndex: 5 entries, 0 to 4\n",
      "Data columns (total 3 columns):\n",
      " #   Column  Non-Null Count  Dtype \n",
      "---  ------  --------------  ----- \n",
      " 0   A       5 non-null      int64 \n",
      " 1   B       5 non-null      object\n",
      " 2   C       5 non-null      int64 \n",
      "dtypes: int64(2), object(1)\n",
      "memory usage: 248.0+ bytes\n"
     ]
    }
   ],
   "source": [
    "df.info()"
   ]
  },
  {
   "cell_type": "code",
   "execution_count": 26,
   "id": "present-deputy",
   "metadata": {},
   "outputs": [
    {
     "data": {
      "text/plain": [
       "array([[1, 'Y', 11],\n",
       "       [2, 'N', 12],\n",
       "       [3, 'Y', 13],\n",
       "       [4, 'N', 14],\n",
       "       [5, 'N', 15]], dtype=object)"
      ]
     },
     "execution_count": 26,
     "metadata": {},
     "output_type": "execute_result"
    }
   ],
   "source": [
    "df.values"
   ]
  },
  {
   "cell_type": "markdown",
   "id": "antique-sacramento",
   "metadata": {},
   "source": [
    "### Những array rỗng \n",
    "\n",
    "Trong quá trình làm việc, đôi khi ta cần tạo ra những array rỗng, hoặc chỉ chứa giá trị duy nhất (0,1, một con số giống nhau) với nhiều mục đích, thí dụ:\n",
    "\n",
    "+ Khởi tạo array như một ngăn chứa với kích thước nhất định, để nhận kết quả xuất ra từ vòng lặp sau đó (bootstrap, cross-validation,...)\n",
    "\n",
    "+ Tạo vector intercept (toàn giá trị = 1) cho design matrix khi dựng mô hình hồi quy,\n",
    "\n",
    "+ Dán nhãn hàng loạt (con số bất kì, 0,1,n...)\n",
    "\n",
    "vv\n",
    "\n",
    "numpy có nhiều method cho phép làm việc này, bao gồm:\n",
    "\n",
    "**array toàn số 0**"
   ]
  },
  {
   "cell_type": "code",
   "execution_count": 27,
   "id": "norman-plant",
   "metadata": {},
   "outputs": [
    {
     "data": {
      "text/plain": [
       "array([[0., 0., 0.],\n",
       "       [0., 0., 0.],\n",
       "       [0., 0., 0.],\n",
       "       [0., 0., 0.]], dtype=float32)"
      ]
     },
     "execution_count": 27,
     "metadata": {},
     "output_type": "execute_result"
    }
   ],
   "source": [
    "np.zeros(shape = (4,3), dtype = 'float32')"
   ]
  },
  {
   "cell_type": "markdown",
   "id": "organized-agriculture",
   "metadata": {},
   "source": [
    "**array toàn số 0, theo mẫu 1 array khác**\n",
    "\n",
    "method zero_like sẽ sao chép kích thước và data type của 1 array mẫu"
   ]
  },
  {
   "cell_type": "code",
   "execution_count": 28,
   "id": "reported-completion",
   "metadata": {},
   "outputs": [
    {
     "data": {
      "text/plain": [
       "array([[0., 0., 0.],\n",
       "       [0., 0., 0.]])"
      ]
     },
     "execution_count": 28,
     "metadata": {},
     "output_type": "execute_result"
    }
   ],
   "source": [
    "a = np.array([[1.,2.,3.],[4,5,6]])\n",
    "\n",
    "b = np.zeros_like(a)\n",
    "\n",
    "b"
   ]
  },
  {
   "cell_type": "markdown",
   "id": "higher-tower",
   "metadata": {},
   "source": [
    "**array toàn số 1**\n",
    "\n",
    "Tương tự, ta có np.ones và np.ones_like"
   ]
  },
  {
   "cell_type": "code",
   "execution_count": 29,
   "id": "municipal-lafayette",
   "metadata": {},
   "outputs": [
    {
     "data": {
      "text/plain": [
       "array([[1., 1., 1., 1., 1., 1.],\n",
       "       [1., 1., 1., 1., 1., 1.],\n",
       "       [1., 1., 1., 1., 1., 1.]], dtype=float32)"
      ]
     },
     "execution_count": 29,
     "metadata": {},
     "output_type": "execute_result"
    }
   ],
   "source": [
    "np.ones(shape = (3,6), dtype = 'float32')"
   ]
  },
  {
   "cell_type": "code",
   "execution_count": 30,
   "id": "short-reply",
   "metadata": {},
   "outputs": [
    {
     "data": {
      "text/plain": [
       "array([[1., 1., 1.],\n",
       "       [1., 1., 1.]])"
      ]
     },
     "execution_count": 30,
     "metadata": {},
     "output_type": "execute_result"
    }
   ],
   "source": [
    "c = np.ones_like(a)\n",
    "\n",
    "c"
   ]
  },
  {
   "cell_type": "markdown",
   "id": "communist-investing",
   "metadata": {},
   "source": [
    "**array toàn giá trị giống nhau**\n",
    "\n",
    "method np.full() và np.full_like cho phép nhận toàn 1 giá trị duy nhất tùy chọn"
   ]
  },
  {
   "cell_type": "code",
   "execution_count": 31,
   "id": "applicable-porcelain",
   "metadata": {},
   "outputs": [
    {
     "data": {
      "text/plain": [
       "array([[5., 5., 5., 5.],\n",
       "       [5., 5., 5., 5.],\n",
       "       [5., 5., 5., 5.],\n",
       "       [5., 5., 5., 5.]])"
      ]
     },
     "execution_count": 31,
     "metadata": {},
     "output_type": "execute_result"
    }
   ],
   "source": [
    "np.full((4,4), 5.)"
   ]
  },
  {
   "cell_type": "code",
   "execution_count": 32,
   "id": "surprising-quarter",
   "metadata": {},
   "outputs": [
    {
     "data": {
      "text/plain": [
       "array([[8., 8., 8.],\n",
       "       [8., 8., 8.]])"
      ]
     },
     "execution_count": 32,
     "metadata": {},
     "output_type": "execute_result"
    }
   ],
   "source": [
    "np.full_like(a, 8.)"
   ]
  },
  {
   "cell_type": "markdown",
   "id": "corresponding-president",
   "metadata": {},
   "source": [
    "**array rỗng**\n",
    "\n",
    "method empty() và empty_like() tạo array với giá trị ngẫu nhiên, vô nghĩa theo kích thước xác định"
   ]
  },
  {
   "cell_type": "code",
   "execution_count": 33,
   "id": "micro-interaction",
   "metadata": {},
   "outputs": [
    {
     "data": {
      "text/plain": [
       "array([[1., 2., 3.],\n",
       "       [4., 5., 6.],\n",
       "       [7., 8., 9.]])"
      ]
     },
     "execution_count": 33,
     "metadata": {},
     "output_type": "execute_result"
    }
   ],
   "source": [
    "np.empty(shape = (3,3), dtype = 'float64')"
   ]
  },
  {
   "cell_type": "code",
   "execution_count": 34,
   "id": "failing-westminster",
   "metadata": {},
   "outputs": [
    {
     "data": {
      "text/plain": [
       "array([[40.,  0., 40.],\n",
       "       [ 0., 40.,  0.]])"
      ]
     },
     "execution_count": 34,
     "metadata": {},
     "output_type": "execute_result"
    }
   ],
   "source": [
    "np.empty_like(a)"
   ]
  },
  {
   "cell_type": "markdown",
   "id": "organized-queens",
   "metadata": {},
   "source": [
    "**array có đường chéo = 1 (identity)**\n",
    "\n",
    "Tương đương với ma trận đơn vị"
   ]
  },
  {
   "cell_type": "code",
   "execution_count": 35,
   "id": "baking-narrow",
   "metadata": {},
   "outputs": [
    {
     "data": {
      "text/plain": [
       "array([[1., 0., 0., 0., 0.],\n",
       "       [0., 1., 0., 0., 0.],\n",
       "       [0., 0., 1., 0., 0.],\n",
       "       [0., 0., 0., 1., 0.],\n",
       "       [0., 0., 0., 0., 1.]])"
      ]
     },
     "execution_count": 35,
     "metadata": {},
     "output_type": "execute_result"
    }
   ],
   "source": [
    "np.identity(n=5) # ta chỉ cần kích thước n hàng hoặc cột (ma trận vuông)"
   ]
  },
  {
   "cell_type": "code",
   "execution_count": 36,
   "id": "original-slave",
   "metadata": {},
   "outputs": [
    {
     "data": {
      "text/plain": [
       "array([[1., 0., 0.],\n",
       "       [0., 1., 0.],\n",
       "       [0., 0., 1.],\n",
       "       [0., 0., 0.],\n",
       "       [0., 0., 0.]])"
      ]
     },
     "execution_count": 36,
     "metadata": {},
     "output_type": "execute_result"
    }
   ],
   "source": [
    "np.eye(N=5,M=3) # Kích thước tùy chọn, N = hàng, M = cột"
   ]
  },
  {
   "cell_type": "markdown",
   "id": "unable-addition",
   "metadata": {},
   "source": [
    "**array chuỗi số theo thứ tự**\n",
    "\n",
    "np.arrange(start = i, stop = k, step = n) cho phép tạo ra chuỗi số từ i đến k-1, cách biệt n"
   ]
  },
  {
   "cell_type": "code",
   "execution_count": 37,
   "id": "previous-genealogy",
   "metadata": {},
   "outputs": [
    {
     "data": {
      "text/plain": [
       "array([1, 2, 3, 4, 5, 6, 7, 8, 9])"
      ]
     },
     "execution_count": 37,
     "metadata": {},
     "output_type": "execute_result"
    }
   ],
   "source": [
    "np.arange(start = 1, stop = 10)"
   ]
  },
  {
   "cell_type": "code",
   "execution_count": 38,
   "id": "level-richards",
   "metadata": {},
   "outputs": [
    {
     "data": {
      "text/plain": [
       "array([1, 3, 5, 7, 9])"
      ]
     },
     "execution_count": 38,
     "metadata": {},
     "output_type": "execute_result"
    }
   ],
   "source": [
    "np.arange(start = 1, stop = 10, step = 2)"
   ]
  },
  {
   "cell_type": "code",
   "execution_count": 39,
   "id": "ethical-liver",
   "metadata": {},
   "outputs": [
    {
     "data": {
      "text/plain": [
       "array([ 1.,  2.,  3.,  4.,  5.,  6.,  7.,  8.,  9., 10.])"
      ]
     },
     "execution_count": 39,
     "metadata": {},
     "output_type": "execute_result"
    }
   ],
   "source": [
    "np.arange(start = 1, stop = 10+1, dtype = 'float')"
   ]
  },
  {
   "cell_type": "markdown",
   "id": "finite-schedule",
   "metadata": {},
   "source": [
    "**array chia đều giá trị trong 1 khoảng thành N phần**\n",
    "\n",
    "Ứng dụng: dùng để chọn mẫu, tạo thang đo cho biểu đồ, định tính hóa biến liên tục..."
   ]
  },
  {
   "cell_type": "code",
   "execution_count": 40,
   "id": "excellent-ability",
   "metadata": {},
   "outputs": [
    {
     "data": {
      "text/plain": [
       "array([ 1. , 10.9, 20.8, 30.7, 40.6, 50.5, 60.4, 70.3, 80.2, 90.1])"
      ]
     },
     "execution_count": 40,
     "metadata": {},
     "output_type": "execute_result"
    }
   ],
   "source": [
    "np.linspace(start = 1, stop = 100, num=10, \n",
    "            endpoint=False, dtype = 'float')"
   ]
  },
  {
   "cell_type": "code",
   "execution_count": 41,
   "id": "fifteen-courage",
   "metadata": {},
   "outputs": [
    {
     "data": {
      "text/plain": [
       "array([  1.        ,   6.21052632,  11.42105263,  16.63157895,\n",
       "        21.84210526,  27.05263158,  32.26315789,  37.47368421,\n",
       "        42.68421053,  47.89473684,  53.10526316,  58.31578947,\n",
       "        63.52631579,  68.73684211,  73.94736842,  79.15789474,\n",
       "        84.36842105,  89.57894737,  94.78947368, 100.        ])"
      ]
     },
     "execution_count": 41,
     "metadata": {},
     "output_type": "execute_result"
    }
   ],
   "source": [
    "np.linspace(start = 1, stop = 100, num=20, \n",
    "            endpoint=True, dtype = 'float')"
   ]
  },
  {
   "cell_type": "markdown",
   "id": "silver-partition",
   "metadata": {},
   "source": [
    "## Ghép nối arrays\n",
    "\n",
    "numpy cho phép ghép nối giữa các array nhỏ thành array lớn hơn bằng 3 cách: \n",
    "\n",
    "**concatenate**: Lưu ý: 2 array phải có cùng dimension (1 hoặc 2 chiều)), axis = 0 hoặc 1 cho phép ghép hàng/cột; nhưng chiều còn lại phải như nhau"
   ]
  },
  {
   "cell_type": "code",
   "execution_count": 42,
   "id": "ultimate-evening",
   "metadata": {},
   "outputs": [],
   "source": [
    "a = np.array([[1.,2.,3.,4],[5.,6.,7.,8.]])\n",
    "\n",
    "b = np.array([[9.,10.,11.,12.]])\n",
    "\n",
    "c = np.array([9,10,11,12])"
   ]
  },
  {
   "cell_type": "code",
   "execution_count": 43,
   "id": "nasty-zimbabwe",
   "metadata": {},
   "outputs": [
    {
     "data": {
      "text/plain": [
       "((2, 4), (1, 4), (4,))"
      ]
     },
     "execution_count": 43,
     "metadata": {},
     "output_type": "execute_result"
    }
   ],
   "source": [
    "a.shape, b.shape, c.shape \n",
    "#array c là 1 chiều, arrays a và b là 2 chiều"
   ]
  },
  {
   "cell_type": "code",
   "execution_count": 44,
   "id": "rolled-summer",
   "metadata": {},
   "outputs": [
    {
     "data": {
      "text/plain": [
       "array([[ 1.,  2.,  3.,  4.],\n",
       "       [ 5.,  6.,  7.,  8.],\n",
       "       [ 9., 10., 11., 12.]])"
      ]
     },
     "execution_count": 44,
     "metadata": {},
     "output_type": "execute_result"
    }
   ],
   "source": [
    "np.concatenate([a,b], axis = 0) \n",
    "# axis = 0: ghép hàng, lưu ý: số cột phải bằng nhau"
   ]
  },
  {
   "cell_type": "code",
   "execution_count": 45,
   "id": "weekly-gossip",
   "metadata": {},
   "outputs": [
    {
     "ename": "ValueError",
     "evalue": "all the input arrays must have same number of dimensions, but the array at index 0 has 2 dimension(s) and the array at index 1 has 1 dimension(s)",
     "output_type": "error",
     "traceback": [
      "\u001b[1;31m---------------------------------------------------------------------------\u001b[0m",
      "\u001b[1;31mValueError\u001b[0m                                Traceback (most recent call last)",
      "\u001b[1;32m<ipython-input-45-fc9f43b1871a>\u001b[0m in \u001b[0;36m<module>\u001b[1;34m\u001b[0m\n\u001b[1;32m----> 1\u001b[1;33m \u001b[0mnp\u001b[0m\u001b[1;33m.\u001b[0m\u001b[0mconcatenate\u001b[0m\u001b[1;33m(\u001b[0m\u001b[1;33m[\u001b[0m\u001b[0ma\u001b[0m\u001b[1;33m,\u001b[0m\u001b[0mc\u001b[0m\u001b[1;33m]\u001b[0m\u001b[1;33m)\u001b[0m\u001b[1;33m\u001b[0m\u001b[1;33m\u001b[0m\u001b[0m\n\u001b[0m",
      "\u001b[1;32m<__array_function__ internals>\u001b[0m in \u001b[0;36mconcatenate\u001b[1;34m(*args, **kwargs)\u001b[0m\n",
      "\u001b[1;31mValueError\u001b[0m: all the input arrays must have same number of dimensions, but the array at index 0 has 2 dimension(s) and the array at index 1 has 1 dimension(s)"
     ]
    }
   ],
   "source": [
    "np.concatenate([a,c])"
   ]
  },
  {
   "cell_type": "code",
   "execution_count": 46,
   "id": "manual-blues",
   "metadata": {},
   "outputs": [
    {
     "data": {
      "text/plain": [
       "((2, 4), (1, 4))"
      ]
     },
     "execution_count": 46,
     "metadata": {},
     "output_type": "execute_result"
    }
   ],
   "source": [
    "c = np.array([[1,2],[3,4],[5,6]])\n",
    "\n",
    "d = np.array([[7,8,9],[10,11,12],[13,14,15]])\n",
    "\n",
    "a.shape, b.shape"
   ]
  },
  {
   "cell_type": "code",
   "execution_count": 47,
   "id": "arranged-organization",
   "metadata": {},
   "outputs": [
    {
     "data": {
      "text/plain": [
       "array([[ 1,  2,  7,  8,  9],\n",
       "       [ 3,  4, 10, 11, 12],\n",
       "       [ 5,  6, 13, 14, 15]])"
      ]
     },
     "execution_count": 47,
     "metadata": {},
     "output_type": "execute_result"
    }
   ],
   "source": [
    "np.concatenate([c,d], axis = 1) \n",
    "# axis = 1: ghép cột, số hàng phải bằng nhau"
   ]
  },
  {
   "cell_type": "markdown",
   "id": "everyday-conspiracy",
   "metadata": {},
   "source": [
    "**vstack và hstack**\n",
    "\n",
    "vstack cho phép chồng 2 array theo chiều dọc (ghép hàng), hstack cho phép nối dài theo chiều ngang (ghép cột)"
   ]
  },
  {
   "cell_type": "code",
   "execution_count": 48,
   "id": "speaking-habitat",
   "metadata": {},
   "outputs": [
    {
     "data": {
      "text/plain": [
       "array([[1., 2., 3., 4.],\n",
       "       [5., 6., 7., 8.]])"
      ]
     },
     "execution_count": 48,
     "metadata": {},
     "output_type": "execute_result"
    }
   ],
   "source": [
    "a"
   ]
  },
  {
   "cell_type": "code",
   "execution_count": 49,
   "id": "introductory-newman",
   "metadata": {},
   "outputs": [
    {
     "data": {
      "text/plain": [
       "array([[ 9., 10., 11., 12.]])"
      ]
     },
     "execution_count": 49,
     "metadata": {},
     "output_type": "execute_result"
    }
   ],
   "source": [
    "b"
   ]
  },
  {
   "cell_type": "code",
   "execution_count": 50,
   "id": "broken-guest",
   "metadata": {},
   "outputs": [
    {
     "data": {
      "text/plain": [
       "array([[1, 2],\n",
       "       [3, 4],\n",
       "       [5, 6]])"
      ]
     },
     "execution_count": 50,
     "metadata": {},
     "output_type": "execute_result"
    }
   ],
   "source": [
    "c"
   ]
  },
  {
   "cell_type": "code",
   "execution_count": 51,
   "id": "monetary-brooks",
   "metadata": {},
   "outputs": [
    {
     "data": {
      "text/plain": [
       "array([[ 7,  8,  9],\n",
       "       [10, 11, 12],\n",
       "       [13, 14, 15]])"
      ]
     },
     "execution_count": 51,
     "metadata": {},
     "output_type": "execute_result"
    }
   ],
   "source": [
    "d"
   ]
  },
  {
   "cell_type": "code",
   "execution_count": 52,
   "id": "instrumental-orange",
   "metadata": {},
   "outputs": [
    {
     "data": {
      "text/plain": [
       "array([[ 1.,  2.,  3.,  4.],\n",
       "       [ 5.,  6.,  7.,  8.],\n",
       "       [ 9., 10., 11., 12.]])"
      ]
     },
     "execution_count": 52,
     "metadata": {},
     "output_type": "execute_result"
    }
   ],
   "source": [
    "np.vstack([a,b])"
   ]
  },
  {
   "cell_type": "code",
   "execution_count": 53,
   "id": "forty-humanitarian",
   "metadata": {},
   "outputs": [
    {
     "data": {
      "text/plain": [
       "array([[ 1,  2,  7,  8,  9],\n",
       "       [ 3,  4, 10, 11, 12],\n",
       "       [ 5,  6, 13, 14, 15]])"
      ]
     },
     "execution_count": 53,
     "metadata": {},
     "output_type": "execute_result"
    }
   ],
   "source": [
    "np.hstack([c,d])"
   ]
  },
  {
   "cell_type": "markdown",
   "id": "comfortable-prairie",
   "metadata": {},
   "source": [
    "**Ghép nối 1 array rỗng và 1 array có giá trị**"
   ]
  },
  {
   "cell_type": "code",
   "execution_count": 54,
   "id": "sporting-atmosphere",
   "metadata": {},
   "outputs": [
    {
     "data": {
      "text/plain": [
       "array([1., 2., 3., 4.])"
      ]
     },
     "execution_count": 54,
     "metadata": {},
     "output_type": "execute_result"
    }
   ],
   "source": [
    "np.hstack([np.array([]), np.array([1,2,3,4])])"
   ]
  },
  {
   "cell_type": "code",
   "execution_count": 55,
   "id": "bronze-dragon",
   "metadata": {},
   "outputs": [
    {
     "data": {
      "text/plain": [
       "array([1., 2., 3., 4.])"
      ]
     },
     "execution_count": 55,
     "metadata": {},
     "output_type": "execute_result"
    }
   ],
   "source": [
    "np.concatenate([np.array([]), np.array([1,2,3,4])])"
   ]
  },
  {
   "cell_type": "code",
   "execution_count": 56,
   "id": "agricultural-objective",
   "metadata": {},
   "outputs": [
    {
     "data": {
      "text/plain": [
       "array([[0., 0.],\n",
       "       [0., 0.],\n",
       "       [1., 2.],\n",
       "       [3., 4.]])"
      ]
     },
     "execution_count": 56,
     "metadata": {},
     "output_type": "execute_result"
    }
   ],
   "source": [
    "np.vstack([np.zeros((2,2)),\n",
    "           np.array([[1,2],[3,4]])])"
   ]
  },
  {
   "cell_type": "code",
   "execution_count": 57,
   "id": "resident-traffic",
   "metadata": {},
   "outputs": [
    {
     "data": {
      "text/plain": [
       "array([[0., 0., 0., 1., 2.],\n",
       "       [0., 0., 0., 3., 4.]])"
      ]
     },
     "execution_count": 57,
     "metadata": {},
     "output_type": "execute_result"
    }
   ],
   "source": [
    "np.hstack([np.zeros((2,3)),\n",
    "           np.array([[1,2],[3,4]])])"
   ]
  },
  {
   "cell_type": "markdown",
   "id": "european-diabetes",
   "metadata": {},
   "source": [
    "## Truy xuất dữ liệu: định vị, cắt lớp và lấy mẫu\n",
    "\n",
    "Trong nhiều trường hợp, chúng ta không làm việc trên toàn bộ array (vector hoặc ma trận) nhưng có nhu cầu truy xuất một bộ phận nhỏ - thí dụ rút ngẫu nhiên 1 hay nhiều tập dữ liệu nhỏ từ 1 tập lớn hơn, cắt dữ liệu thành 2-3 phần để dựng và kiểm định mô hình, tái chọn mẫu bootstrap, lựa chọn cột (biến số) khi khớp mô hình, hoặc truy nhập để sửa chữa/thay thế cho giá trị tại một số vị trí nhất định nào đó. \n",
    "\n",
    "Cho ma trận 2 chiều, ta lại có nhu cầu truy xuất vị trí hàng, cột, ô, đường chéo, các góc ma trận...\n",
    "\n",
    "Quy trình này có thể thực hiện bằng 3 cơ chế:\n",
    "\n",
    "+ Indexing: định vị rời rạc (vị trí trong array 1 chiều, hàng/cột/giao điểm hàng và cột trong matrix 2 chiều)\n",
    "\n",
    "+ Slicing: cắt lớp hàng loạt và liên tiếp (từ vị trí khởi đầu đến kết thúc, từ hàng này đến hàng khác, từ cột này đến cột khác...)\n",
    "\n",
    "+ Masking: Lọc dữ liệu theo giá trị logic (True,False) sinh ra từ 1 điều kiện, tiêu chí nào đó).\n",
    "\n",
    "Trong bài này, Nhi chỉ bàn về 2 cơ chế đầu tiên là indexing và sclicing. Qua đó ta sẽ nhận ra rằng có thể truy xuất dữ liệu tại một vị trí xác định trên array 1 chiều hay vector theo cùng cơ chế như với Pythonlist hoặc pandas series (cước số: index)\n",
    "\n",
    "**Định vị (Indexing) trên array 1 chiều**"
   ]
  },
  {
   "cell_type": "code",
   "execution_count": 58,
   "id": "spanish-evaluation",
   "metadata": {},
   "outputs": [
    {
     "data": {
      "text/plain": [
       "array([ 1.,  2.,  3.,  4.,  5.,  6.,  7.,  8.,  9., 10.], dtype=float32)"
      ]
     },
     "execution_count": 58,
     "metadata": {},
     "output_type": "execute_result"
    }
   ],
   "source": [
    "vect = np.arange(1,11, dtype = 'float32')\n",
    "\n",
    "vect"
   ]
  },
  {
   "cell_type": "markdown",
   "id": "ambient-smoke",
   "metadata": {},
   "source": [
    "Trong thí dụ này, ta có 1 vector gồm 10 phần tử (giá trị), được lưu trong array 1 chiều vect"
   ]
  },
  {
   "cell_type": "code",
   "execution_count": 59,
   "id": "lonely-chemistry",
   "metadata": {},
   "outputs": [
    {
     "data": {
      "text/plain": [
       "(10,)"
      ]
     },
     "execution_count": 59,
     "metadata": {},
     "output_type": "execute_result"
    }
   ],
   "source": [
    "vect.shape"
   ]
  },
  {
   "cell_type": "code",
   "execution_count": 60,
   "id": "streaming-christopher",
   "metadata": {},
   "outputs": [
    {
     "data": {
      "text/plain": [
       "10"
      ]
     },
     "execution_count": 60,
     "metadata": {},
     "output_type": "execute_result"
    }
   ],
   "source": [
    "len(vect)"
   ]
  },
  {
   "cell_type": "markdown",
   "id": "cross-symposium",
   "metadata": {},
   "source": [
    "array cũng sử dụng hệ thống index (cước số) xuôi chiều bắt đầu từ index = 0, và kết thúc ở index = len - 1, hoặc index ngược chiều từ -1 đến -(length)"
   ]
  },
  {
   "cell_type": "code",
   "execution_count": 61,
   "id": "seven-latino",
   "metadata": {},
   "outputs": [
    {
     "data": {
      "text/plain": [
       "1.0"
      ]
     },
     "execution_count": 61,
     "metadata": {},
     "output_type": "execute_result"
    }
   ],
   "source": [
    "vect[0]"
   ]
  },
  {
   "cell_type": "code",
   "execution_count": 62,
   "id": "allied-configuration",
   "metadata": {},
   "outputs": [
    {
     "data": {
      "text/plain": [
       "6.0"
      ]
     },
     "execution_count": 62,
     "metadata": {},
     "output_type": "execute_result"
    }
   ],
   "source": [
    "vect[5]"
   ]
  },
  {
   "cell_type": "code",
   "execution_count": 63,
   "id": "piano-notebook",
   "metadata": {},
   "outputs": [
    {
     "data": {
      "text/plain": [
       "10.0"
      ]
     },
     "execution_count": 63,
     "metadata": {},
     "output_type": "execute_result"
    }
   ],
   "source": [
    "vect[9]"
   ]
  },
  {
   "cell_type": "code",
   "execution_count": 64,
   "id": "thorough-august",
   "metadata": {},
   "outputs": [
    {
     "ename": "IndexError",
     "evalue": "index 10 is out of bounds for axis 0 with size 10",
     "output_type": "error",
     "traceback": [
      "\u001b[1;31m---------------------------------------------------------------------------\u001b[0m",
      "\u001b[1;31mIndexError\u001b[0m                                Traceback (most recent call last)",
      "\u001b[1;32m<ipython-input-64-9b864ec6fdd5>\u001b[0m in \u001b[0;36m<module>\u001b[1;34m\u001b[0m\n\u001b[1;32m----> 1\u001b[1;33m \u001b[0mvect\u001b[0m\u001b[1;33m[\u001b[0m\u001b[1;36m10\u001b[0m\u001b[1;33m]\u001b[0m \u001b[1;31m# vị trí thứ 10 không tồn tại, nên Python báo lỗi IndexError\u001b[0m\u001b[1;33m\u001b[0m\u001b[1;33m\u001b[0m\u001b[0m\n\u001b[0m",
      "\u001b[1;31mIndexError\u001b[0m: index 10 is out of bounds for axis 0 with size 10"
     ]
    }
   ],
   "source": [
    "vect[10] # vị trí thứ 10 không tồn tại, nên Python báo lỗi IndexError"
   ]
  },
  {
   "cell_type": "code",
   "execution_count": 65,
   "id": "fantastic-rotation",
   "metadata": {},
   "outputs": [
    {
     "data": {
      "text/plain": [
       "10.0"
      ]
     },
     "execution_count": 65,
     "metadata": {},
     "output_type": "execute_result"
    }
   ],
   "source": [
    "vect[-1]"
   ]
  },
  {
   "cell_type": "code",
   "execution_count": 66,
   "id": "centered-sport",
   "metadata": {},
   "outputs": [
    {
     "data": {
      "text/plain": [
       "9.0"
      ]
     },
     "execution_count": 66,
     "metadata": {},
     "output_type": "execute_result"
    }
   ],
   "source": [
    "vect[-2]"
   ]
  },
  {
   "cell_type": "markdown",
   "id": "standing-peninsula",
   "metadata": {},
   "source": [
    "**Lấy mẫu tại nhiều vị trí**\n",
    "\n",
    "Ta có thể lấy mẫu ngẫu nhiên tại nhiều vị trí, bằng cách đưa hàng loạt indices vào 1 list; một vị trí có thể lặp lại nhiều lần"
   ]
  },
  {
   "cell_type": "code",
   "execution_count": 67,
   "id": "subsequent-reflection",
   "metadata": {},
   "outputs": [
    {
     "data": {
      "text/plain": [
       "array([1., 2., 2., 4., 6., 4., 1.], dtype=float32)"
      ]
     },
     "execution_count": 67,
     "metadata": {},
     "output_type": "execute_result"
    }
   ],
   "source": [
    "vect[[0,1,1,3,5,3,0]]"
   ]
  },
  {
   "cell_type": "markdown",
   "id": "robust-responsibility",
   "metadata": {},
   "source": [
    "**Lấy mẫu ngẫu nhiên có/không có lặp lại**\n",
    "\n",
    "Sử dụng cơ chế indexing, ta có thể lấy mẫu ngẫu nhiên hoặc tái chọn mẫu có lặp lại (bootstrapping) bằng method random.choice từ chính numpy: \n",
    "\n",
    "Quy trình này như sau:\n",
    "\n",
    "+ Sử dụng np.arange hoặc range() để tạo ra danh sách tất cả index từ 0 đến n-1 của 1 array a có n phần tử (size = n)\n",
    "\n",
    "+ Sử dụng method np.random.choice để chọn ngẫu nhiên n phần tử từ danh sách index\n",
    "\n",
    "+ Dùng danh sách indices được chọn để làm indexing "
   ]
  },
  {
   "cell_type": "code",
   "execution_count": 69,
   "id": "fallen-victory",
   "metadata": {},
   "outputs": [
    {
     "data": {
      "text/plain": [
       "100"
      ]
     },
     "execution_count": 69,
     "metadata": {},
     "output_type": "execute_result"
    }
   ],
   "source": [
    "np.random.seed(123)\n",
    "\n",
    "a = np.arange(0,100)\n",
    "\n",
    "a.size"
   ]
  },
  {
   "cell_type": "code",
   "execution_count": 70,
   "id": "continental-dispute",
   "metadata": {},
   "outputs": [
    {
     "data": {
      "text/plain": [
       "array([ 0,  1,  2,  3,  4,  5,  6,  7,  8,  9, 10, 11, 12, 13, 14, 15, 16,\n",
       "       17, 18, 19, 20, 21, 22, 23, 24, 25, 26, 27, 28, 29, 30, 31, 32, 33,\n",
       "       34, 35, 36, 37, 38, 39, 40, 41, 42, 43, 44, 45, 46, 47, 48, 49, 50,\n",
       "       51, 52, 53, 54, 55, 56, 57, 58, 59, 60, 61, 62, 63, 64, 65, 66, 67,\n",
       "       68, 69, 70, 71, 72, 73, 74, 75, 76, 77, 78, 79, 80, 81, 82, 83, 84,\n",
       "       85, 86, 87, 88, 89, 90, 91, 92, 93, 94, 95, 96, 97, 98, 99])"
      ]
     },
     "execution_count": 70,
     "metadata": {},
     "output_type": "execute_result"
    }
   ],
   "source": [
    "lst_idx = np.arange(0,a.size)\n",
    "\n",
    "lst_idx"
   ]
  },
  {
   "cell_type": "code",
   "execution_count": 71,
   "id": "certain-commonwealth",
   "metadata": {},
   "outputs": [
    {
     "data": {
      "text/plain": [
       "array([ 8, 70, 82, 28, 63,  0,  5, 50, 81,  4, 23, 65, 76, 60, 24, 42, 77,\n",
       "       38, 56, 75])"
      ]
     },
     "execution_count": 71,
     "metadata": {},
     "output_type": "execute_result"
    }
   ],
   "source": [
    "# Chọn ngẫu nhiên 20 phần tử kg lặp lại từ a:\n",
    "\n",
    "a1 = a[np.random.choice(lst_idx, 20, replace = False)]\n",
    "\n",
    "a1"
   ]
  },
  {
   "cell_type": "code",
   "execution_count": 72,
   "id": "proud-profession",
   "metadata": {},
   "outputs": [
    {
     "data": {
      "text/plain": [
       "array([88, 72, 12, 64, 34, 69, 78, 93, 91, 19, 99, 82, 52, 61, 43, 80, 62,\n",
       "       32, 94, 20,  4, 16, 22, 21, 74, 47, 48, 87, 71, 31])"
      ]
     },
     "execution_count": 72,
     "metadata": {},
     "output_type": "execute_result"
    }
   ],
   "source": [
    "# Chọn ngẫu nhiên 30% từ a:\n",
    "\n",
    "a2 = a[np.random.choice(lst_idx, int(0.3*a.size), \n",
    "                        replace = False)]\n",
    "\n",
    "a2"
   ]
  },
  {
   "cell_type": "code",
   "execution_count": 73,
   "id": "spectacular-popularity",
   "metadata": {},
   "outputs": [
    {
     "data": {
      "text/plain": [
       "array([85, 25, 17, 58, 66, 45, 10,  8, 96, 25, 99, 67, 65,  7, 70, 99, 97,\n",
       "       39, 82, 92, 38,  5,  9, 40, 68, 87, 21, 89, 50, 36, 44, 92, 99, 83,\n",
       "       81, 61, 14, 78, 23, 62, 28, 80, 24, 15, 49, 80, 84, 90,  4, 21])"
      ]
     },
     "execution_count": 73,
     "metadata": {},
     "output_type": "execute_result"
    }
   ],
   "source": [
    "# Chọn ngẫu nhiên 50 phần tử, có lặp lại:\n",
    "\n",
    "a2 = a[np.random.choice(lst_idx, int(0.5*a.size), \n",
    "                        replace = True)]\n",
    "\n",
    "a2"
   ]
  },
  {
   "cell_type": "markdown",
   "id": "centered-needle",
   "metadata": {},
   "source": [
    "**Indexing cho array 2 chiều (matrix)**\n",
    "\n",
    "Trên array 2 chiều, ta có thể truy xuất theo hàng, cột, hoặc cả 2:"
   ]
  },
  {
   "cell_type": "code",
   "execution_count": 74,
   "id": "gorgeous-enough",
   "metadata": {},
   "outputs": [
    {
     "data": {
      "text/plain": [
       "array([[11, 12, 13],\n",
       "       [21, 22, 23],\n",
       "       [31, 32, 33]])"
      ]
     },
     "execution_count": 74,
     "metadata": {},
     "output_type": "execute_result"
    }
   ],
   "source": [
    "mat = np.array([[11,12,13],\n",
    "                [21,22,23],\n",
    "                [31,32,33]\n",
    "               ])\n",
    "\n",
    "mat"
   ]
  },
  {
   "cell_type": "markdown",
   "id": "resistant-potter",
   "metadata": {},
   "source": [
    "Định vị theo hàng:"
   ]
  },
  {
   "cell_type": "code",
   "execution_count": 75,
   "id": "freelance-yemen",
   "metadata": {},
   "outputs": [
    {
     "data": {
      "text/plain": [
       "array([21, 22, 23])"
      ]
     },
     "execution_count": 75,
     "metadata": {},
     "output_type": "execute_result"
    }
   ],
   "source": [
    "mat[1,:] # hàng thứ 2, như array 1 chiều"
   ]
  },
  {
   "cell_type": "code",
   "execution_count": 76,
   "id": "answering-fairy",
   "metadata": {},
   "outputs": [
    {
     "data": {
      "text/plain": [
       "array([21, 22, 23])"
      ]
     },
     "execution_count": 76,
     "metadata": {},
     "output_type": "execute_result"
    }
   ],
   "source": [
    "mat[1,] # hàng thứ 2, như array 1 chiều"
   ]
  },
  {
   "cell_type": "code",
   "execution_count": 77,
   "id": "convertible-cricket",
   "metadata": {},
   "outputs": [
    {
     "data": {
      "text/plain": [
       "array([[21, 22, 23]])"
      ]
     },
     "execution_count": 77,
     "metadata": {},
     "output_type": "execute_result"
    }
   ],
   "source": [
    "mat[[1],] # hàng thứ 2, như array 2 chiều"
   ]
  },
  {
   "cell_type": "markdown",
   "id": "dominant-indian",
   "metadata": {},
   "source": [
    "Chọn đồng loạt nhiều hàng"
   ]
  },
  {
   "cell_type": "code",
   "execution_count": 78,
   "id": "anticipated-mauritius",
   "metadata": {},
   "outputs": [
    {
     "data": {
      "text/plain": [
       "array([[11, 12, 13],\n",
       "       [31, 32, 33]])"
      ]
     },
     "execution_count": 78,
     "metadata": {},
     "output_type": "execute_result"
    }
   ],
   "source": [
    "mat[[0,2]] # Hàng thứ 1 VÀ thứ 3"
   ]
  },
  {
   "cell_type": "markdown",
   "id": "accredited-amazon",
   "metadata": {},
   "source": [
    "Định vị cột"
   ]
  },
  {
   "cell_type": "code",
   "execution_count": 79,
   "id": "confused-lover",
   "metadata": {},
   "outputs": [
    {
     "data": {
      "text/plain": [
       "array([13, 23, 33])"
      ]
     },
     "execution_count": 79,
     "metadata": {},
     "output_type": "execute_result"
    }
   ],
   "source": [
    "mat[:,2] # Cột thứ 3, như 1 array 1 chiều"
   ]
  },
  {
   "cell_type": "code",
   "execution_count": 80,
   "id": "passive-practitioner",
   "metadata": {},
   "outputs": [
    {
     "data": {
      "text/plain": [
       "array([[13],\n",
       "       [23],\n",
       "       [33]])"
      ]
     },
     "execution_count": 80,
     "metadata": {},
     "output_type": "execute_result"
    }
   ],
   "source": [
    "mat[:,[2]] # Cột thứ 3, như array 2 chiều"
   ]
  },
  {
   "cell_type": "markdown",
   "id": "hindu-progress",
   "metadata": {},
   "source": [
    "Chọn đồng loạt nhiều cột"
   ]
  },
  {
   "cell_type": "code",
   "execution_count": 81,
   "id": "fuzzy-pricing",
   "metadata": {},
   "outputs": [
    {
     "data": {
      "text/plain": [
       "array([[11, 13],\n",
       "       [21, 23],\n",
       "       [31, 33]])"
      ]
     },
     "execution_count": 81,
     "metadata": {},
     "output_type": "execute_result"
    }
   ],
   "source": [
    "mat[:,[0,2]] # Cộr 1 và cột 3"
   ]
  },
  {
   "cell_type": "markdown",
   "id": "empty-islam",
   "metadata": {},
   "source": [
    "Định vị giao điểm giữa hàng và cột (ô)"
   ]
  },
  {
   "cell_type": "code",
   "execution_count": 82,
   "id": "acting-grove",
   "metadata": {},
   "outputs": [
    {
     "data": {
      "text/plain": [
       "23"
      ]
     },
     "execution_count": 82,
     "metadata": {},
     "output_type": "execute_result"
    }
   ],
   "source": [
    "mat[1,2] # Hàng 2, cột 3"
   ]
  },
  {
   "cell_type": "markdown",
   "id": "collected-differential",
   "metadata": {},
   "source": [
    "Chọn hàng loạt nhiều ô"
   ]
  },
  {
   "cell_type": "code",
   "execution_count": 83,
   "id": "knowing-liquid",
   "metadata": {},
   "outputs": [
    {
     "data": {
      "text/plain": [
       "array([12, 33, 21])"
      ]
     },
     "execution_count": 83,
     "metadata": {},
     "output_type": "execute_result"
    }
   ],
   "source": [
    "mat[[0,2,1],[1,2,0]] \n",
    "\n",
    "# ô thứ 1: hàng 1 và cột 2 \n",
    "# ô thứ 2: hàng 3, cột 3\n",
    "# ô thứ 3: hàng 2, cột 1"
   ]
  },
  {
   "cell_type": "code",
   "execution_count": 84,
   "id": "labeled-conjunction",
   "metadata": {},
   "outputs": [
    {
     "data": {
      "text/plain": [
       "array([11, 31, 13, 33])"
      ]
     },
     "execution_count": 84,
     "metadata": {},
     "output_type": "execute_result"
    }
   ],
   "source": [
    "# 4 góc của ma trận\n",
    "\n",
    "mat[[0,-1,0,-1],[0,0,-1,-1]]"
   ]
  },
  {
   "cell_type": "markdown",
   "id": "concerned-witness",
   "metadata": {},
   "source": [
    "**Cắt lớp (slicing) array 1 chiều**\n",
    "\n",
    "Sử dụng cú pháp array[i:j]: truy xuất tất cả giá trị từ index = i đến index = j-1 (chú ý: tính từ i, nhưng không gồm j)"
   ]
  },
  {
   "cell_type": "code",
   "execution_count": 85,
   "id": "cubic-removal",
   "metadata": {},
   "outputs": [
    {
     "data": {
      "text/plain": [
       "array([1, 2, 3, 4, 5, 6, 7, 8, 9])"
      ]
     },
     "execution_count": 85,
     "metadata": {},
     "output_type": "execute_result"
    }
   ],
   "source": [
    "vect = np.arange(1,10)\n",
    "\n",
    "vect"
   ]
  },
  {
   "cell_type": "code",
   "execution_count": 86,
   "id": "pending-eugene",
   "metadata": {},
   "outputs": [
    {
     "data": {
      "text/plain": [
       "array([2, 3, 4, 5])"
      ]
     },
     "execution_count": 86,
     "metadata": {},
     "output_type": "execute_result"
    }
   ],
   "source": [
    "vect[1:5] # vị trí thứ 2 đến thứ 5"
   ]
  },
  {
   "cell_type": "code",
   "execution_count": 87,
   "id": "reduced-parent",
   "metadata": {},
   "outputs": [
    {
     "data": {
      "text/plain": [
       "array([4, 5, 6, 7, 8, 9])"
      ]
     },
     "execution_count": 87,
     "metadata": {},
     "output_type": "execute_result"
    }
   ],
   "source": [
    "vect[3:] # từ vị trí thứ 4 đến hết"
   ]
  },
  {
   "cell_type": "code",
   "execution_count": 88,
   "id": "recovered-austin",
   "metadata": {},
   "outputs": [
    {
     "data": {
      "text/plain": [
       "array([1, 2, 3, 4, 5, 6, 7, 8])"
      ]
     },
     "execution_count": 88,
     "metadata": {},
     "output_type": "execute_result"
    }
   ],
   "source": [
    "vect[:-1] # từ vị trí 0 đến áp chót"
   ]
  },
  {
   "cell_type": "code",
   "execution_count": 89,
   "id": "collected-diving",
   "metadata": {},
   "outputs": [
    {
     "data": {
      "text/plain": [
       "array([2, 3, 4, 5, 6, 7, 8, 9])"
      ]
     },
     "execution_count": 89,
     "metadata": {},
     "output_type": "execute_result"
    }
   ],
   "source": [
    "vect[1:] # từ vị trí thứ nhì đến hết"
   ]
  },
  {
   "cell_type": "code",
   "execution_count": 90,
   "id": "opening-hierarchy",
   "metadata": {},
   "outputs": [
    {
     "data": {
      "text/plain": [
       "array([7, 8, 9])"
      ]
     },
     "execution_count": 90,
     "metadata": {},
     "output_type": "execute_result"
    }
   ],
   "source": [
    "vect[-3:] # 3 vị trí sau cùng"
   ]
  },
  {
   "cell_type": "code",
   "execution_count": 91,
   "id": "documented-investing",
   "metadata": {},
   "outputs": [
    {
     "data": {
      "text/plain": [
       "array([1, 2, 3, 4, 5])"
      ]
     },
     "execution_count": 91,
     "metadata": {},
     "output_type": "execute_result"
    }
   ],
   "source": [
    "vect[:5] # 5 vị trí đầu tiên"
   ]
  },
  {
   "cell_type": "markdown",
   "id": "august-refund",
   "metadata": {},
   "source": [
    "**Thủ thuật: đảo ngược array**"
   ]
  },
  {
   "cell_type": "code",
   "execution_count": 92,
   "id": "apart-accent",
   "metadata": {},
   "outputs": [
    {
     "data": {
      "text/plain": [
       "array([9, 8, 7, 6, 5, 4, 3, 2, 1])"
      ]
     },
     "execution_count": 92,
     "metadata": {},
     "output_type": "execute_result"
    }
   ],
   "source": [
    "vect[::-1]"
   ]
  },
  {
   "cell_type": "markdown",
   "id": "social-theory",
   "metadata": {},
   "source": [
    "**Cắt lớp trên array 2 chiều (matrix)**"
   ]
  },
  {
   "cell_type": "code",
   "execution_count": 93,
   "id": "level-legend",
   "metadata": {},
   "outputs": [
    {
     "data": {
      "text/plain": [
       "array([[11, 12, 13, 14, 15],\n",
       "       [21, 22, 23, 24, 25],\n",
       "       [31, 32, 33, 34, 35],\n",
       "       [41, 42, 43, 44, 45],\n",
       "       [51, 52, 53, 54, 55]])"
      ]
     },
     "execution_count": 93,
     "metadata": {},
     "output_type": "execute_result"
    }
   ],
   "source": [
    "mat = np.array([[11,12,13,14,15],\n",
    "               [21,22,23,24,25],\n",
    "               [31,32,33,34,35],\n",
    "               [41,42,43,44,45],\n",
    "               [51,52,53,54,55],]\n",
    "              )\n",
    "\n",
    "mat"
   ]
  },
  {
   "cell_type": "markdown",
   "id": "developmental-requirement",
   "metadata": {},
   "source": [
    "**Slicing cột**"
   ]
  },
  {
   "cell_type": "code",
   "execution_count": 94,
   "id": "reflected-distribution",
   "metadata": {},
   "outputs": [
    {
     "data": {
      "text/plain": [
       "array([[11, 12, 13, 14],\n",
       "       [21, 22, 23, 24],\n",
       "       [31, 32, 33, 34],\n",
       "       [41, 42, 43, 44],\n",
       "       [51, 52, 53, 54]])"
      ]
     },
     "execution_count": 94,
     "metadata": {},
     "output_type": "execute_result"
    }
   ],
   "source": [
    "mat[:,:-1] # Cột thứ 1 đến cột áp chót"
   ]
  },
  {
   "cell_type": "code",
   "execution_count": 95,
   "id": "amazing-basement",
   "metadata": {},
   "outputs": [
    {
     "data": {
      "text/plain": [
       "array([[11, 12, 13, 14, 15],\n",
       "       [21, 22, 23, 24, 25],\n",
       "       [31, 32, 33, 34, 35]])"
      ]
     },
     "execution_count": 95,
     "metadata": {},
     "output_type": "execute_result"
    }
   ],
   "source": [
    "mat[:3,:] # 3 hàng đầu tiên"
   ]
  },
  {
   "cell_type": "code",
   "execution_count": 96,
   "id": "matched-savings",
   "metadata": {},
   "outputs": [
    {
     "data": {
      "text/plain": [
       "array([[11, 12],\n",
       "       [21, 22],\n",
       "       [31, 32]])"
      ]
     },
     "execution_count": 96,
     "metadata": {},
     "output_type": "execute_result"
    }
   ],
   "source": [
    "mat[:3,:2] # 3 hàng đầu tiên, 2 cột đầu tiên"
   ]
  },
  {
   "cell_type": "markdown",
   "id": "straight-census",
   "metadata": {},
   "source": [
    "**Trích dữ liệu trên đường chéo ma trận**"
   ]
  },
  {
   "cell_type": "code",
   "execution_count": 98,
   "id": "coordinate-stockholm",
   "metadata": {},
   "outputs": [
    {
     "data": {
      "text/plain": [
       "array([11, 22, 33, 44, 55])"
      ]
     },
     "execution_count": 98,
     "metadata": {},
     "output_type": "execute_result"
    }
   ],
   "source": [
    "np.diag(mat) # Đường chéo 11 đến 55"
   ]
  },
  {
   "cell_type": "code",
   "execution_count": 99,
   "id": "laden-plaintiff",
   "metadata": {},
   "outputs": [
    {
     "data": {
      "text/plain": [
       "array([11, 22, 33, 44, 55])"
      ]
     },
     "execution_count": 99,
     "metadata": {},
     "output_type": "execute_result"
    }
   ],
   "source": [
    "np.diagonal(mat)"
   ]
  },
  {
   "cell_type": "code",
   "execution_count": 100,
   "id": "thrown-astronomy",
   "metadata": {},
   "outputs": [
    {
     "data": {
      "text/plain": [
       "array([51, 42, 33, 24, 15])"
      ]
     },
     "execution_count": 100,
     "metadata": {},
     "output_type": "execute_result"
    }
   ],
   "source": [
    "np.diag(mat[::-1]) # Đường chéo còn lại (từ 15 đến 51)"
   ]
  },
  {
   "cell_type": "markdown",
   "id": "responsible-referral",
   "metadata": {},
   "source": [
    "**Lấy danh sách index của đường chéo**\n",
    "\n",
    "Một cách làm khác, đó là tạo 1 tuple chứa index hàng/cột của đường chéo của ma trận n cạnh - 2 chiều) trước, sau đó slicing matrix mat bằng hệ thống index này;"
   ]
  },
  {
   "cell_type": "code",
   "execution_count": 101,
   "id": "billion-communist",
   "metadata": {},
   "outputs": [
    {
     "data": {
      "text/plain": [
       "(array([0, 1, 2, 3, 4]), array([0, 1, 2, 3, 4]))"
      ]
     },
     "execution_count": 101,
     "metadata": {},
     "output_type": "execute_result"
    }
   ],
   "source": [
    "np.diag_indices(n = 5, ndim=2)"
   ]
  },
  {
   "cell_type": "code",
   "execution_count": 102,
   "id": "extended-ontario",
   "metadata": {},
   "outputs": [
    {
     "data": {
      "text/plain": [
       "array([11, 22, 33, 44, 55])"
      ]
     },
     "execution_count": 102,
     "metadata": {},
     "output_type": "execute_result"
    }
   ],
   "source": [
    "mat[np.diag_indices(n = 5, ndim=2)]"
   ]
  },
  {
   "cell_type": "markdown",
   "id": "classical-execution",
   "metadata": {},
   "source": [
    "Đây là cơ chế cho phép thay thế toàn bộ đường chéo bằng 1 giá trị nào đó"
   ]
  },
  {
   "cell_type": "code",
   "execution_count": 103,
   "id": "original-sociology",
   "metadata": {},
   "outputs": [
    {
     "data": {
      "text/plain": [
       "array([[999,  12,  13,  14,  15],\n",
       "       [ 21, 999,  23,  24,  25],\n",
       "       [ 31,  32, 999,  34,  35],\n",
       "       [ 41,  42,  43, 999,  45],\n",
       "       [ 51,  52,  53,  54, 999]])"
      ]
     },
     "execution_count": 103,
     "metadata": {},
     "output_type": "execute_result"
    }
   ],
   "source": [
    "mat[np.diag_indices(n = 5, ndim=2)] = 999\n",
    "\n",
    "mat"
   ]
  },
  {
   "cell_type": "code",
   "execution_count": 104,
   "id": "wrapped-skating",
   "metadata": {},
   "outputs": [
    {
     "data": {
      "text/plain": [
       "array([[ 0, 12, 13, 14, 15],\n",
       "       [21,  0, 23, 24, 25],\n",
       "       [31, 32,  0, 34, 35],\n",
       "       [41, 42, 43,  0, 45],\n",
       "       [51, 52, 53, 54,  0]])"
      ]
     },
     "execution_count": 104,
     "metadata": {},
     "output_type": "execute_result"
    }
   ],
   "source": [
    "mat[np.diag_indices(n = 5, ndim=2)] = 0\n",
    "\n",
    "mat"
   ]
  },
  {
   "cell_type": "markdown",
   "id": "separated-short",
   "metadata": {},
   "source": [
    "**Góc nửa trên của ma trận**"
   ]
  },
  {
   "cell_type": "code",
   "execution_count": 105,
   "id": "tested-enforcement",
   "metadata": {},
   "outputs": [],
   "source": [
    "mat = np.array([[11,12,13,14,15],\n",
    "               [21,22,23,24,25],\n",
    "               [31,32,33,34,35],\n",
    "               [41,42,43,44,45],\n",
    "               [51,52,53,54,55],]\n",
    "              )"
   ]
  },
  {
   "cell_type": "code",
   "execution_count": 106,
   "id": "affiliated-lease",
   "metadata": {},
   "outputs": [
    {
     "data": {
      "text/plain": [
       "array([[11, 12, 13, 14, 15],\n",
       "       [ 0, 22, 23, 24, 25],\n",
       "       [ 0,  0, 33, 34, 35],\n",
       "       [ 0,  0,  0, 44, 45],\n",
       "       [ 0,  0,  0,  0, 55]])"
      ]
     },
     "execution_count": 106,
     "metadata": {},
     "output_type": "execute_result"
    }
   ],
   "source": [
    "np.triu(mat)"
   ]
  },
  {
   "cell_type": "markdown",
   "id": "blind-taiwan",
   "metadata": {},
   "source": [
    "**Góc nửa dưới của ma trận**"
   ]
  },
  {
   "cell_type": "code",
   "execution_count": null,
   "id": "tough-nerve",
   "metadata": {},
   "outputs": [],
   "source": [
    "np.tril(mat)"
   ]
  },
  {
   "cell_type": "markdown",
   "id": "mysterious-hollow",
   "metadata": {},
   "source": [
    "**Truy nhập giá trị của nửa trên và nửa dưới ma trận**\n",
    "\n",
    "Ta dùng 2 method triu_indices và tril_indices để truy nhập/xuất và thay thế lần lượt tất cả giá trị của nửa trên và dưới ma trận"
   ]
  },
  {
   "cell_type": "code",
   "execution_count": 107,
   "id": "together-kelly",
   "metadata": {},
   "outputs": [
    {
     "data": {
      "text/plain": [
       "array([11, 12, 13, 14, 15, 22, 23, 24, 25, 33, 34, 35, 44, 45, 55])"
      ]
     },
     "execution_count": 107,
     "metadata": {},
     "output_type": "execute_result"
    }
   ],
   "source": [
    "# Truy xuất nửa trên, bao gồm đường chéo\n",
    "triu_idx = np.triu_indices(n=5,k=0)\n",
    "mat[triu_idx]"
   ]
  },
  {
   "cell_type": "code",
   "execution_count": 108,
   "id": "guilty-terrorism",
   "metadata": {},
   "outputs": [
    {
     "data": {
      "text/plain": [
       "array([12, 13, 14, 15, 23, 24, 25, 34, 35, 45])"
      ]
     },
     "execution_count": 108,
     "metadata": {},
     "output_type": "execute_result"
    }
   ],
   "source": [
    "# Truy xuất nửa trên, không bao gồm đường chéo\n",
    "\n",
    "triu_idx = np.triu_indices(n=5,k=1)\n",
    "mat[triu_idx]"
   ]
  },
  {
   "cell_type": "code",
   "execution_count": 109,
   "id": "decreased-portsmouth",
   "metadata": {},
   "outputs": [
    {
     "data": {
      "text/plain": [
       "array([11, 21, 22, 31, 32, 33, 41, 42, 43, 44, 51, 52, 53, 54, 55])"
      ]
     },
     "execution_count": 109,
     "metadata": {},
     "output_type": "execute_result"
    }
   ],
   "source": [
    "# Truy xuất nửa dưới, bao gồm đường chéo\n",
    "tril_idx = np.tril_indices(n=5,k=0)\n",
    "mat[tril_idx]"
   ]
  },
  {
   "cell_type": "code",
   "execution_count": 110,
   "id": "existing-fight",
   "metadata": {},
   "outputs": [
    {
     "data": {
      "text/plain": [
       "array([11, 12, 21, 22, 23, 31, 32, 33, 34, 41, 42, 43, 44, 45, 51, 52, 53,\n",
       "       54, 55])"
      ]
     },
     "execution_count": 110,
     "metadata": {},
     "output_type": "execute_result"
    }
   ],
   "source": [
    "# Truy xuất nửa dưới, không bao gồm đường chéo\n",
    "\n",
    "tril_idx = np.tril_indices(n=5,k=1)\n",
    "mat[tril_idx]"
   ]
  },
  {
   "cell_type": "markdown",
   "id": "wooden-delay",
   "metadata": {},
   "source": [
    "## Hình dạng array và các phép biến hình\n",
    "\n",
    "**Hình dạng của array 1 và 2 chiều**\n",
    "\n",
    "shape là thuộc tính về cấu trúc (hình dạng) của array, được trình bày bằng 1 tuple gồm nhiều con số. Kích thước của shape (tuple) cho biết số chiều array. Trong thống kê ta chỉ quan tâm đến ma trận (2 chiều) và vector (1 chiều), như vậy shape của vector chỉ có 1 con số là (n,) shape của matrix gồm 2 con số là (n,m), n cho biết số hàng (số trường hợp), m cho biết số cột (biến)"
   ]
  },
  {
   "cell_type": "code",
   "execution_count": 111,
   "id": "opponent-refrigerator",
   "metadata": {},
   "outputs": [],
   "source": [
    "vec = np.array([1,2,3,4,\n",
    "               5,6,7,8,\n",
    "               9,10,11,12])\n",
    "\n",
    "mat = np.array([[1,2,3,4],\n",
    "                [5,6,7,8],\n",
    "                [9,10,11,12]])"
   ]
  },
  {
   "cell_type": "code",
   "execution_count": 112,
   "id": "studied-recipe",
   "metadata": {},
   "outputs": [
    {
     "data": {
      "text/plain": [
       "array([ 1,  2,  3,  4,  5,  6,  7,  8,  9, 10, 11, 12])"
      ]
     },
     "execution_count": 112,
     "metadata": {},
     "output_type": "execute_result"
    }
   ],
   "source": [
    "vec"
   ]
  },
  {
   "cell_type": "code",
   "execution_count": 113,
   "id": "blessed-islam",
   "metadata": {},
   "outputs": [
    {
     "data": {
      "text/plain": [
       "array([[ 1,  2,  3,  4],\n",
       "       [ 5,  6,  7,  8],\n",
       "       [ 9, 10, 11, 12]])"
      ]
     },
     "execution_count": 113,
     "metadata": {},
     "output_type": "execute_result"
    }
   ],
   "source": [
    "mat"
   ]
  },
  {
   "cell_type": "code",
   "execution_count": 114,
   "id": "cosmetic-terrain",
   "metadata": {},
   "outputs": [
    {
     "data": {
      "text/plain": [
       "(12,)"
      ]
     },
     "execution_count": 114,
     "metadata": {},
     "output_type": "execute_result"
    }
   ],
   "source": [
    "vec.shape"
   ]
  },
  {
   "cell_type": "code",
   "execution_count": 115,
   "id": "protected-qualification",
   "metadata": {},
   "outputs": [
    {
     "data": {
      "text/plain": [
       "(3, 4)"
      ]
     },
     "execution_count": 115,
     "metadata": {},
     "output_type": "execute_result"
    }
   ],
   "source": [
    "mat.shape"
   ]
  },
  {
   "cell_type": "markdown",
   "id": "current-circus",
   "metadata": {},
   "source": [
    "Dùng cú pháp array.shape[0] cho biết số hàng trong 1 ma trận hoặc số phần tử trong 1 vector"
   ]
  },
  {
   "cell_type": "code",
   "execution_count": 116,
   "id": "static-seattle",
   "metadata": {},
   "outputs": [
    {
     "data": {
      "text/plain": [
       "3"
      ]
     },
     "execution_count": 116,
     "metadata": {},
     "output_type": "execute_result"
    }
   ],
   "source": [
    "mat.shape[0]"
   ]
  },
  {
   "cell_type": "code",
   "execution_count": 117,
   "id": "sexual-sending",
   "metadata": {},
   "outputs": [
    {
     "data": {
      "text/plain": [
       "12"
      ]
     },
     "execution_count": 117,
     "metadata": {},
     "output_type": "execute_result"
    }
   ],
   "source": [
    "vec.shape[0]"
   ]
  },
  {
   "cell_type": "markdown",
   "id": "athletic-inventory",
   "metadata": {},
   "source": [
    "Cú pháp array.shape[1] cho biết số cột trong ma trận"
   ]
  },
  {
   "cell_type": "code",
   "execution_count": 118,
   "id": "revolutionary-maryland",
   "metadata": {},
   "outputs": [
    {
     "data": {
      "text/plain": [
       "4"
      ]
     },
     "execution_count": 118,
     "metadata": {},
     "output_type": "execute_result"
    }
   ],
   "source": [
    "mat.shape[1]"
   ]
  },
  {
   "cell_type": "markdown",
   "id": "surgical-shock",
   "metadata": {},
   "source": [
    "Khi ta truy nhập vượt quá kích thước của shape tuple, Python sẽ báo IndexError"
   ]
  },
  {
   "cell_type": "code",
   "execution_count": 120,
   "id": "spoken-viewer",
   "metadata": {},
   "outputs": [
    {
     "ename": "IndexError",
     "evalue": "tuple index out of range",
     "output_type": "error",
     "traceback": [
      "\u001b[1;31m---------------------------------------------------------------------------\u001b[0m",
      "\u001b[1;31mIndexError\u001b[0m                                Traceback (most recent call last)",
      "\u001b[1;32m<ipython-input-120-46ea8a7acc20>\u001b[0m in \u001b[0;36m<module>\u001b[1;34m\u001b[0m\n\u001b[1;32m----> 1\u001b[1;33m \u001b[0mvec\u001b[0m\u001b[1;33m.\u001b[0m\u001b[0mshape\u001b[0m\u001b[1;33m[\u001b[0m\u001b[1;36m1\u001b[0m\u001b[1;33m]\u001b[0m\u001b[1;33m\u001b[0m\u001b[1;33m\u001b[0m\u001b[0m\n\u001b[0m",
      "\u001b[1;31mIndexError\u001b[0m: tuple index out of range"
     ]
    }
   ],
   "source": [
    "vec.shape[1]"
   ]
  },
  {
   "cell_type": "markdown",
   "id": "naval-remains",
   "metadata": {},
   "source": [
    "method reshape\n",
    "\n",
    "Ta lại thấy rằng, số phần tử của array (thuộc tính size) chính là tích của số hàng n và số cột m;\n",
    "\n",
    "Trong thí dụ này, cả vector vec và matrix mat đều có 12 phần tử ..."
   ]
  },
  {
   "cell_type": "code",
   "execution_count": 121,
   "id": "juvenile-mouse",
   "metadata": {},
   "outputs": [
    {
     "data": {
      "text/plain": [
       "12"
      ]
     },
     "execution_count": 121,
     "metadata": {},
     "output_type": "execute_result"
    }
   ],
   "source": [
    "mat.size"
   ]
  },
  {
   "cell_type": "code",
   "execution_count": 122,
   "id": "parallel-tenant",
   "metadata": {},
   "outputs": [
    {
     "data": {
      "text/plain": [
       "12"
      ]
     },
     "execution_count": 122,
     "metadata": {},
     "output_type": "execute_result"
    }
   ],
   "source": [
    "mat.shape[0] *  mat.shape[1] "
   ]
  },
  {
   "cell_type": "markdown",
   "id": "pressing-recipient",
   "metadata": {},
   "source": [
    "Hãy hình dung về một khối đất sét dẻo, hình dạng của nó có thể thay đổi nhưng thể tích là cố định không đổi. Một array cũng có thể thay đổi hình dạng theo cơ chế tương tự như vậy:\n",
    "\n",
    "Một array 1 chiều 12 phần tử có thể hoán chuyển thành 1 array 2 chiều có 1 hàng x 12 cột, 1 cột * 12 hàng, 3 hàng x 4 cột, 4 hàng x 3 cột, 2 hàng x 6 cột ...\n",
    "\n",
    "method reshape cho phép thực hiện hoán chuyển này"
   ]
  },
  {
   "cell_type": "code",
   "execution_count": 123,
   "id": "suspected-example",
   "metadata": {},
   "outputs": [
    {
     "data": {
      "text/plain": [
       "array([[ 1,  2,  3,  4,  5,  6],\n",
       "       [ 7,  8,  9, 10, 11, 12]])"
      ]
     },
     "execution_count": 123,
     "metadata": {},
     "output_type": "execute_result"
    }
   ],
   "source": [
    "mat.reshape((2,6))"
   ]
  },
  {
   "cell_type": "code",
   "execution_count": 124,
   "id": "outdoor-editing",
   "metadata": {},
   "outputs": [
    {
     "data": {
      "text/plain": [
       "array([[ 1,  2],\n",
       "       [ 3,  4],\n",
       "       [ 5,  6],\n",
       "       [ 7,  8],\n",
       "       [ 9, 10],\n",
       "       [11, 12]])"
      ]
     },
     "execution_count": 124,
     "metadata": {},
     "output_type": "execute_result"
    }
   ],
   "source": [
    "mat.reshape((6,2))"
   ]
  },
  {
   "cell_type": "code",
   "execution_count": 125,
   "id": "hungry-installation",
   "metadata": {},
   "outputs": [
    {
     "data": {
      "text/plain": [
       "array([[ 1,  2,  3,  4,  5,  6,  7,  8,  9, 10, 11, 12]])"
      ]
     },
     "execution_count": 125,
     "metadata": {},
     "output_type": "execute_result"
    }
   ],
   "source": [
    "mat.reshape((1,12)) # Chú ý, đây là ma trận 1 hàng 12 cột"
   ]
  },
  {
   "cell_type": "code",
   "execution_count": 126,
   "id": "extraordinary-thomson",
   "metadata": {},
   "outputs": [
    {
     "data": {
      "text/plain": [
       "array([[ 1],\n",
       "       [ 2],\n",
       "       [ 3],\n",
       "       [ 4],\n",
       "       [ 5],\n",
       "       [ 6],\n",
       "       [ 7],\n",
       "       [ 8],\n",
       "       [ 9],\n",
       "       [10],\n",
       "       [11],\n",
       "       [12]])"
      ]
     },
     "execution_count": 126,
     "metadata": {},
     "output_type": "execute_result"
    }
   ],
   "source": [
    "mat.reshape((12,1)) # Chú ý, đây là ma trận 12 hàng 1 cột"
   ]
  },
  {
   "cell_type": "code",
   "execution_count": 127,
   "id": "statutory-virtue",
   "metadata": {},
   "outputs": [
    {
     "data": {
      "text/plain": [
       "array([[ True,  True,  True,  True],\n",
       "       [ True,  True,  True,  True],\n",
       "       [ True,  True,  True,  True]])"
      ]
     },
     "execution_count": 127,
     "metadata": {},
     "output_type": "execute_result"
    }
   ],
   "source": [
    "vec.reshape((3,4)) == mat \n",
    "# Từ vector (array 1 chiều), có thể biến thành matrix 3x4, tương đương với mat"
   ]
  },
  {
   "cell_type": "code",
   "execution_count": 128,
   "id": "hourly-extreme",
   "metadata": {},
   "outputs": [
    {
     "data": {
      "text/plain": [
       "array([[ 1,  2,  3,  4],\n",
       "       [ 5,  6,  7,  8],\n",
       "       [ 9, 10, 11, 12]])"
      ]
     },
     "execution_count": 128,
     "metadata": {},
     "output_type": "execute_result"
    }
   ],
   "source": [
    "vec.reshape((3,4))"
   ]
  },
  {
   "cell_type": "markdown",
   "id": "reported-labor",
   "metadata": {},
   "source": [
    "Một matrix 4x3 có thể chuyển thành array 1 chiều có 12 phần tử."
   ]
  },
  {
   "cell_type": "code",
   "execution_count": 129,
   "id": "noted-premiere",
   "metadata": {},
   "outputs": [
    {
     "data": {
      "text/plain": [
       "array([ 1,  2,  3,  4,  5,  6,  7,  8,  9, 10, 11, 12])"
      ]
     },
     "execution_count": 129,
     "metadata": {},
     "output_type": "execute_result"
    }
   ],
   "source": [
    "mat.reshape(12)"
   ]
  },
  {
   "cell_type": "markdown",
   "id": "ancient-balloon",
   "metadata": {},
   "source": [
    "i ta không biết kích thước của array là bao nhiêu, nhưng muốn tạo nhanh 1 array 2 chiều, có thể dùng cú pháp sau:"
   ]
  },
  {
   "cell_type": "code",
   "execution_count": 130,
   "id": "preliminary-journey",
   "metadata": {},
   "outputs": [
    {
     "data": {
      "text/plain": [
       "array([[ 1],\n",
       "       [ 2],\n",
       "       [ 3],\n",
       "       [ 4],\n",
       "       [ 5],\n",
       "       [ 6],\n",
       "       [ 7],\n",
       "       [ 8],\n",
       "       [ 9],\n",
       "       [10],\n",
       "       [11],\n",
       "       [12]])"
      ]
     },
     "execution_count": 130,
     "metadata": {},
     "output_type": "execute_result"
    }
   ],
   "source": [
    "vec.reshape(vec.shape[0],1)"
   ]
  },
  {
   "cell_type": "markdown",
   "id": "fallen-business",
   "metadata": {},
   "source": [
    "**Tạo array 2 chiều nhanh với np.atleast()** \n",
    "\n",
    "method np.atleast_2d() tạo nhanh 1 array hoạc list A 1 chiều ở đầu vào thành 1 array mới B có 2 chiều:"
   ]
  },
  {
   "cell_type": "code",
   "execution_count": 131,
   "id": "attached-diesel",
   "metadata": {},
   "outputs": [
    {
     "data": {
      "text/plain": [
       "array([[ 1,  2,  3,  4,  5,  6,  7,  8,  9, 10, 11, 12]])"
      ]
     },
     "execution_count": 131,
     "metadata": {},
     "output_type": "execute_result"
    }
   ],
   "source": [
    "np.atleast_2d(vec)"
   ]
  },
  {
   "cell_type": "code",
   "execution_count": 132,
   "id": "blind-baptist",
   "metadata": {},
   "outputs": [
    {
     "data": {
      "text/plain": [
       "array([[1, 2, 3, 4, 5]])"
      ]
     },
     "execution_count": 132,
     "metadata": {},
     "output_type": "execute_result"
    }
   ],
   "source": [
    "np.atleast_2d([1,2,3,4,5])"
   ]
  },
  {
   "cell_type": "markdown",
   "id": "loved-breast",
   "metadata": {},
   "source": [
    "**Method reshape từ numpy**\n",
    "\n",
    "method reshape có thể gọi trực tiếp từ object ndarray, nhưng cũng có thể dùng từ numpy, với array là argument:\n",
    "\n",
    "Kết quả sẽ tương tự"
   ]
  },
  {
   "cell_type": "code",
   "execution_count": 133,
   "id": "referenced-understanding",
   "metadata": {},
   "outputs": [
    {
     "data": {
      "text/plain": [
       "array([[ 1,  2],\n",
       "       [ 3,  4],\n",
       "       [ 5,  6],\n",
       "       [ 7,  8],\n",
       "       [ 9, 10],\n",
       "       [11, 12]])"
      ]
     },
     "execution_count": 133,
     "metadata": {},
     "output_type": "execute_result"
    }
   ],
   "source": [
    "np.reshape(mat,(6,2))"
   ]
  },
  {
   "cell_type": "markdown",
   "id": "patient-shade",
   "metadata": {},
   "source": [
    "**Hoán chuyển nhanh 2 chiều thành 1 chiều**\n",
    "\n",
    "Sử dụng 2 method ravel hoặc flatten để hoán chuyển nhanh 1 matrix 2 chiều thành 1 vector 1 chiều:"
   ]
  },
  {
   "cell_type": "code",
   "execution_count": 134,
   "id": "later-wagner",
   "metadata": {},
   "outputs": [
    {
     "data": {
      "text/plain": [
       "array([ 1,  2,  3,  4,  5,  6,  7,  8,  9, 10, 11, 12])"
      ]
     },
     "execution_count": 134,
     "metadata": {},
     "output_type": "execute_result"
    }
   ],
   "source": [
    "a = mat.flatten()\n",
    "\n",
    "a"
   ]
  },
  {
   "cell_type": "code",
   "execution_count": 135,
   "id": "martial-toyota",
   "metadata": {},
   "outputs": [
    {
     "data": {
      "text/plain": [
       "array([ 1,  2,  3,  4,  5,  6,  7,  8,  9, 10, 11, 12])"
      ]
     },
     "execution_count": 135,
     "metadata": {},
     "output_type": "execute_result"
    }
   ],
   "source": [
    "b = mat.ravel()\n",
    "\n",
    "b"
   ]
  },
  {
   "cell_type": "markdown",
   "id": "appropriate-mainland",
   "metadata": {},
   "source": [
    "Sự khác biệt giữa flatten và ravel, đó là kết quả b của ravel có liên hệ với aray gốc là mat, nếu ta thay đổi nội dung của b, thì mat cũng thay đổi theo, còn flatten sẽ tạo ra 1 bản sao a độc lập vối mat"
   ]
  },
  {
   "cell_type": "code",
   "execution_count": 136,
   "id": "dirty-poker",
   "metadata": {},
   "outputs": [
    {
     "data": {
      "text/plain": [
       "array([999,   2,   3,   4,   5,   6,   7,   8,   9,  10,  11,  12])"
      ]
     },
     "execution_count": 136,
     "metadata": {},
     "output_type": "execute_result"
    }
   ],
   "source": [
    "a[0] = 999\n",
    "\n",
    "a"
   ]
  },
  {
   "cell_type": "code",
   "execution_count": 137,
   "id": "roman-bronze",
   "metadata": {},
   "outputs": [
    {
     "data": {
      "text/plain": [
       "array([[ 1,  2,  3,  4],\n",
       "       [ 5,  6,  7,  8],\n",
       "       [ 9, 10, 11, 12]])"
      ]
     },
     "execution_count": 137,
     "metadata": {},
     "output_type": "execute_result"
    }
   ],
   "source": [
    "mat"
   ]
  },
  {
   "cell_type": "code",
   "execution_count": 138,
   "id": "white-opening",
   "metadata": {},
   "outputs": [
    {
     "data": {
      "text/plain": [
       "array([  1, 999,   3,   4,   5,   6,   7,   8,   9,  10,  11,  12])"
      ]
     },
     "execution_count": 138,
     "metadata": {},
     "output_type": "execute_result"
    }
   ],
   "source": [
    "b[1] = 999\n",
    "\n",
    "b"
   ]
  },
  {
   "cell_type": "code",
   "execution_count": 139,
   "id": "honest-renaissance",
   "metadata": {},
   "outputs": [
    {
     "data": {
      "text/plain": [
       "array([[  1, 999,   3,   4],\n",
       "       [  5,   6,   7,   8],\n",
       "       [  9,  10,  11,  12]])"
      ]
     },
     "execution_count": 139,
     "metadata": {},
     "output_type": "execute_result"
    }
   ],
   "source": [
    "mat \n",
    "# phần tử thứ 2 của mat bị đồi thành 999 \n",
    "# vì mọi thay đổi trên b sẽ ghi lại trong mat"
   ]
  },
  {
   "cell_type": "markdown",
   "id": "undefined-twins",
   "metadata": {},
   "source": [
    "Bài thực hành đến đây tạm dừng, ta đã nắm được hầu hết những thao tác quan trọng nhất trong numpy, sẵn sàng dùng numpy cho mục tiêu thực hành Đại số tuyến tính.\n",
    "\n",
    "Trong bài tiếp theo, ta sẽ tìm hiểu về Scalar và Vector."
   ]
  }
 ],
 "metadata": {
  "kernelspec": {
   "display_name": "Python 3",
   "language": "python",
   "name": "python3"
  },
  "language_info": {
   "codemirror_mode": {
    "name": "ipython",
    "version": 3
   },
   "file_extension": ".py",
   "mimetype": "text/x-python",
   "name": "python",
   "nbconvert_exporter": "python",
   "pygments_lexer": "ipython3",
   "version": "3.8.5"
  },
  "toc": {
   "base_numbering": 1,
   "nav_menu": {},
   "number_sections": true,
   "sideBar": true,
   "skip_h1_title": false,
   "title_cell": "Table of Contents",
   "title_sidebar": "Contents",
   "toc_cell": false,
   "toc_position": {},
   "toc_section_display": true,
   "toc_window_display": false
  },
  "varInspector": {
   "cols": {
    "lenName": 16,
    "lenType": 16,
    "lenVar": 40
   },
   "kernels_config": {
    "python": {
     "delete_cmd_postfix": "",
     "delete_cmd_prefix": "del ",
     "library": "var_list.py",
     "varRefreshCmd": "print(var_dic_list())"
    },
    "r": {
     "delete_cmd_postfix": ") ",
     "delete_cmd_prefix": "rm(",
     "library": "var_list.r",
     "varRefreshCmd": "cat(var_dic_list()) "
    }
   },
   "types_to_exclude": [
    "module",
    "function",
    "builtin_function_or_method",
    "instance",
    "_Feature"
   ],
   "window_display": false
  }
 },
 "nbformat": 4,
 "nbformat_minor": 5
}
