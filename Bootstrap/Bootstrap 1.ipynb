{
 "cells": [
  {
   "cell_type": "markdown",
   "id": "antique-channel",
   "metadata": {},
   "source": [
    "# Lập trình Bootstrap với Python\n",
    "\n",
    "## Bài 1: Kỹ thuật chọn mẫu ngẫu nhiên có hoàn lại\n",
    "\n",
    "**BS. Lê Ngọc Khả Nhi\n",
    "\n",
    "# Giới thiệu\n",
    "\n",
    "Bootstrap là tập hợp một số kỹ thuật suy diễn thống kê dựa trên nguyên lý tái chọn mẫu có hoàn lại (resampling with replacement),được nhà thống kê Bradley Efron (1938-) phát triển trong giai đoạn từ năm 1979 đến 1987. Phương pháp này từng được xem như một cuộc cách mạng trong thống kê vì hiệu quả rất cao của nó, và được áp dụng phổ biến trong phân tích thống kê quy ước.\n",
    "\n",
    "Tuy rất hữu ích, nhưng bootstrap không không dễ tiếp cận - ngay cả với một số phần mềm thống kê thương mại như IBM-SPSS, chỉ có gói tính năng nâng cao mới được tích hợp quy trình Bootstrap, gói cơ bản không hõ trợ tính năng này. Khi dùng ngôn ngữ lập trình thống kê R, người dùng phải biết sử dụng một số thư viện chuyên biệt để thực hiện Bootstrap. Còn với Python ? Không có thư viện nào cả và bạn sẽ phải tự code mọi thứ một cách hoàn toàn thủ công. Do đó, Nhi quyết định thực hiện series bài thực hành chuyên đề lập trình Bootstrap dành cho các bạn dùng ngôn ngữ Python.\n",
    "\n",
    "\n",
    "# Cấu tạo một chương trình bootstrap\n",
    "\n",
    "Một quy trình Bootstrap trong Python gồm những công đoạn chính sau đây:\n",
    "\n",
    "1. Sử dụng một cơ chế sinh số giả ngẫu nhiên (Pseudorandom number generator) để sinh ra một mẫu ngẫu nhiên có hoàn lại từ dữ liệu gốc, và có kích thước đúng bằng với kích thước dữ liệu gốc.\n",
    "\n",
    "2. Áp dụng 1 hàm thống kê mục tiêu (target function), cho phép uớc tính một chỉ số thống kê từ dữ liệu đầu vào là mẫu ngẫu nhiên vừa được sinh ra trong bước 1 (thí dụ: trung bình, trung vị, hệ số tương quan...)\n",
    "\n",
    "3. Lặp lại 2 bước trên rất nhiều lượt (thường lớn hơn 1000), mỗi lần lưu kết quả vào một cấu trúc dữ liệu (list, array, tensor, dictionary...).\n",
    "\n",
    "4. Thực hiện suy diễn thống kê trên dữ liệu kết quả từ bước 3, thí dụ khoảng tin cậy (CI), khoảng tin cậy có hiệu chỉnh bias-corrected and accelerated (BCa), kiểm định thống kê hoán vị (permutation test)... \n",
    "\n",
    "# Quy trình sinh mẫu ngẫu nhiên\n",
    "\n",
    "Như ta thấy, bộ phận cơ bản và thiết yếu cho quy trình Bootstrap chính là một cơ chế để sinh mẫu ngẫu nhiên. Dữ liệu đầu vào của quy trình này thường là 1 list, array hoặc tensor, tùy thư viện mà ta dùng. Dữ liệu đầu ra là một cấu trúc dữ liệu tương đồng, cùng kích thước nhưng thành phần bên trong được rút ngẫu nhiên có hoàn lại từ dữ liệu gốc.\n",
    "\n",
    "Trong bài đầu tiên này Nhi sẽ giới thiệu với các bạn tất cả giải pháp mà Nhi biết để tiến hành quy trình sinh mẫu ngẫu nhiên này, bao gồm:\n",
    "\n",
    "1) Sử dụng module random mặc định của Python;\n",
    "\n",
    "2) Sử numpy array (CPU)\n",
    "\n",
    "3) Sử dụng GPU (cupy array, tensorflow và pytorch tensors)\n",
    "\n",
    "4) Sử dụng thư viện cấp cao: pandas.Series và pandas.DataFrame"
   ]
  },
  {
   "cell_type": "code",
   "execution_count": 5,
   "id": "dimensional-stephen",
   "metadata": {},
   "outputs": [],
   "source": [
    "import numpy as np\n",
    "import cupy as cp\n",
    "import torch\n",
    "import tensorflow as tf\n",
    "import pandas as pd\n",
    "import random\n",
    "from collections import Counter\n",
    "import seaborn as sns\n",
    "import matplotlib.pyplot as plt\n",
    "import scipy.stats as stats"
   ]
  },
  {
   "cell_type": "markdown",
   "id": "suffering-framing",
   "metadata": {},
   "source": [
    "Nhi chuẩn bị 1 hàm để vẽ histogram khảo sát dữ liệu, nó sẽ cho ta biết cấu trúc bên trong của mẫu đã bị xáo trộn đến mức nào..."
   ]
  },
  {
   "cell_type": "code",
   "execution_count": 22,
   "id": "serious-excuse",
   "metadata": {},
   "outputs": [],
   "source": [
    "def histogram(data: np.array, bins=50):\n",
    "    \n",
    "    plt.rcParams[\"figure.figsize\"] = (20,3)\n",
    "    cm = plt.cm.get_cmap('RdYlGn')\n",
    "    \n",
    "    plt.rcParams[\"figure.figsize\"] = (6,2)\n",
    "\n",
    "    n, bins, patches = plt.hist(data, bins = bins)\n",
    "    bin_centers = 1 * (bins[:-1] + bins[1:])\n",
    "    col = bin_centers - min(bin_centers)\n",
    "    col /= max(col)\n",
    "    \n",
    "    for c, p in zip(col, patches):\n",
    "        plt.setp(p, 'facecolor', cm(c))\n",
    "\n",
    "    plt.show()"
   ]
  },
  {
   "cell_type": "markdown",
   "id": "celtic-jordan",
   "metadata": {},
   "source": [
    "Dữ liệu gốc của chúng ta là 1 list gồm 100 con số từ 0 đến 99"
   ]
  },
  {
   "cell_type": "code",
   "execution_count": 36,
   "id": "rental-filing",
   "metadata": {},
   "outputs": [
    {
     "name": "stdout",
     "output_type": "stream",
     "text": [
      "[0, 1, 2, 3, 4, 5, 6, 7, 8, 9, 10, 11, 12, 13, 14, 15, 16, 17, 18, 19, 20, 21, 22, 23, 24, 25, 26, 27, 28, 29, 30, 31, 32, 33, 34, 35, 36, 37, 38, 39, 40, 41, 42, 43, 44, 45, 46, 47, 48, 49, 50, 51, 52, 53, 54, 55, 56, 57, 58, 59, 60, 61, 62, 63, 64, 65, 66, 67, 68, 69, 70, 71, 72, 73, 74, 75, 76, 77, 78, 79, 80, 81, 82, 83, 84, 85, 86, 87, 88, 89, 90, 91, 92, 93, 94, 95, 96, 97, 98, 99]\n"
     ]
    }
   ],
   "source": [
    "x = list(range(100))\n",
    "\n",
    "print(x)"
   ]
  },
  {
   "cell_type": "markdown",
   "id": "sunset-enterprise",
   "metadata": {},
   "source": [
    "Như vậy, mỗi phần tử trong x chỉ xuất hiện 1 lần, histogram có hình ảnh đồng dạng như sau:"
   ]
  },
  {
   "cell_type": "code",
   "execution_count": 25,
   "id": "stable-blackjack",
   "metadata": {},
   "outputs": [
    {
     "data": {
      "image/png": "[encoded data removed]",
      "text/plain": [
       "<Figure size 600x200 with 1 Axes>"
      ]
     },
     "metadata": {},
     "output_type": "display_data"
    }
   ],
   "source": [
    "histogram(data = x, bins=len(x))"
   ]
  },
  {
   "cell_type": "markdown",
   "id": "fifth-bridal",
   "metadata": {},
   "source": [
    "# Python random\n",
    "\n",
    "**random.randint**\n",
    "\n",
    "Sau khi phân tích, ta nhận thấy rằng: chìa khóa giải quyết vấn đề ở đây là ta cần tạo ra danh sách ngẫu nhiên có hoàn lại các giá trị indices, sau đó áp dụng index này cho tập dữ liệu gốc; vì giá trị trong list, array hay tensor đều có thể định vị, trích xuất bằng index. \n",
    "\n",
    "Cách thứ 1 là dùng chính thư viện random mà Python cung cấp, method randint cho phép rút ngẫu nhiên 1 giá trị index từ a đến b, ở đây a = 0 và b = len(x) - 1 (lưu ý: hệ index của Python đếm từ 0, và method randint này có thể xuất ra cả a và b !)"
   ]
  },
  {
   "cell_type": "code",
   "execution_count": 46,
   "id": "verified-korean",
   "metadata": {},
   "outputs": [
    {
     "data": {
      "image/png": "[encoded data removed]",
      "text/plain": [
       "<Figure size 600x200 with 1 Axes>"
      ]
     },
     "metadata": {},
     "output_type": "display_data"
    }
   ],
   "source": [
    "k = len(x)\n",
    "rs_idx = [random.randint(0,k-1) for i in range(k)]\n",
    "\n",
    "histogram(data = np.array(x)[rs_idx], \n",
    "          bins=k)"
   ]
  },
  {
   "cell_type": "markdown",
   "id": "finished-celebration",
   "metadata": {},
   "source": [
    "**random.randrange**\n",
    "\n",
    "Cách thứ hai, ta dùng method random.randrange, nó cũng hoạt động theo cơ chế tương tự: Tuy nhiên nó không bao gồm index = k, do đó ta không cần dùng k-1"
   ]
  },
  {
   "cell_type": "code",
   "execution_count": 47,
   "id": "exposed-wichita",
   "metadata": {
    "scrolled": false
   },
   "outputs": [
    {
     "data": {
      "image/png": "[encoded data removed]",
      "text/plain": [
       "<Figure size 600x200 with 1 Axes>"
      ]
     },
     "metadata": {},
     "output_type": "display_data"
    }
   ],
   "source": [
    "rs_idx = [random.randrange(0,k) for i in range(k)]\n",
    "\n",
    "histogram(data = np.array(x)[rs_idx], bins=k)"
   ]
  },
  {
   "cell_type": "markdown",
   "id": "progressive-speed",
   "metadata": {},
   "source": [
    "**random.choice**\n",
    "\n",
    "Cách làm thứ 3 là dùng method random.choice. Như ta thấy, cả 3 cách làm trên đều chỉ sinh ra mỗi lần 1 giá trị index ngẫu nhiên, do đó ta phải kết hợp thêm list comprehension để tạo ra danh sách index đầy đủ."
   ]
  },
  {
   "cell_type": "code",
   "execution_count": 42,
   "id": "closed-anatomy",
   "metadata": {},
   "outputs": [
    {
     "data": {
      "image/png": "[encoded data removed]",
      "text/plain": [
       "<Figure size 600x200 with 1 Axes>"
      ]
     },
     "metadata": {},
     "output_type": "display_data"
    }
   ],
   "source": [
    "rs_idx = [random.choice(range(0,k)) for i in range(k)]\n",
    "\n",
    "histogram(data = np.array(x)[rs_idx], bins=k)"
   ]
  },
  {
   "cell_type": "markdown",
   "id": "convertible-fifty",
   "metadata": {},
   "source": [
    "**random.uniform**\n",
    "\n",
    "Một cách làm khác, hơi kì dị đó là dùng bộ sinh giá trị ngẫu nhiên cho phân phối đồng dạng (uniform). Lưu ý: do phân phối đồng dạng là một phân phối liên tục nên giá trị mà nó xuất ra là float number, ta cần chuyển thành integer thông qua hàm int() để làm tròn giá trị thành số nguyên - để có thể sử dụng như index."
   ]
  },
  {
   "cell_type": "code",
   "execution_count": 51,
   "id": "stable-expense",
   "metadata": {},
   "outputs": [
    {
     "data": {
      "image/png": "[encoded data removed]",
      "text/plain": [
       "<Figure size 600x200 with 1 Axes>"
      ]
     },
     "metadata": {},
     "output_type": "display_data"
    }
   ],
   "source": [
    "rs_idx = [int(random.uniform(0,k)) for i in range(k)]\n",
    "\n",
    "histogram(data = np.array(x)[rs_idx], bins=k)"
   ]
  },
  {
   "cell_type": "markdown",
   "id": "breeding-trail",
   "metadata": {},
   "source": [
    "**random.choices**\n",
    "\n",
    "Tuy nhiên, cách làm tối ưu nhất là method random.choices (chú ý chữ s), nó áp dụng trực tiếp lên list/array x và sẽ xuất ra ngay mẫu ngẫu nhiên mà ta cần:\n",
    "\n",
    "Đây là cách làm chính thức và phổ biến được dùng bởi nhiều tác giả khi lập trình bootstrap."
   ]
  },
  {
   "cell_type": "code",
   "execution_count": 52,
   "id": "fatty-democracy",
   "metadata": {},
   "outputs": [
    {
     "data": {
      "image/png": "[encoded data removed]",
      "text/plain": [
       "<Figure size 600x200 with 1 Axes>"
      ]
     },
     "metadata": {},
     "output_type": "display_data"
    }
   ],
   "source": [
    "rsx = random.choices(x, k = 100)\n",
    "\n",
    "histogram(data = rsx, bins=len(rsx))"
   ]
  },
  {
   "cell_type": "markdown",
   "id": "handled-snapshot",
   "metadata": {},
   "source": [
    "Lưu ý; ta không thể dùng method random.sample, bởi vì nó hoạt động theo cơ chế KHÔNG hoàn lại, ta chỉ hoán đổi vị trí các phần tử trong danh sách x, nhưng đây không phải là bootstrap !"
   ]
  },
  {
   "cell_type": "code",
   "execution_count": 112,
   "id": "alone-sandwich",
   "metadata": {},
   "outputs": [
    {
     "data": {
      "image/png": "[encoded data removed]",
      "text/plain": [
       "<Figure size 600x200 with 1 Axes>"
      ]
     },
     "metadata": {},
     "output_type": "display_data"
    }
   ],
   "source": [
    "rsx_wor = random.sample(x.tolist(), k = 100)\n",
    "\n",
    "histogram(data = rsx_wor, bins=len(rsx))"
   ]
  },
  {
   "cell_type": "markdown",
   "id": "muslim-control",
   "metadata": {},
   "source": [
    "# Numpy\n",
    "\n",
    "**numpy.randint**\n",
    "\n",
    "Tiếp theo, ta sẽ dùng numpy, để đồng bộ ta chuyển x từ list thành np.array 1 chiều; method np.random.randint sẽ tạo ra danh sách k con số index ngẫu nhiên trong khoảng 0,k, bao gồm cả 0 và k, có hoàn lại; sau đó áp dụng index này cho array gốc, ta sinh ra được mẫu ngẫu nhiên cần thiết"
   ]
  },
  {
   "cell_type": "code",
   "execution_count": 53,
   "id": "otherwise-titanium",
   "metadata": {},
   "outputs": [
    {
     "data": {
      "image/png": "[encoded data removed]",
      "text/plain": [
       "<Figure size 600x200 with 1 Axes>"
      ]
     },
     "metadata": {},
     "output_type": "display_data"
    }
   ],
   "source": [
    "x = np.array(x)\n",
    "\n",
    "rs_idx = np.random.randint(0,k,k)\n",
    "\n",
    "histogram(data = x[rs_idx], bins=len(rsx))"
   ]
  },
  {
   "cell_type": "markdown",
   "id": "aquatic-journey",
   "metadata": {},
   "source": [
    "**np.random.choice**\n",
    "\n",
    "Numpy cung cấp method random.choice tương đương với random.choices mặc định của Python:\n",
    "\n",
    "Đây là cách làm chính thức và hiệu quả nhất khi lập trình bootstrap với numpy array."
   ]
  },
  {
   "cell_type": "code",
   "execution_count": 141,
   "id": "delayed-mississippi",
   "metadata": {},
   "outputs": [
    {
     "data": {
      "image/png": "[encoded data removed]",
      "text/plain": [
       "<Figure size 600x200 with 1 Axes>"
      ]
     },
     "metadata": {},
     "output_type": "display_data"
    }
   ],
   "source": [
    "rsx = np.random.choice(x,size = k, replace=True)\n",
    "\n",
    "histogram(data = rsx, bins=len(rsx))"
   ]
  },
  {
   "cell_type": "markdown",
   "id": "breathing-kazakhstan",
   "metadata": {},
   "source": [
    "Lưu ý: Phần sau đây chạy trên GPU, nên nếu máy tính của bạn không có GPU thì không cần quan tâm:\n",
    "\n",
    "# Pytorch\n",
    "\n",
    "Nếu muốn lập trình bootstrap sử dụng GPU, ta có 3 giải pháp: pytorch, tensorflow và cupy;\n",
    "\n",
    "Pytorch sử dụng cấu trúc dữ liệu là tensor; ta sẽ dùng con đường phân phối multinomial của pytorch.\n",
    "\n",
    "Nhi viết 1 hàm như bên dưới, hàm này sẽ sinh ra danh sách index của tensor, sau đó dùng index này để chọn mẫu."
   ]
  },
  {
   "cell_type": "code",
   "execution_count": 54,
   "id": "emotional-preview",
   "metadata": {},
   "outputs": [],
   "source": [
    "def torch_boot_idx(pop_size, num_samples):\n",
    "    p = torch.ones(pop_size, device='cuda') / pop_size\n",
    "    return p.multinomial(num_samples=num_samples, replacement=True)"
   ]
  },
  {
   "cell_type": "code",
   "execution_count": 57,
   "id": "charitable-barrier",
   "metadata": {},
   "outputs": [
    {
     "data": {
      "image/png": "[encoded data removed]",
      "text/plain": [
       "<Figure size 600x200 with 1 Axes>"
      ]
     },
     "metadata": {},
     "output_type": "display_data"
    }
   ],
   "source": [
    "tor_idx = torch_boot_idx(pop_size = k, num_samples = k)\n",
    "\n",
    "torch_x = torch.tensor(x, device = 'cuda') # Lưu ý: đang dùng GPU\n",
    "\n",
    "histogram(data = torch_x[tor_idx].cpu().detach().numpy(), \n",
    "          bins=k)"
   ]
  },
  {
   "cell_type": "code",
   "execution_count": 236,
   "id": "powerful-herald",
   "metadata": {},
   "outputs": [
    {
     "data": {
      "image/png": "[encoded data removed]",
      "text/plain": [
       "<Figure size 600x200 with 1 Axes>"
      ]
     },
     "metadata": {},
     "output_type": "display_data"
    }
   ],
   "source": [
    "tor_idx = torch.randint(0,k,size = (k,), device = 'cuda')\n",
    "\n",
    "histogram(data = torch_x[tor_idx].cpu().detach().numpy(), \n",
    "          bins=k)"
   ]
  },
  {
   "cell_type": "markdown",
   "id": "hearing-congo",
   "metadata": {},
   "source": [
    "# Tensorflow\n",
    "\n",
    "Khi dùng thư viện tensorflow, ta có thể đi theo con đường phân phối uniform như sau:"
   ]
  },
  {
   "cell_type": "code",
   "execution_count": 58,
   "id": "furnished-frame",
   "metadata": {},
   "outputs": [
    {
     "data": {
      "text/plain": [
       "<tf.Tensor: shape=(100,), dtype=int32, numpy=\n",
       "array([ 0,  1,  2,  3,  4,  5,  6,  7,  8,  9, 10, 11, 12, 13, 14, 15, 16,\n",
       "       17, 18, 19, 20, 21, 22, 23, 24, 25, 26, 27, 28, 29, 30, 31, 32, 33,\n",
       "       34, 35, 36, 37, 38, 39, 40, 41, 42, 43, 44, 45, 46, 47, 48, 49, 50,\n",
       "       51, 52, 53, 54, 55, 56, 57, 58, 59, 60, 61, 62, 63, 64, 65, 66, 67,\n",
       "       68, 69, 70, 71, 72, 73, 74, 75, 76, 77, 78, 79, 80, 81, 82, 83, 84,\n",
       "       85, 86, 87, 88, 89, 90, 91, 92, 93, 94, 95, 96, 97, 98, 99])>"
      ]
     },
     "execution_count": 58,
     "metadata": {},
     "output_type": "execute_result"
    }
   ],
   "source": [
    "tf_x = tf.convert_to_tensor(x)\n",
    "\n",
    "tf_x"
   ]
  },
  {
   "cell_type": "code",
   "execution_count": 59,
   "id": "eligible-supply",
   "metadata": {},
   "outputs": [
    {
     "data": {
      "text/plain": [
       "<tf.Tensor: shape=(100,), dtype=int32, numpy=\n",
       "array([20, 33, 18, 20, 65, 20, 26, 14, 39, 85, 85, 28,  0, 44, 72, 45, 97,\n",
       "       94, 86, 36, 99, 40, 93, 30, 97, 47, 12, 38, 99,  6, 29, 30, 96, 62,\n",
       "       71, 15, 48, 29, 84, 52, 93, 46, 48, 57, 44, 74, 13, 31,  8, 10, 98,\n",
       "       95, 59, 47, 85, 76, 93, 24, 79, 87, 49, 89, 35, 95, 79, 39, 15, 85,\n",
       "       19, 61, 52, 25,  9, 48, 58, 79, 87, 88, 31, 93, 32, 48, 11, 49, 66,\n",
       "       22, 69, 14, 85, 90, 26, 16, 64, 39, 49,  5, 62, 81, 23, 12])>"
      ]
     },
     "execution_count": 59,
     "metadata": {},
     "output_type": "execute_result"
    }
   ],
   "source": [
    "tf_idx = tf.random.uniform((k,), minval=0, maxval=k, dtype = tf.dtypes.int32)\n",
    "\n",
    "tf_idx"
   ]
  },
  {
   "cell_type": "code",
   "execution_count": 60,
   "id": "after-pakistan",
   "metadata": {},
   "outputs": [
    {
     "data": {
      "image/png": "[encoded data removed]",
      "text/plain": [
       "<Figure size 600x200 with 1 Axes>"
      ]
     },
     "metadata": {},
     "output_type": "display_data"
    }
   ],
   "source": [
    "histogram(data = tf_x.numpy()[tf_idx], \n",
    "          bins=k)"
   ]
  },
  {
   "cell_type": "markdown",
   "id": "broad-palestine",
   "metadata": {},
   "source": [
    "# cupy\n",
    "\n",
    "cupy được xem như phiên bản của numpy nhưng chạy trên GPU, nó cung cấp hầu hết những method với cú pháp và tên gọi giống y như trong numpy, nhưng tốc độ thi hành nhanh hơn khi dùng cho dữ liệu lớn:"
   ]
  },
  {
   "cell_type": "code",
   "execution_count": 61,
   "id": "reliable-prime",
   "metadata": {},
   "outputs": [
    {
     "data": {
      "text/plain": [
       "array([ 0,  1,  2,  3,  4,  5,  6,  7,  8,  9, 10, 11, 12, 13, 14, 15, 16,\n",
       "       17, 18, 19, 20, 21, 22, 23, 24, 25, 26, 27, 28, 29, 30, 31, 32, 33,\n",
       "       34, 35, 36, 37, 38, 39, 40, 41, 42, 43, 44, 45, 46, 47, 48, 49, 50,\n",
       "       51, 52, 53, 54, 55, 56, 57, 58, 59, 60, 61, 62, 63, 64, 65, 66, 67,\n",
       "       68, 69, 70, 71, 72, 73, 74, 75, 76, 77, 78, 79, 80, 81, 82, 83, 84,\n",
       "       85, 86, 87, 88, 89, 90, 91, 92, 93, 94, 95, 96, 97, 98, 99])"
      ]
     },
     "execution_count": 61,
     "metadata": {},
     "output_type": "execute_result"
    }
   ],
   "source": [
    "gpu_x = cp.asarray(x)\n",
    "\n",
    "gpu_x"
   ]
  },
  {
   "cell_type": "code",
   "execution_count": 62,
   "id": "purple-recorder",
   "metadata": {},
   "outputs": [
    {
     "data": {
      "text/plain": [
       "array([77, 71,  3, 60, 82, 61, 28, 60, 39, 33, 57, 21,  9, 31, 89, 35, 89,\n",
       "       14, 14, 38,  8, 37, 12, 25, 26, 14, 96, 86,  1, 93, 50, 62, 60, 47,\n",
       "       99, 49, 51, 19, 87, 55, 44, 45, 32, 31, 42, 67, 38, 56, 34, 71, 71,\n",
       "       47, 88, 59, 81, 55, 48, 39,  3, 64, 42,  6, 57, 72, 72,  8, 60, 14,\n",
       "       77, 30,  7, 60, 23, 51, 52, 36, 68, 12, 69, 95, 90, 66, 60, 76, 78,\n",
       "       87,  6, 55, 65, 12, 87, 30, 61, 39, 72, 51, 51, 73, 71, 12])"
      ]
     },
     "execution_count": 62,
     "metadata": {},
     "output_type": "execute_result"
    }
   ],
   "source": [
    "cp_rsx = cp.random.choice(gpu_x, size=k, replace=True)\n",
    "\n",
    "cp_rsx"
   ]
  },
  {
   "cell_type": "code",
   "execution_count": 63,
   "id": "ongoing-implementation",
   "metadata": {},
   "outputs": [
    {
     "data": {
      "image/png": "[encoded data removed]",
      "text/plain": [
       "<Figure size 600x200 with 1 Axes>"
      ]
     },
     "metadata": {},
     "output_type": "display_data"
    }
   ],
   "source": [
    "histogram(data = cp.asnumpy(cp_rsx), bins=k)"
   ]
  },
  {
   "cell_type": "markdown",
   "id": "identified-semester",
   "metadata": {},
   "source": [
    "# Pandas\n",
    "\n",
    "Cuối cùng, ta có pandas là một thư viện cấp cao, quy trình chọn mẫu ngẫu nhiên có hoàn lại trong pandas được thực hiện giản dị bằng method sample, cho cả pd.Series và pd.Dataframe.\n",
    "\n",
    "Đây là cách làm đơn giản và được ưa chuộng bởi hầu hết chuyên viên thống kê, do dữ liệu đầu vào thường cũng là pandas dataframe. Tuy nhiên hiệu năng về tốc độ của pandas không hiệu quả bằng 3 thư viện dùng GPU ở trên."
   ]
  },
  {
   "cell_type": "code",
   "execution_count": 65,
   "id": "resident-sierra",
   "metadata": {},
   "outputs": [
    {
     "data": {
      "text/plain": [
       "0      0\n",
       "1      1\n",
       "2      2\n",
       "3      3\n",
       "4      4\n",
       "      ..\n",
       "95    95\n",
       "96    96\n",
       "97    97\n",
       "98    98\n",
       "99    99\n",
       "Length: 100, dtype: int32"
      ]
     },
     "execution_count": 65,
     "metadata": {},
     "output_type": "execute_result"
    }
   ],
   "source": [
    "# pandas series\n",
    "\n",
    "pd_x = pd.Series(x)\n",
    "\n",
    "pd_x"
   ]
  },
  {
   "cell_type": "code",
   "execution_count": 66,
   "id": "tropical-dividend",
   "metadata": {},
   "outputs": [
    {
     "data": {
      "image/png": "[encoded data removed]",
      "text/plain": [
       "<Figure size 600x200 with 1 Axes>"
      ]
     },
     "metadata": {},
     "output_type": "display_data"
    }
   ],
   "source": [
    "pd_rsx = pd_x.sample(n = k, replace = True)\n",
    "\n",
    "histogram(data = pd_rsx, bins=k)"
   ]
  },
  {
   "cell_type": "markdown",
   "id": "helpful-stadium",
   "metadata": {},
   "source": [
    "# Tổng kết\n",
    "\n",
    "Nhi xin được tóm tắt những thông điệp chính từ bài này:\n",
    "\n",
    "1) Sinh mẫu ngẫu nhiên là bộ phận cơ bản và quan trọng nhất trong chương trình bootstrap, ta nên thiết kế nó như 1 hàm riêng\n",
    "\n",
    "2) Ta có thể tiến hành lấy mẫu ngẫu nhiên một cách sơ cấp, thông qua hệ thống index của array, hoặc dùng những method cao cấp như np.choice, hay pd.Series.sample\n",
    "\n",
    "3) Có thể tiến hành cả 2 quy trình sinh mẫu ngẫu nhiên và tính toán thống kê trên GPU, bằng 3 thư viện: tensorflow, pytorch hay cupy\n",
    "\n",
    "Một hàm sinh mẫu ngẫu nhiên tốt cần đáp ứng những tiêu chí như sau:\n",
    "\n",
    "1) Đảm bảo tính ngẫu nhiên của quá trình chọn mẫu;\n",
    "\n",
    "2) Thỏa mãn tính chất Có hoàn lại: một phần tử trong tập dữ liệu gốc có thể tái hiện diện nhiều lần trong mẫu được chọn;\n",
    "\n",
    "3) Cho phép áp dụng thêm những điều kiện nâng cao, thí dụ trọng số xác suất;\n",
    "\n",
    "4) Hiệu năng về tốc độ thi hành, điều này quan trọng hơn ta nghĩ, vì quy trình sinh mẫu ngẫu nhiên này sẽ phải lặp lại hàng ngàn lần, nên cần được tối ưu hóa về tốc độ khi dữ liệu gốc có kích thước rất lớn. Hiệu năng về thời gian của quy trình chọn mẫu ngẫu nhiên phụ thuộc vào 2 tham số là kích thước của dữ liệu gốc (n), kích thước mẫu (k). Bootstrap là trường hợp đặc biệt khi n = k, nên ước tính trung bình có lẽ là O(n * logn).\n",
    "\n",
    "Để tăng tốc độ thi hành trên thực tế trong Python, chúng ta thường có 3 giải pháp:\n",
    "\n",
    "+ Sử dụng các thư viện cấp thấp hoặc cấp cao viết bằng ngôn ngữ C, thí dụ pandas, numpy\n",
    "+ Sử dụng tính toán song song trên nhiều CPU (multithreading)\n",
    "+ Sử dụng các thư viện tính toán trên GPU \n",
    "\n",
    "Bài thực hành tạm dừng, chúc các bạn thực hành vui."
   ]
  }
 ],
 "metadata": {
  "kernelspec": {
   "display_name": "Python 3",
   "language": "python",
   "name": "python3"
  },
  "language_info": {
   "codemirror_mode": {
    "name": "ipython",
    "version": 3
   },
   "file_extension": ".py",
   "mimetype": "text/x-python",
   "name": "python",
   "nbconvert_exporter": "python",
   "pygments_lexer": "ipython3",
   "version": "3.8.5"
  },
  "toc": {
   "base_numbering": 1,
   "nav_menu": {},
   "number_sections": true,
   "sideBar": true,
   "skip_h1_title": false,
   "title_cell": "Table of Contents",
   "title_sidebar": "Contents",
   "toc_cell": false,
   "toc_position": {},
   "toc_section_display": true,
   "toc_window_display": false
  },
  "varInspector": {
   "cols": {
    "lenName": 16,
    "lenType": 16,
    "lenVar": 40
   },
   "kernels_config": {
    "python": {
     "delete_cmd_postfix": "",
     "delete_cmd_prefix": "del ",
     "library": "var_list.py",
     "varRefreshCmd": "print(var_dic_list())"
    },
    "r": {
     "delete_cmd_postfix": ") ",
     "delete_cmd_prefix": "rm(",
     "library": "var_list.r",
     "varRefreshCmd": "cat(var_dic_list()) "
    }
   },
   "types_to_exclude": [
    "module",
    "function",
    "builtin_function_or_method",
    "instance",
    "_Feature"
   ],
   "window_display": false
  }
 },
 "nbformat": 4,
 "nbformat_minor": 5
}
