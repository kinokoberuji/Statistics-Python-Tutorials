{
 "cells": [
  {
   "cell_type": "markdown",
   "id": "upper-asset",
   "metadata": {},
   "source": [
    "# Lập trình bootstrap với Python\n",
    "# Bài 4: Kỹ thuật Bootstrap kép \n",
    "\n",
    "**BS. Lê Ngọc Khả Nhi**\n",
    "\n",
    "# Dẫn nhập\n",
    "\n",
    "Đây là bài thứ 4 của loạt bài về chuyên đề lập trình Bootstrap với ngôn ngữ Python. Trong bài này, Nhi sẽ giới thiệu với các bạn một kỹ thuật khác để ước tính khoảng tin cậy, đó là quy trình bootstrap kép. Ngoài ra, chúng ta sẽ làm một thí nghiệm có độ phức tạp cao hơn khi áp dụng bootstrap cho ma trận array 2 chiều. Như những lần trước, Nhi sẽ trình bày song song 2 giải pháp, chạy trên CPU (numpy) và GPU (Pytorch)."
   ]
  },
  {
   "cell_type": "code",
   "execution_count": 1,
   "id": "pleased-directive",
   "metadata": {},
   "outputs": [],
   "source": [
    "import numpy as np\n",
    "import pandas as pd\n",
    "import scipy.stats as stats\n",
    "import torch\n",
    "from random import choices\n",
    "\n",
    "import seaborn as sns\n",
    "import matplotlib.pyplot as plt"
   ]
  },
  {
   "cell_type": "markdown",
   "id": "likely-cisco",
   "metadata": {},
   "source": [
    "# Bài toán minh họa\n",
    "\n",
    "Nhi tiếp tục sử dụng bộ dữ liệu chức năng hô hấp trên 133 bệnh nhân bệnh phổi mô kẽ (ILD). Lần này mục tiêu đặt ra là khảo sát tương quan giữa 5 chỉ số chức năng hô hấp, bao gồm DLCO, VA, TLC, FVC và FEV1\n",
    "\n",
    "Ta tạo ra 1 numpy array chứa dữ liệu này như bên dưới:"
   ]
  },
  {
   "cell_type": "code",
   "execution_count": 8,
   "id": "radical-external",
   "metadata": {},
   "outputs": [
    {
     "data": {
      "text/html": [
       "<div>\n",
       "<style scoped>\n",
       "    .dataframe tbody tr th:only-of-type {\n",
       "        vertical-align: middle;\n",
       "    }\n",
       "\n",
       "    .dataframe tbody tr th {\n",
       "        vertical-align: top;\n",
       "    }\n",
       "\n",
       "    .dataframe thead th {\n",
       "        text-align: right;\n",
       "    }\n",
       "</style>\n",
       "<table border=\"1\" class=\"dataframe\">\n",
       "  <thead>\n",
       "    <tr style=\"text-align: right;\">\n",
       "      <th></th>\n",
       "      <th>DLCO</th>\n",
       "      <th>VA</th>\n",
       "      <th>TLC</th>\n",
       "      <th>FEV1</th>\n",
       "      <th>FVC</th>\n",
       "    </tr>\n",
       "  </thead>\n",
       "  <tbody>\n",
       "    <tr>\n",
       "      <th>50</th>\n",
       "      <td>11.73</td>\n",
       "      <td>3.98</td>\n",
       "      <td>3.34</td>\n",
       "      <td>1.71</td>\n",
       "      <td>2.13</td>\n",
       "    </tr>\n",
       "    <tr>\n",
       "      <th>52</th>\n",
       "      <td>16.75</td>\n",
       "      <td>5.23</td>\n",
       "      <td>4.88</td>\n",
       "      <td>1.91</td>\n",
       "      <td>2.57</td>\n",
       "    </tr>\n",
       "    <tr>\n",
       "      <th>53</th>\n",
       "      <td>10.59</td>\n",
       "      <td>2.74</td>\n",
       "      <td>3.19</td>\n",
       "      <td>1.39</td>\n",
       "      <td>1.60</td>\n",
       "    </tr>\n",
       "    <tr>\n",
       "      <th>57</th>\n",
       "      <td>8.64</td>\n",
       "      <td>2.80</td>\n",
       "      <td>3.32</td>\n",
       "      <td>1.69</td>\n",
       "      <td>1.72</td>\n",
       "    </tr>\n",
       "    <tr>\n",
       "      <th>58</th>\n",
       "      <td>20.15</td>\n",
       "      <td>5.88</td>\n",
       "      <td>5.43</td>\n",
       "      <td>2.48</td>\n",
       "      <td>3.13</td>\n",
       "    </tr>\n",
       "    <tr>\n",
       "      <th>...</th>\n",
       "      <td>...</td>\n",
       "      <td>...</td>\n",
       "      <td>...</td>\n",
       "      <td>...</td>\n",
       "      <td>...</td>\n",
       "    </tr>\n",
       "    <tr>\n",
       "      <th>374</th>\n",
       "      <td>17.28</td>\n",
       "      <td>3.62</td>\n",
       "      <td>4.95</td>\n",
       "      <td>3.04</td>\n",
       "      <td>3.60</td>\n",
       "    </tr>\n",
       "    <tr>\n",
       "      <th>375</th>\n",
       "      <td>7.77</td>\n",
       "      <td>3.03</td>\n",
       "      <td>3.06</td>\n",
       "      <td>1.32</td>\n",
       "      <td>1.64</td>\n",
       "    </tr>\n",
       "    <tr>\n",
       "      <th>380</th>\n",
       "      <td>10.09</td>\n",
       "      <td>2.93</td>\n",
       "      <td>3.33</td>\n",
       "      <td>1.93</td>\n",
       "      <td>2.19</td>\n",
       "    </tr>\n",
       "    <tr>\n",
       "      <th>386</th>\n",
       "      <td>11.81</td>\n",
       "      <td>2.92</td>\n",
       "      <td>3.53</td>\n",
       "      <td>1.73</td>\n",
       "      <td>1.97</td>\n",
       "    </tr>\n",
       "    <tr>\n",
       "      <th>387</th>\n",
       "      <td>13.72</td>\n",
       "      <td>3.96</td>\n",
       "      <td>4.12</td>\n",
       "      <td>2.20</td>\n",
       "      <td>2.54</td>\n",
       "    </tr>\n",
       "  </tbody>\n",
       "</table>\n",
       "<p>133 rows × 5 columns</p>\n",
       "</div>"
      ],
      "text/plain": [
       "      DLCO    VA   TLC  FEV1   FVC\n",
       "50   11.73  3.98  3.34  1.71  2.13\n",
       "52   16.75  5.23  4.88  1.91  2.57\n",
       "53   10.59  2.74  3.19  1.39  1.60\n",
       "57    8.64  2.80  3.32  1.69  1.72\n",
       "58   20.15  5.88  5.43  2.48  3.13\n",
       "..     ...   ...   ...   ...   ...\n",
       "374  17.28  3.62  4.95  3.04  3.60\n",
       "375   7.77  3.03  3.06  1.32  1.64\n",
       "380  10.09  2.93  3.33  1.93  2.19\n",
       "386  11.81  2.92  3.53  1.73  1.97\n",
       "387  13.72  3.96  4.12  2.20  2.54\n",
       "\n",
       "[133 rows x 5 columns]"
      ]
     },
     "execution_count": 8,
     "metadata": {},
     "output_type": "execute_result"
    }
   ],
   "source": [
    "# Tải dữ liệu \n",
    "\n",
    "path = 'https://raw.githubusercontent.com/kinokoberuji/Statistics-Python-Tutorials/master/Schleroderma.csv'\n",
    "df = pd.read_csv(path, sep = ';', decimal = ',')\n",
    "\n",
    "sample = df[df['ILD'] == 'Positive'][['DLCO','VA','TLC','FEV1','FVC']]\n",
    "\n",
    "sample"
   ]
  },
  {
   "cell_type": "markdown",
   "id": "visible-broadcast",
   "metadata": {},
   "source": [
    "# Quy trình Bootstrap kép\n",
    "\n",
    "Trong bài này, trị số thống kê ta cần ước lượng là hệ số tương quan r theo Pearson, tuy nhiên Nhi sẽ không chỉ muốn dùng Bootstrap ước tính r cho từng cặp biến (2 arrays 1 chiều), nhưng sẽ áp dụng Bootstrap để ước lượng khoảng tin cậy 95% (BCI95%) cho toàn bộ ma trận tương quan 5 x 5 biến.\n",
    "\n",
    "Ta sẽ làm việc này bằng một ký thuật thú vị là Bootstrap kép. Nội dung của quy trình bootstrap kép trên một array dữ liệu có thể tóm tắt ngắn gọn như sau:\n",
    "\n",
    "0) Dữ liệu đầu vào là 1 array X (trong thí dụ này, X có 2 chiều: (k,n)); áp dụng hàm thống kê fs() trên X, ta tính được trị số thống kê mục tiêu là theta_hat\n",
    "\n",
    "\n",
    "+ Sử dụng 1 nested loop gồm 2 vòng lặp lồng vào nhau: \n",
    "\n",
    "1) Trong vòng lặp thứ nhất, ta chọn mẫu ngẫu nhiên có hoàn lại để tạo ra một mẫu gọi là bootsample; áp dụng một hàm thống kê fs() để ước tính trị số thống kê mục tiêu (theta_hat_star, ở đây là ma trận tương quan (k,k)) và lặp lại m1 lượt, mỗi lượt như vậy sẽ lưu kết quả vào một tập hợp theta_hat_stars (ở đây là 1 array 3 chiều: (m1, k, k).\n",
    "\n",
    "2) Tại mỗi lượt bootstrap trong vòng lặp thứ nhất, ta thực hiện vòng bootstrap thứ cấp, gồm m2 lượt tái chọn mẫu. Đầu tiên ta chuẩn bị 1 tập hợp tên là innervalues (trong thí dụ này là 1 array 3 chiều (m2, k, k)); Ta tái chọn mẫu có hoàn lại trên mẫu bootsample hiện thời, để tạo ra mẫu bootstrap thứ cấp là innersample; Ta cũng dùng hàm thống kê fs() để tính trị số thống kê mục tiêu và sao lưu vào tập hợp innervalues.\n",
    "\n",
    "3) Trở lại vòng lặp thứ nhất, sau khi m2 lượt bootstrap đã xong, ta ước tính được sai số chuẩn SE_theta_hat_star trên innervalues; từ đó tính được trị số t = (theta_hat_star - theta_hat) / SE_theta_hat_star; sao lưu giá trị t này vào tập hợp tvalues (ở đây là một array 3 chiều (m1,k,k));\n",
    "\n",
    "4) Sau khi m1 x m2 lượt bootstrap kết thúc, ta ước tính được sai số chuẩn SE_theta_hat của tập hợp giá trị theta_hat_stars;\n",
    "Tiếp theo, ta tính phân vị 2.5 (LL) và 97.5 (UL) của tập hợp tvalues; Sau cùng, ta ước tính ngưỡng trên và dưới khoảng tin cậy 95% từ theta_hat, LL,UL và SE_theta_hat\n",
    "\n",
    "\n",
    "# Giải pháp sử dụng numpy (CPU)\n",
    "\n",
    "Tạo numpy array XY từ dữ liệu 5 biến x 133 cá thể, XY là 1 ma trận (array) shape = (5,133)"
   ]
  },
  {
   "cell_type": "code",
   "execution_count": 39,
   "id": "original-circus",
   "metadata": {},
   "outputs": [
    {
     "data": {
      "text/plain": [
       "(5, 133)"
      ]
     },
     "execution_count": 39,
     "metadata": {},
     "output_type": "execute_result"
    }
   ],
   "source": [
    "XY = sample.values.T\n",
    "\n",
    "XY.shape"
   ]
  },
  {
   "cell_type": "code",
   "execution_count": 40,
   "id": "thick-charge",
   "metadata": {},
   "outputs": [
    {
     "data": {
      "text/plain": [
       "array([[1.        , 0.61557568, 0.53451659, 0.55436493, 0.56167457],\n",
       "       [0.61557568, 1.        , 0.7228848 , 0.63380322, 0.69532735],\n",
       "       [0.53451659, 0.7228848 , 1.        , 0.74469447, 0.82582831],\n",
       "       [0.55436493, 0.63380322, 0.74469447, 1.        , 0.93188789],\n",
       "       [0.56167457, 0.69532735, 0.82582831, 0.93188789, 1.        ]])"
      ]
     },
     "execution_count": 40,
     "metadata": {},
     "output_type": "execute_result"
    }
   ],
   "source": [
    "# Đây là theta_hat: ma trận tương quan 5x5\n",
    "    \n",
    "theta_hat = np.corrcoef(XY)\n",
    "\n",
    "theta_hat"
   ]
  },
  {
   "cell_type": "code",
   "execution_count": 41,
   "id": "obvious-classic",
   "metadata": {},
   "outputs": [],
   "source": [
    "reps1 = 2000 # Vòng bootstrap bên ngoài 2000 lượt\n",
    "reps2 = 1000 # Vòng bên trong 1000 lượt"
   ]
  },
  {
   "cell_type": "markdown",
   "id": "abroad-safety",
   "metadata": {},
   "source": [
    "Tiến hành quy trình bootstrap kép 1000 x 2000 lượt"
   ]
  },
  {
   "cell_type": "code",
   "execution_count": 42,
   "id": "relative-windows",
   "metadata": {},
   "outputs": [],
   "source": [
    "# Số hàng trong ma trận đầu vào\n",
    "k = XY.shape[1]\n",
    "\n",
    "# Tập hợp kết quả vòng lặp bên ngoài\n",
    "tvalues = np.zeros((reps1, XY.shape[0], XY.shape[0]))\n",
    "theta_hat_stars = np.zeros((reps1, XY.shape[0], XY.shape[0]))\n",
    "\n",
    "# Vòng lặp ngoài\n",
    "for r1 in range(reps1):\n",
    "    idx = np.random.choice(np.arange(0,k),k, replace = True)\n",
    "    bootsample = XY[:,idx]\n",
    "    \n",
    "    theta_hat_star = np.corrcoef(bootsample)\n",
    "    theta_hat_stars[r1] = theta_hat_star\n",
    "    \n",
    "    innervalues = np.zeros((reps2, XY.shape[0], XY.shape[0]))\n",
    "    \n",
    "    # Vòng lặp trong\n",
    "    for r2 in range(reps2):\n",
    "        idx = np.random.choice(np.arange(0,k),k, replace = True)\n",
    "        innersample = bootsample[:,idx]\n",
    "        innervalues[r2] = np.corrcoef(innersample)\n",
    "    \n",
    "    SE_theta_hat_star = np.nanstd(innervalues, axis = 0)\n",
    "    t = (theta_hat_star - theta_hat) / SE_theta_hat_star\n",
    "    tvalues[r1] = t\n",
    "\n",
    "# Ước tính 95%BCI \n",
    "SE_theta_hat = np.nanstd(theta_hat_stars, axis = 0)\n",
    "lower = np.quantile(tvalues, 0.025, axis = 0)\n",
    "upper = np.quantile(tvalues, 0.975, axis = 0)\n",
    "CI_lower = theta_hat - SE_theta_hat * upper\n",
    "CI_upper = theta_hat - SE_theta_hat * lower"
   ]
  },
  {
   "cell_type": "markdown",
   "id": "hungry-stick",
   "metadata": {},
   "source": [
    "Đây là ngưỡng dưới"
   ]
  },
  {
   "cell_type": "code",
   "execution_count": 43,
   "id": "straight-airline",
   "metadata": {},
   "outputs": [
    {
     "data": {
      "text/plain": [
       "array([[1.        , 0.45446968, 0.35966568, 0.43091773, 0.42286074],\n",
       "       [0.45446968, 1.        , 0.50472491, 0.50760258, 0.52130645],\n",
       "       [0.35966568, 0.50472491, 1.        , 0.64041721, 0.75131658],\n",
       "       [0.43091773, 0.50760258, 0.64041721, 1.        , 0.90466722],\n",
       "       [0.42286074, 0.52130645, 0.75131658, 0.90466722, 1.        ]])"
      ]
     },
     "execution_count": 43,
     "metadata": {},
     "output_type": "execute_result"
    }
   ],
   "source": [
    "CI_lower"
   ]
  },
  {
   "cell_type": "markdown",
   "id": "accessory-kitchen",
   "metadata": {},
   "source": [
    "Đây là nguỡng trên..."
   ]
  },
  {
   "cell_type": "code",
   "execution_count": 44,
   "id": "following-laser",
   "metadata": {},
   "outputs": [
    {
     "data": {
      "text/plain": [
       "array([[1.        , 0.78540205, 0.70321157, 0.6476862 , 0.66324844],\n",
       "       [0.78540205, 1.        , 0.85876149, 0.73695316, 0.7916485 ],\n",
       "       [0.70321157, 0.85876149, 1.        , 0.81780564, 0.87908088],\n",
       "       [0.6476862 , 0.73695316, 0.81780564, 1.        , 0.95432677],\n",
       "       [0.66324844, 0.7916485 , 0.87908088, 0.95432677, 1.        ]])"
      ]
     },
     "execution_count": 44,
     "metadata": {},
     "output_type": "execute_result"
    }
   ],
   "source": [
    "CI_upper"
   ]
  },
  {
   "cell_type": "markdown",
   "id": "parliamentary-honolulu",
   "metadata": {},
   "source": [
    "Kết quả trên có thể được trình bày thành biểu đồ như sau:"
   ]
  },
  {
   "cell_type": "code",
   "execution_count": 36,
   "id": "operating-anatomy",
   "metadata": {},
   "outputs": [],
   "source": [
    "def CI_corrmat(M_corr,L_corr,U_corr):\n",
    "    \n",
    "    mask = np.triu(np.ones_like(M_corr, dtype=bool))\n",
    "\n",
    "    f, axes = plt.subplots(nrows=1, ncols=3,figsize=(10,3))\n",
    "\n",
    "    axes[1].set_title('Ước tính')\n",
    "    axes[0].set_title('Ngưỡng dưới KTC')\n",
    "    axes[2].set_title('Ngưỡng trên KTC')\n",
    "\n",
    "    for i, cmat in enumerate([L_corr,M_corr,U_corr]):\n",
    "\n",
    "        sns.heatmap(cmat,\n",
    "                        mask=mask, \n",
    "                        vmax= 1.0,\n",
    "                        vmin = -1.0,\n",
    "                        center=0,\n",
    "                        cmap = plt.cm.coolwarm,\n",
    "                        square=True, \n",
    "                        linewidths=.5, \n",
    "                        cbar = False,\n",
    "                       annot=True, fmt=\".3f\",\n",
    "                       ax = axes[i])\n",
    "\n",
    "    plt.show()"
   ]
  },
  {
   "cell_type": "code",
   "execution_count": 45,
   "id": "informative-muscle",
   "metadata": {},
   "outputs": [
    {
     "data": {
      "image/png": "[encoded data removed]",
      "text/plain": [
       "<Figure size 1000x300 with 3 Axes>"
      ]
     },
     "metadata": {},
     "output_type": "display_data"
    }
   ],
   "source": [
    "CI_corrmat(theta_hat ,CI_lower ,CI_upper)"
   ]
  },
  {
   "cell_type": "markdown",
   "id": "sonic-isaac",
   "metadata": {},
   "source": [
    "Ta kiểm tra bằng cách đối chiếu với method corr của pandas:"
   ]
  },
  {
   "cell_type": "code",
   "execution_count": 29,
   "id": "governmental-draft",
   "metadata": {},
   "outputs": [
    {
     "data": {
      "text/html": [
       "<div>\n",
       "<style scoped>\n",
       "    .dataframe tbody tr th:only-of-type {\n",
       "        vertical-align: middle;\n",
       "    }\n",
       "\n",
       "    .dataframe tbody tr th {\n",
       "        vertical-align: top;\n",
       "    }\n",
       "\n",
       "    .dataframe thead th {\n",
       "        text-align: right;\n",
       "    }\n",
       "</style>\n",
       "<table border=\"1\" class=\"dataframe\">\n",
       "  <thead>\n",
       "    <tr style=\"text-align: right;\">\n",
       "      <th></th>\n",
       "      <th>DLCO</th>\n",
       "      <th>VA</th>\n",
       "      <th>TLC</th>\n",
       "      <th>FEV1</th>\n",
       "      <th>FVC</th>\n",
       "    </tr>\n",
       "  </thead>\n",
       "  <tbody>\n",
       "    <tr>\n",
       "      <th>DLCO</th>\n",
       "      <td>1.000000</td>\n",
       "      <td>0.615576</td>\n",
       "      <td>0.534517</td>\n",
       "      <td>0.554365</td>\n",
       "      <td>0.561675</td>\n",
       "    </tr>\n",
       "    <tr>\n",
       "      <th>VA</th>\n",
       "      <td>0.615576</td>\n",
       "      <td>1.000000</td>\n",
       "      <td>0.722885</td>\n",
       "      <td>0.633803</td>\n",
       "      <td>0.695327</td>\n",
       "    </tr>\n",
       "    <tr>\n",
       "      <th>TLC</th>\n",
       "      <td>0.534517</td>\n",
       "      <td>0.722885</td>\n",
       "      <td>1.000000</td>\n",
       "      <td>0.744694</td>\n",
       "      <td>0.825828</td>\n",
       "    </tr>\n",
       "    <tr>\n",
       "      <th>FEV1</th>\n",
       "      <td>0.554365</td>\n",
       "      <td>0.633803</td>\n",
       "      <td>0.744694</td>\n",
       "      <td>1.000000</td>\n",
       "      <td>0.931888</td>\n",
       "    </tr>\n",
       "    <tr>\n",
       "      <th>FVC</th>\n",
       "      <td>0.561675</td>\n",
       "      <td>0.695327</td>\n",
       "      <td>0.825828</td>\n",
       "      <td>0.931888</td>\n",
       "      <td>1.000000</td>\n",
       "    </tr>\n",
       "  </tbody>\n",
       "</table>\n",
       "</div>"
      ],
      "text/plain": [
       "          DLCO        VA       TLC      FEV1       FVC\n",
       "DLCO  1.000000  0.615576  0.534517  0.554365  0.561675\n",
       "VA    0.615576  1.000000  0.722885  0.633803  0.695327\n",
       "TLC   0.534517  0.722885  1.000000  0.744694  0.825828\n",
       "FEV1  0.554365  0.633803  0.744694  1.000000  0.931888\n",
       "FVC   0.561675  0.695327  0.825828  0.931888  1.000000"
      ]
     },
     "execution_count": 29,
     "metadata": {},
     "output_type": "execute_result"
    }
   ],
   "source": [
    "sample.corr(method = 'pearson')"
   ]
  },
  {
   "cell_type": "markdown",
   "id": "sexual-quarter",
   "metadata": {},
   "source": [
    "# Giải pháp sử dụng GPU (Pytorch)\n",
    "\n",
    "Phần tiếp theo trình bày cùng quy trình trên, nhưng thi hành trên GPU sử dụng thư viện Pytorch. \n",
    "\n",
    "Quy trình này cần 2 hàm rời, một là torch_boot_idx để sinh mẫu ngẫu nhiên có hoàn lại; hai là một hàm corrcoef mô phỏng tính năng của hàm corrcoef của thư viện numpy, nhưng cho torch.tensor và cho phép chạy trên GPU."
   ]
  },
  {
   "cell_type": "code",
   "execution_count": 30,
   "id": "balanced-supervision",
   "metadata": {},
   "outputs": [],
   "source": [
    "def torch_boot_idx(pop_size, num_samples):\n",
    "    p = torch.ones(pop_size, device='cuda') / pop_size\n",
    "    return p.multinomial(num_samples=num_samples, replacement=True)"
   ]
  },
  {
   "cell_type": "code",
   "execution_count": 31,
   "id": "crude-pittsburgh",
   "metadata": {},
   "outputs": [],
   "source": [
    "def corrcoef(x):\n",
    "\n",
    "    # Ma trận hiệp phương sai:\n",
    "    mean_x = torch.mean(x, 1)\n",
    "    xm = (x.unsqueeze(0) - mean_x.unsqueeze(1)).reshape(x.size())\n",
    "    c = xm.mm(xm.t())\n",
    "    c = c / (x.size(1) - 1)\n",
    "\n",
    "    # Chuẩn hòa ma trận hiệp phương sai\n",
    "    d = torch.diag(c)\n",
    "    stddev = torch.pow(d, 0.5)\n",
    "    c = c.div(stddev.expand_as(c))\n",
    "    c = c.div(stddev.expand_as(c).t())\n",
    "    \n",
    "    # Chặn 2 đầu -1,1\n",
    "    c = torch.clamp(c, -1.0, 1.0)\n",
    "\n",
    "    return c"
   ]
  },
  {
   "cell_type": "markdown",
   "id": "above-nothing",
   "metadata": {},
   "source": [
    "Dữ liệu đầu vào là 1 tensor 2 chiều tor_X được chuyển từ numpy array ở trên:"
   ]
  },
  {
   "cell_type": "code",
   "execution_count": 46,
   "id": "moving-leave",
   "metadata": {},
   "outputs": [
    {
     "data": {
      "text/plain": [
       "133"
      ]
     },
     "execution_count": 46,
     "metadata": {},
     "output_type": "execute_result"
    }
   ],
   "source": [
    "tor_X = torch.tensor(XY, device = 'cuda', dtype=torch.float32)\n",
    "\n",
    "k = tor_X.shape[1]\n",
    "\n",
    "k"
   ]
  },
  {
   "cell_type": "markdown",
   "id": "silent-raise",
   "metadata": {},
   "source": [
    "Đây là quy trình bootstrap kép trên GPU:"
   ]
  },
  {
   "cell_type": "code",
   "execution_count": 47,
   "id": "serial-scale",
   "metadata": {},
   "outputs": [],
   "source": [
    "reps1 = 2000\n",
    "reps2 = 1000\n",
    "\n",
    "tvalues = torch.zeros(size = (reps1, XY.shape[0], XY.shape[0],),\n",
    "                         device = 'cuda', \n",
    "                         dtype = torch.float32)\n",
    "\n",
    "theta_hat_stars = torch.zeros(size = (reps1, XY.shape[0], XY.shape[0],),\n",
    "                         device = 'cuda', \n",
    "                         dtype = torch.float32)\n",
    "\n",
    "theta_hat = corrcoef(tor_X)\n",
    "\n",
    "for r1 in range(reps1):\n",
    "    \n",
    "    tor_idx = torch_boot_idx(pop_size = k, num_samples = k)\n",
    "    \n",
    "    bootsample = tor_X[:,tor_idx]\n",
    "    \n",
    "    theta_hat_star = corrcoef(bootsample)\n",
    "    theta_hat_stars[r1] = theta_hat_star\n",
    "    \n",
    "    innervalues = torch.zeros(size = (reps2, XY.shape[0], XY.shape[0],),\n",
    "                              device = 'cuda', \n",
    "                              dtype = torch.float32)\n",
    "    \n",
    "    for r2 in range(reps2):\n",
    "        tor_idx = torch_boot_idx(pop_size = k, num_samples = k)\n",
    "        \n",
    "        innersample = bootsample[:,tor_idx]\n",
    "        innervalues[r2] = corrcoef(innersample)\n",
    "    \n",
    "    SE_theta_hat_star = torch.std(innervalues, axis = 0)\n",
    "    t = (theta_hat_star - theta_hat) / SE_theta_hat_star\n",
    "    tvalues[r1] = t\n",
    "    \n",
    "SE_theta_hat = torch.std(theta_hat_stars, axis = 0)\n",
    "lower = torch.quantile(tvalues, 0.025, axis = 0)\n",
    "upper = torch.quantile(tvalues, 0.975, axis = 0)\n",
    "CI_lower = theta_hat - SE_theta_hat * upper\n",
    "CI_upper = theta_hat - SE_theta_hat * lower"
   ]
  },
  {
   "cell_type": "markdown",
   "id": "frank-appraisal",
   "metadata": {},
   "source": [
    "Ta nhận thấy kết quả tương tự như trên:"
   ]
  },
  {
   "cell_type": "code",
   "execution_count": 48,
   "id": "brave-light",
   "metadata": {},
   "outputs": [
    {
     "data": {
      "image/png": "[encoded data removed]",
      "text/plain": [
       "<Figure size 1000x300 with 3 Axes>"
      ]
     },
     "metadata": {},
     "output_type": "display_data"
    }
   ],
   "source": [
    "CI_corrmat(theta_hat.cpu().numpy(),\n",
    "          CI_lower.cpu().numpy(),\n",
    "           CI_upper.cpu().numpy()\n",
    "          )"
   ]
  },
  {
   "cell_type": "markdown",
   "id": "enhanced-whole",
   "metadata": {},
   "source": [
    "Qua bài thực hành này, các bạn biết thêm một kỹ thuật khác là bootstrap kép để ước tính khoảng tin cậy. Ngoài ra, ta có thể nhận ra rằng sau công đoạn tái chọn mẫu, ta có thể làm bất cứ quy trình phức tạp nào trên các mẫu ngẫu nhiên này, chứ không chỉ đơn giản là ước tính vài trị số thống kê. Trong thí dụ này, ước lượng thống kê có bản chất là tính toán trên ma trận 2 chiều và sử dụng toàn array và tensor để làm placeholder chứa kết quả là những con số , tuy nhiên ta cũng có thể ước tính hàng loạt trị số thống kê khác nhau và sử dụng những cấu trúc dữ liệu khác như pandas dataframe hay python dictionary.\n",
    "\n",
    "Chúc các bạn thực hành vui."
   ]
  }
 ],
 "metadata": {
  "kernelspec": {
   "display_name": "Python 3",
   "language": "python",
   "name": "python3"
  },
  "language_info": {
   "codemirror_mode": {
    "name": "ipython",
    "version": 3
   },
   "file_extension": ".py",
   "mimetype": "text/x-python",
   "name": "python",
   "nbconvert_exporter": "python",
   "pygments_lexer": "ipython3",
   "version": "3.8.5"
  },
  "toc": {
   "base_numbering": 1,
   "nav_menu": {},
   "number_sections": true,
   "sideBar": true,
   "skip_h1_title": false,
   "title_cell": "Table of Contents",
   "title_sidebar": "Contents",
   "toc_cell": false,
   "toc_position": {},
   "toc_section_display": true,
   "toc_window_display": false
  },
  "varInspector": {
   "cols": {
    "lenName": 16,
    "lenType": 16,
    "lenVar": 40
   },
   "kernels_config": {
    "python": {
     "delete_cmd_postfix": "",
     "delete_cmd_prefix": "del ",
     "library": "var_list.py",
     "varRefreshCmd": "print(var_dic_list())"
    },
    "r": {
     "delete_cmd_postfix": ") ",
     "delete_cmd_prefix": "rm(",
     "library": "var_list.r",
     "varRefreshCmd": "cat(var_dic_list()) "
    }
   },
   "types_to_exclude": [
    "module",
    "function",
    "builtin_function_or_method",
    "instance",
    "_Feature"
   ],
   "window_display": false
  }
 },
 "nbformat": 4,
 "nbformat_minor": 5
}
